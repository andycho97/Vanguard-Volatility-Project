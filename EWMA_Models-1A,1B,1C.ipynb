{
 "cells": [
  {
   "cell_type": "code",
   "execution_count": 279,
   "metadata": {},
   "outputs": [],
   "source": [
    "import pandas as pd\n",
    "import numpy as np\n",
    "import matplotlib.pyplot as plt\n",
    "import seaborn as sns\n",
    "from numpy import log, square, sqrt, power, arange, ones, zeros, isscalar,\\\n",
    "    array, outer, pi, sin, cos, expand_dims, repeat, full, concatenate, ravel\n",
    "from numpy.random import normal\n",
    "from scipy.optimize import least_squares, minimize\n",
    "%matplotlib inline"
   ]
  },
  {
   "cell_type": "code",
   "execution_count": 626,
   "metadata": {},
   "outputs": [
    {
     "name": "stderr",
     "output_type": "stream",
     "text": [
      "/opt/anaconda3/lib/python3.7/site-packages/ipykernel_launcher.py:19: SettingWithCopyWarning: \n",
      "A value is trying to be set on a copy of a slice from a DataFrame.\n",
      "Try using .loc[row_indexer,col_indexer] = value instead\n",
      "\n",
      "See the caveats in the documentation: https://pandas.pydata.org/pandas-docs/stable/user_guide/indexing.html#returning-a-view-versus-a-copy\n"
     ]
    }
   ],
   "source": [
    "# Trade data\n",
    "\n",
    "stock_name = 'MSFT.O'\n",
    "#NSQ_OneYear100closeA_Sept21.csv\n",
    "df = pd.read_csv('NSQ_OneYear100test_Sept21.csv', \n",
    "                   usecols=['Local_Date_Time','RIC','Open','High','Low','Close','VWAP','NumberOfTrades','Volume'],\n",
    "                   dtype={'Local_Date_Time': str,\n",
    "                          'RIC': str, \n",
    "                          'Open': np.float64,\n",
    "                          'High': np.float64,\n",
    "                          'Low': np.float64,\n",
    "                          'Close': np.float64,\n",
    "                          'VWAP': np.float64,\n",
    "                          'NumberOfTrades': int,\n",
    "                          'Volume': int},\n",
    "                   skipinitialspace=True,\n",
    "                   parse_dates=True)\n",
    "apple = df[df['RIC'] == stock_name]\n",
    "apple['Date'] = pd.to_datetime(apple['Local_Date_Time']).dt.date\n",
    "\n",
    "qqq = pd.read_csv('QQQ_OneYear100test_Sept21.csv', \n",
    "                   usecols=['Local_Date_Time','RIC','Open','High','Low','Close','VWAP','NumberOfTrades','Volume'],\n",
    "                   dtype={'Local_Date_Time': str,\n",
    "                          'RIC': str, \n",
    "                          'Open': np.float64,\n",
    "                          'High': np.float64,\n",
    "                          'Low': np.float64,\n",
    "                          'Close': np.float64,\n",
    "                          'VWAP': np.float64,\n",
    "                          'NumberOfTrades': int,\n",
    "                          'Volume': int},\n",
    "                   skipinitialspace=True,\n",
    "                   parse_dates=True)\n",
    "qqq['Date'] = pd.to_datetime(qqq['Local_Date_Time']).dt.date"
   ]
  },
  {
   "cell_type": "code",
   "execution_count": 627,
   "metadata": {},
   "outputs": [
    {
     "name": "stderr",
     "output_type": "stream",
     "text": [
      "/opt/anaconda3/lib/python3.7/site-packages/ipykernel_launcher.py:6: SettingWithCopyWarning: \n",
      "A value is trying to be set on a copy of a slice from a DataFrame.\n",
      "Try using .loc[row_indexer,col_indexer] = value instead\n",
      "\n",
      "See the caveats in the documentation: https://pandas.pydata.org/pandas-docs/stable/user_guide/indexing.html#returning-a-view-versus-a-copy\n",
      "  \n"
     ]
    }
   ],
   "source": [
    "# Auction price data\n",
    "auction = pd.read_csv('NSQ_OneYear100closeA_Sept21.csv',\n",
    "                      skipinitialspace=True,\n",
    "                      parse_dates=True)\n",
    "apple_auction = auction[auction['RIC'] == stock_name]\n",
    "apple_auction['Date'] = pd.to_datetime(apple_auction['Local_Date_Time']).dt.date\n",
    "\n",
    "auction_qqq = pd.read_csv('QQQ_OneYear100closeA_Sept21.csv',\n",
    "                      skipinitialspace=True,\n",
    "                      parse_dates=True)\n",
    "auction_qqq['Date'] = pd.to_datetime(auction_qqq['Local_Date_Time']).dt.date"
   ]
  },
  {
   "cell_type": "markdown",
   "metadata": {},
   "source": [
    "### Model 1A"
   ]
  },
  {
   "cell_type": "markdown",
   "metadata": {},
   "source": [
    "Question 1A: How well does $\\sigma_{t}^{2}$ forecast $\\sigma_{t+1}^{2}$ ? Is it biased?"
   ]
  },
  {
   "cell_type": "code",
   "execution_count": 628,
   "metadata": {},
   "outputs": [],
   "source": [
    "# Data Processing (10 minute intervals)\n",
    "\n",
    "dates = apple['Date'].unique()\n",
    "dates_final = []\n",
    "stocks = []\n",
    "daily_return = []\n",
    "auction_log_returns = []\n",
    "auction_log_returns_340350 = []\n",
    "daily_volatility = []\n",
    "daily_volatility_minus4pm = []\n",
    "avg_20day_volatility = []\n",
    "\n",
    "for date in dates:\n",
    "    \n",
    "    apple_today = apple[apple['Date'] == date]\n",
    "    apple_auction_today = apple_auction[apple_auction['Date'] == date]\n",
    "    apple_today = apple_today.set_index(pd.DatetimeIndex(apple_today['Local_Date_Time']))\n",
    "    apple_today_10min_max = pd.DataFrame(apple_today['High'].resample(\"10T\").max())\n",
    "    apple_today_10min_min = pd.DataFrame(apple_today['Low'].resample(\"10T\").min())\n",
    "    apple_today_10min_open = pd.DataFrame(apple_today['Open'].resample(\"10T\").first())\n",
    "    apple_today_10min_close = pd.DataFrame(apple_today['Close'].resample(\"10T\").last())\n",
    "    apple_today_10min = apple_today_10min_max.join(apple_today_10min_min)\n",
    "    apple_today_10min = apple_today_10min.join(apple_today_10min_open)\n",
    "    apple_today_10min = apple_today_10min.join(apple_today_10min_close)\n",
    "    \n",
    "    # Garman and Klass Volatility formula\n",
    "    apple_today_10min['Volatility'] = np.sqrt(0.5*np.square(np.log(apple_today_10min['High']/apple_today_10min['Low'])) - (2*np.log(2)-1)*np.square(np.log(apple_today_10min['Close']/apple_today_10min['Open'])))\n",
    "#     apple_today_10min['log_returns'] = abs(np.log(apple_today_10min['Close']/apple_today_10min['Open'])) # alternate volatility formula\n",
    "    \n",
    "    volatility_today = [val for val in apple_today_10min['Volatility'].values]\n",
    "    return_today = (apple_today_10min['Close']/apple_today_10min['Open']).values\n",
    "    \n",
    "    if len(volatility_today) != 39: # Skip if there are fewer than 390 minutes of trading data\n",
    "        continue\n",
    "        \n",
    "    # Dates for which the trade data is complete\n",
    "    dates_final.append(date)\n",
    "    \n",
    "    # Change the 39th 10min interval to include the auction price (instead of close)\n",
    "    auction_volatility = np.sqrt(0.5*np.square(np.log(apple_today_10min['High'][-1]/apple_today_10min['Low'][-1])) - (2*np.log(2)-1)*np.square(np.log(apple_auction_today['Price'].iloc[0]/apple_today_10min['Open'][-1])))\n",
    "    volatility_today[-1] = auction_volatility\n",
    "    \n",
    "    # 10 minute interval volatility * number of complete trade days\n",
    "    stocks.append(volatility_today)\n",
    "    \n",
    "    # Daily raw return\n",
    "    daily_return.append(return_today)\n",
    "        \n",
    "    # Auction Volatility Information\n",
    "    auction_log_returns_today = abs(np.log(apple_auction_today['Price'].iloc[0]/apple_today_10min['Open'][-1]))\n",
    "    auction_log_returns.append(auction_log_returns_today)\n",
    "    \n",
    "    # Naive Auction Volatility Estimate (Volatility between 3:40pm and 3:50pm)\n",
    "    auction_log_returns_today_340350 = abs(np.log(apple_today_10min['Open'][-1]/apple_today_10min['Open'][-2]))\n",
    "    auction_log_returns_340350.append(auction_log_returns_today_340350)\n",
    "    \n",
    "    # Average daily volatility (later used for EWMA 20Day)\n",
    "    daily_volatility.append(sum(volatility_today))\n",
    "    daily_volatility_minus4pm.append(sum(volatility_today[:-1]))\n",
    "\n",
    "daily_return = np.array(daily_return)\n",
    "volatility_df = pd.DataFrame({'Date':dates_final, 'daily_volatility': daily_volatility, 'daily_volatility_minus4pm': daily_volatility_minus4pm})\n",
    "volatility_df['volatility_ewma20'] = np.array([None] + [i for i in volatility_df['daily_volatility'].ewm(span=20).mean()][:-1])\n",
    "\n",
    "stocks = stocks[20:]\n",
    "stocks = np.vstack(stocks).T # Training data for Anderson model\n",
    "avg_20day_volatility_raw = np.array(volatility_df['volatility_ewma20'])\n",
    "avg_20day_volatility = np.array(volatility_df['volatility_ewma20'][20:]) # Sigma_t input for Anderson model\n"
   ]
  },
  {
   "cell_type": "code",
   "execution_count": 629,
   "metadata": {},
   "outputs": [],
   "source": [
    "df_mod1A = pd.DataFrame()\n",
    "r1 = volatility_df['Date'].values\n",
    "df_mod1A['Date'] = r1[20:]\n",
    "df_mod1A['Actual Volatility'] = daily_volatility[20:]\n",
    "df_mod1A['Predicted Volatility'] = avg_20day_volatility_raw[20:] # span=20 EWMA up to t-1"
   ]
  },
  {
   "cell_type": "code",
   "execution_count": 630,
   "metadata": {},
   "outputs": [
    {
     "data": {
      "text/html": [
       "<div>\n",
       "<style scoped>\n",
       "    .dataframe tbody tr th:only-of-type {\n",
       "        vertical-align: middle;\n",
       "    }\n",
       "\n",
       "    .dataframe tbody tr th {\n",
       "        vertical-align: top;\n",
       "    }\n",
       "\n",
       "    .dataframe thead th {\n",
       "        text-align: right;\n",
       "    }\n",
       "</style>\n",
       "<table border=\"1\" class=\"dataframe\">\n",
       "  <thead>\n",
       "    <tr style=\"text-align: right;\">\n",
       "      <th></th>\n",
       "      <th>Date</th>\n",
       "      <th>Actual Volatility</th>\n",
       "      <th>Predicted Volatility</th>\n",
       "    </tr>\n",
       "  </thead>\n",
       "  <tbody>\n",
       "    <tr>\n",
       "      <th>0</th>\n",
       "      <td>2020-09-30</td>\n",
       "      <td>0.088772</td>\n",
       "      <td>0.103816</td>\n",
       "    </tr>\n",
       "    <tr>\n",
       "      <th>1</th>\n",
       "      <td>2020-10-01</td>\n",
       "      <td>0.077314</td>\n",
       "      <td>0.102183</td>\n",
       "    </tr>\n",
       "    <tr>\n",
       "      <th>2</th>\n",
       "      <td>2020-10-02</td>\n",
       "      <td>0.095458</td>\n",
       "      <td>0.09952</td>\n",
       "    </tr>\n",
       "    <tr>\n",
       "      <th>3</th>\n",
       "      <td>2020-10-05</td>\n",
       "      <td>0.047998</td>\n",
       "      <td>0.09909</td>\n",
       "    </tr>\n",
       "    <tr>\n",
       "      <th>4</th>\n",
       "      <td>2020-10-06</td>\n",
       "      <td>0.089049</td>\n",
       "      <td>0.09374</td>\n",
       "    </tr>\n",
       "    <tr>\n",
       "      <th>...</th>\n",
       "      <td>...</td>\n",
       "      <td>...</td>\n",
       "      <td>...</td>\n",
       "    </tr>\n",
       "    <tr>\n",
       "      <th>226</th>\n",
       "      <td>2021-08-26</td>\n",
       "      <td>0.039340</td>\n",
       "      <td>0.045074</td>\n",
       "    </tr>\n",
       "    <tr>\n",
       "      <th>227</th>\n",
       "      <td>2021-08-27</td>\n",
       "      <td>0.040844</td>\n",
       "      <td>0.044528</td>\n",
       "    </tr>\n",
       "    <tr>\n",
       "      <th>228</th>\n",
       "      <td>2021-08-30</td>\n",
       "      <td>0.037412</td>\n",
       "      <td>0.044177</td>\n",
       "    </tr>\n",
       "    <tr>\n",
       "      <th>229</th>\n",
       "      <td>2021-08-31</td>\n",
       "      <td>0.038066</td>\n",
       "      <td>0.043533</td>\n",
       "    </tr>\n",
       "    <tr>\n",
       "      <th>230</th>\n",
       "      <td>2021-09-01</td>\n",
       "      <td>0.041111</td>\n",
       "      <td>0.043012</td>\n",
       "    </tr>\n",
       "  </tbody>\n",
       "</table>\n",
       "<p>231 rows × 3 columns</p>\n",
       "</div>"
      ],
      "text/plain": [
       "           Date  Actual Volatility Predicted Volatility\n",
       "0    2020-09-30           0.088772             0.103816\n",
       "1    2020-10-01           0.077314             0.102183\n",
       "2    2020-10-02           0.095458              0.09952\n",
       "3    2020-10-05           0.047998              0.09909\n",
       "4    2020-10-06           0.089049              0.09374\n",
       "..          ...                ...                  ...\n",
       "226  2021-08-26           0.039340             0.045074\n",
       "227  2021-08-27           0.040844             0.044528\n",
       "228  2021-08-30           0.037412             0.044177\n",
       "229  2021-08-31           0.038066             0.043533\n",
       "230  2021-09-01           0.041111             0.043012\n",
       "\n",
       "[231 rows x 3 columns]"
      ]
     },
     "execution_count": 630,
     "metadata": {},
     "output_type": "execute_result"
    }
   ],
   "source": [
    "df_mod1A"
   ]
  },
  {
   "cell_type": "code",
   "execution_count": 631,
   "metadata": {},
   "outputs": [
    {
     "name": "stdout",
     "output_type": "stream",
     "text": [
      "0.0135350492578639\n",
      "0.0003258929382127227\n",
      "0.3412783324820632\n"
     ]
    }
   ],
   "source": [
    "from sklearn.metrics import mean_squared_error, mean_absolute_error, r2_score\n",
    "\n",
    "print(mean_absolute_error(df_mod1A['Actual Volatility'][-211:], df_mod1A['Predicted Volatility'][-211:]))\n",
    "print(mean_squared_error(df_mod1A['Actual Volatility'][-211:], df_mod1A['Predicted Volatility'][-211:]))\n",
    "print(r2_score(df_mod1A['Actual Volatility'][-211:], df_mod1A['Predicted Volatility'][-211:]))"
   ]
  },
  {
   "cell_type": "code",
   "execution_count": 632,
   "metadata": {},
   "outputs": [
    {
     "data": {
      "text/plain": [
       "[<matplotlib.lines.Line2D at 0x7fd9569def90>]"
      ]
     },
     "execution_count": 632,
     "metadata": {},
     "output_type": "execute_result"
    },
    {
     "data": {
      "image/png": "[encoded data removed]",
      "text/plain": [
       "<Figure size 432x288 with 1 Axes>"
      ]
     },
     "metadata": {
      "needs_background": "light"
     },
     "output_type": "display_data"
    }
   ],
   "source": [
    "plt.plot(df_mod1A['Actual Volatility'])\n",
    "plt.plot(df_mod1A['Predicted Volatility'])"
   ]
  },
  {
   "cell_type": "code",
   "execution_count": 633,
   "metadata": {},
   "outputs": [
    {
     "data": {
      "image/png": "[encoded data removed]",
      "text/plain": [
       "<Figure size 432x288 with 1 Axes>"
      ]
     },
     "metadata": {
      "needs_background": "light"
     },
     "output_type": "display_data"
    }
   ],
   "source": [
    "plt.hist(df_mod1A['Actual Volatility'] - df_mod1A['Predicted Volatility'], bins=100)\n",
    "plt.show()"
   ]
  },
  {
   "cell_type": "markdown",
   "metadata": {},
   "source": [
    "### Model 1B"
   ]
  },
  {
   "cell_type": "markdown",
   "metadata": {},
   "source": [
    "Question 1B: How well does $\\sigma_{t,B}^{2}$ forecast $\\sigma_{t+1,B}^{2}$ ? Is it biased?"
   ]
  },
  {
   "cell_type": "code",
   "execution_count": 634,
   "metadata": {},
   "outputs": [
    {
     "data": {
      "text/html": [
       "<div>\n",
       "<style scoped>\n",
       "    .dataframe tbody tr th:only-of-type {\n",
       "        vertical-align: middle;\n",
       "    }\n",
       "\n",
       "    .dataframe tbody tr th {\n",
       "        vertical-align: top;\n",
       "    }\n",
       "\n",
       "    .dataframe thead th {\n",
       "        text-align: right;\n",
       "    }\n",
       "</style>\n",
       "<table border=\"1\" class=\"dataframe\">\n",
       "  <thead>\n",
       "    <tr style=\"text-align: right;\">\n",
       "      <th></th>\n",
       "      <th>Date</th>\n",
       "      <th>daily_volatility</th>\n",
       "      <th>daily_volatility_minus4pm</th>\n",
       "      <th>volatility_ewma20</th>\n",
       "      <th>auction</th>\n",
       "      <th>volatility_ewma20_minus4pm</th>\n",
       "      <th>volatility_ewma20_auction</th>\n",
       "    </tr>\n",
       "  </thead>\n",
       "  <tbody>\n",
       "    <tr>\n",
       "      <th>0</th>\n",
       "      <td>2020-09-01</td>\n",
       "      <td>0.070265</td>\n",
       "      <td>0.067671</td>\n",
       "      <td>None</td>\n",
       "      <td>0.002594</td>\n",
       "      <td>None</td>\n",
       "      <td>None</td>\n",
       "    </tr>\n",
       "    <tr>\n",
       "      <th>1</th>\n",
       "      <td>2020-09-02</td>\n",
       "      <td>0.100873</td>\n",
       "      <td>0.098039</td>\n",
       "      <td>0.070265</td>\n",
       "      <td>0.002834</td>\n",
       "      <td>0.067671</td>\n",
       "      <td>0.002594</td>\n",
       "    </tr>\n",
       "    <tr>\n",
       "      <th>2</th>\n",
       "      <td>2020-09-03</td>\n",
       "      <td>0.173458</td>\n",
       "      <td>0.164862</td>\n",
       "      <td>0.086334</td>\n",
       "      <td>0.008596</td>\n",
       "      <td>0.083614</td>\n",
       "      <td>0.00272</td>\n",
       "    </tr>\n",
       "    <tr>\n",
       "      <th>3</th>\n",
       "      <td>2020-09-04</td>\n",
       "      <td>0.237680</td>\n",
       "      <td>0.232795</td>\n",
       "      <td>0.118326</td>\n",
       "      <td>0.004885</td>\n",
       "      <td>0.113448</td>\n",
       "      <td>0.004878</td>\n",
       "    </tr>\n",
       "    <tr>\n",
       "      <th>4</th>\n",
       "      <td>2020-09-08</td>\n",
       "      <td>0.153812</td>\n",
       "      <td>0.149448</td>\n",
       "      <td>0.152781</td>\n",
       "      <td>0.004364</td>\n",
       "      <td>0.147902</td>\n",
       "      <td>0.00488</td>\n",
       "    </tr>\n",
       "    <tr>\n",
       "      <th>...</th>\n",
       "      <td>...</td>\n",
       "      <td>...</td>\n",
       "      <td>...</td>\n",
       "      <td>...</td>\n",
       "      <td>...</td>\n",
       "      <td>...</td>\n",
       "      <td>...</td>\n",
       "    </tr>\n",
       "    <tr>\n",
       "      <th>246</th>\n",
       "      <td>2021-08-26</td>\n",
       "      <td>0.039340</td>\n",
       "      <td>0.037776</td>\n",
       "      <td>0.045074</td>\n",
       "      <td>0.001563</td>\n",
       "      <td>0.043584</td>\n",
       "      <td>0.00149</td>\n",
       "    </tr>\n",
       "    <tr>\n",
       "      <th>247</th>\n",
       "      <td>2021-08-27</td>\n",
       "      <td>0.040844</td>\n",
       "      <td>0.039283</td>\n",
       "      <td>0.044528</td>\n",
       "      <td>0.001561</td>\n",
       "      <td>0.043031</td>\n",
       "      <td>0.001497</td>\n",
       "    </tr>\n",
       "    <tr>\n",
       "      <th>248</th>\n",
       "      <td>2021-08-30</td>\n",
       "      <td>0.037412</td>\n",
       "      <td>0.036178</td>\n",
       "      <td>0.044177</td>\n",
       "      <td>0.001234</td>\n",
       "      <td>0.042674</td>\n",
       "      <td>0.001503</td>\n",
       "    </tr>\n",
       "    <tr>\n",
       "      <th>249</th>\n",
       "      <td>2021-08-31</td>\n",
       "      <td>0.038066</td>\n",
       "      <td>0.034968</td>\n",
       "      <td>0.043533</td>\n",
       "      <td>0.003098</td>\n",
       "      <td>0.042055</td>\n",
       "      <td>0.001477</td>\n",
       "    </tr>\n",
       "    <tr>\n",
       "      <th>250</th>\n",
       "      <td>2021-09-01</td>\n",
       "      <td>0.041111</td>\n",
       "      <td>0.039075</td>\n",
       "      <td>0.043012</td>\n",
       "      <td>0.002035</td>\n",
       "      <td>0.04138</td>\n",
       "      <td>0.001632</td>\n",
       "    </tr>\n",
       "  </tbody>\n",
       "</table>\n",
       "<p>251 rows × 7 columns</p>\n",
       "</div>"
      ],
      "text/plain": [
       "           Date  daily_volatility  daily_volatility_minus4pm  \\\n",
       "0    2020-09-01          0.070265                   0.067671   \n",
       "1    2020-09-02          0.100873                   0.098039   \n",
       "2    2020-09-03          0.173458                   0.164862   \n",
       "3    2020-09-04          0.237680                   0.232795   \n",
       "4    2020-09-08          0.153812                   0.149448   \n",
       "..          ...               ...                        ...   \n",
       "246  2021-08-26          0.039340                   0.037776   \n",
       "247  2021-08-27          0.040844                   0.039283   \n",
       "248  2021-08-30          0.037412                   0.036178   \n",
       "249  2021-08-31          0.038066                   0.034968   \n",
       "250  2021-09-01          0.041111                   0.039075   \n",
       "\n",
       "    volatility_ewma20   auction volatility_ewma20_minus4pm  \\\n",
       "0                None  0.002594                       None   \n",
       "1            0.070265  0.002834                   0.067671   \n",
       "2            0.086334  0.008596                   0.083614   \n",
       "3            0.118326  0.004885                   0.113448   \n",
       "4            0.152781  0.004364                   0.147902   \n",
       "..                ...       ...                        ...   \n",
       "246          0.045074  0.001563                   0.043584   \n",
       "247          0.044528  0.001561                   0.043031   \n",
       "248          0.044177  0.001234                   0.042674   \n",
       "249          0.043533  0.003098                   0.042055   \n",
       "250          0.043012  0.002035                    0.04138   \n",
       "\n",
       "    volatility_ewma20_auction  \n",
       "0                        None  \n",
       "1                    0.002594  \n",
       "2                     0.00272  \n",
       "3                    0.004878  \n",
       "4                     0.00488  \n",
       "..                        ...  \n",
       "246                   0.00149  \n",
       "247                  0.001497  \n",
       "248                  0.001503  \n",
       "249                  0.001477  \n",
       "250                  0.001632  \n",
       "\n",
       "[251 rows x 7 columns]"
      ]
     },
     "execution_count": 634,
     "metadata": {},
     "output_type": "execute_result"
    }
   ],
   "source": [
    "volatility_df['auction'] = volatility_df['daily_volatility'] - volatility_df['daily_volatility_minus4pm']\n",
    "volatility_df['volatility_ewma20_minus4pm'] = np.array([None] + [i for i in volatility_df['daily_volatility_minus4pm'].ewm(span=20).mean()][:-1])\n",
    "volatility_df['volatility_ewma20_auction'] = np.array([None] + [i for i in volatility_df['auction'].ewm(span=20).mean()][:-1])\n",
    "volatility_df"
   ]
  },
  {
   "cell_type": "code",
   "execution_count": null,
   "metadata": {},
   "outputs": [],
   "source": []
  },
  {
   "cell_type": "code",
   "execution_count": 635,
   "metadata": {},
   "outputs": [],
   "source": [
    "df_mod1B = pd.DataFrame()\n",
    "df_mod1B['Date'] = volatility_df['Date'][20:]\n",
    "df_mod1B['Actual Volatility'] = volatility_df['auction'][20:]\n",
    "df_mod1B['Predicted Volatility'] = volatility_df['volatility_ewma20_auction'][20:]"
   ]
  },
  {
   "cell_type": "code",
   "execution_count": 636,
   "metadata": {},
   "outputs": [
    {
     "data": {
      "text/html": [
       "<div>\n",
       "<style scoped>\n",
       "    .dataframe tbody tr th:only-of-type {\n",
       "        vertical-align: middle;\n",
       "    }\n",
       "\n",
       "    .dataframe tbody tr th {\n",
       "        vertical-align: top;\n",
       "    }\n",
       "\n",
       "    .dataframe thead th {\n",
       "        text-align: right;\n",
       "    }\n",
       "</style>\n",
       "<table border=\"1\" class=\"dataframe\">\n",
       "  <thead>\n",
       "    <tr style=\"text-align: right;\">\n",
       "      <th></th>\n",
       "      <th>Date</th>\n",
       "      <th>Actual Volatility</th>\n",
       "      <th>Predicted Volatility</th>\n",
       "    </tr>\n",
       "  </thead>\n",
       "  <tbody>\n",
       "    <tr>\n",
       "      <th>20</th>\n",
       "      <td>2020-09-30</td>\n",
       "      <td>0.004056</td>\n",
       "      <td>0.003529</td>\n",
       "    </tr>\n",
       "    <tr>\n",
       "      <th>21</th>\n",
       "      <td>2020-10-01</td>\n",
       "      <td>0.002168</td>\n",
       "      <td>0.003586</td>\n",
       "    </tr>\n",
       "    <tr>\n",
       "      <th>22</th>\n",
       "      <td>2020-10-02</td>\n",
       "      <td>0.003133</td>\n",
       "      <td>0.003434</td>\n",
       "    </tr>\n",
       "    <tr>\n",
       "      <th>23</th>\n",
       "      <td>2020-10-05</td>\n",
       "      <td>0.001451</td>\n",
       "      <td>0.003402</td>\n",
       "    </tr>\n",
       "    <tr>\n",
       "      <th>24</th>\n",
       "      <td>2020-10-06</td>\n",
       "      <td>0.004327</td>\n",
       "      <td>0.003198</td>\n",
       "    </tr>\n",
       "    <tr>\n",
       "      <th>...</th>\n",
       "      <td>...</td>\n",
       "      <td>...</td>\n",
       "      <td>...</td>\n",
       "    </tr>\n",
       "    <tr>\n",
       "      <th>246</th>\n",
       "      <td>2021-08-26</td>\n",
       "      <td>0.001563</td>\n",
       "      <td>0.00149</td>\n",
       "    </tr>\n",
       "    <tr>\n",
       "      <th>247</th>\n",
       "      <td>2021-08-27</td>\n",
       "      <td>0.001561</td>\n",
       "      <td>0.001497</td>\n",
       "    </tr>\n",
       "    <tr>\n",
       "      <th>248</th>\n",
       "      <td>2021-08-30</td>\n",
       "      <td>0.001234</td>\n",
       "      <td>0.001503</td>\n",
       "    </tr>\n",
       "    <tr>\n",
       "      <th>249</th>\n",
       "      <td>2021-08-31</td>\n",
       "      <td>0.003098</td>\n",
       "      <td>0.001477</td>\n",
       "    </tr>\n",
       "    <tr>\n",
       "      <th>250</th>\n",
       "      <td>2021-09-01</td>\n",
       "      <td>0.002035</td>\n",
       "      <td>0.001632</td>\n",
       "    </tr>\n",
       "  </tbody>\n",
       "</table>\n",
       "<p>231 rows × 3 columns</p>\n",
       "</div>"
      ],
      "text/plain": [
       "           Date  Actual Volatility Predicted Volatility\n",
       "20   2020-09-30           0.004056             0.003529\n",
       "21   2020-10-01           0.002168             0.003586\n",
       "22   2020-10-02           0.003133             0.003434\n",
       "23   2020-10-05           0.001451             0.003402\n",
       "24   2020-10-06           0.004327             0.003198\n",
       "..          ...                ...                  ...\n",
       "246  2021-08-26           0.001563              0.00149\n",
       "247  2021-08-27           0.001561             0.001497\n",
       "248  2021-08-30           0.001234             0.001503\n",
       "249  2021-08-31           0.003098             0.001477\n",
       "250  2021-09-01           0.002035             0.001632\n",
       "\n",
       "[231 rows x 3 columns]"
      ]
     },
     "execution_count": 636,
     "metadata": {},
     "output_type": "execute_result"
    }
   ],
   "source": [
    "df_mod1B"
   ]
  },
  {
   "cell_type": "code",
   "execution_count": 637,
   "metadata": {},
   "outputs": [
    {
     "name": "stdout",
     "output_type": "stream",
     "text": [
      "0.0008432325974463128\n",
      "1.2705192340659731e-06\n",
      "0.2119040511941237\n"
     ]
    }
   ],
   "source": [
    "print(mean_absolute_error(df_mod1B['Actual Volatility'][-211:], df_mod1B['Predicted Volatility'][-211:]))\n",
    "print(mean_squared_error(df_mod1B['Actual Volatility'][-211:], df_mod1B['Predicted Volatility'][-211:]))\n",
    "print(r2_score(df_mod1B['Actual Volatility'][-211:], df_mod1B['Predicted Volatility'][-211:]))"
   ]
  },
  {
   "cell_type": "code",
   "execution_count": 638,
   "metadata": {},
   "outputs": [
    {
     "data": {
      "text/plain": [
       "[<matplotlib.lines.Line2D at 0x7fd3948a97d0>]"
      ]
     },
     "execution_count": 638,
     "metadata": {},
     "output_type": "execute_result"
    },
    {
     "data": {
      "image/png": "[encoded data removed]",
      "text/plain": [
       "<Figure size 432x288 with 1 Axes>"
      ]
     },
     "metadata": {
      "needs_background": "light"
     },
     "output_type": "display_data"
    }
   ],
   "source": [
    "plt.plot(df_mod1B['Actual Volatility'])\n",
    "plt.plot(df_mod1B['Predicted Volatility'])"
   ]
  },
  {
   "cell_type": "code",
   "execution_count": 639,
   "metadata": {},
   "outputs": [
    {
     "data": {
      "image/png": "[encoded data removed]",
      "text/plain": [
       "<Figure size 432x288 with 1 Axes>"
      ]
     },
     "metadata": {
      "needs_background": "light"
     },
     "output_type": "display_data"
    }
   ],
   "source": [
    "plt.hist(df_mod1B['Actual Volatility'] - df_mod1B['Predicted Volatility'], bins=100)\n",
    "plt.show()"
   ]
  },
  {
   "cell_type": "markdown",
   "metadata": {},
   "source": [
    "### Model 1C"
   ]
  },
  {
   "cell_type": "markdown",
   "metadata": {},
   "source": [
    "Question 1C: How well does $\\gamma\\sigma_{t}^{2}$, where $\\gamma = \\dfrac{\\sigma_{t+1,A}^{2}}{\\sigma_{t,A}^{2}}$ forecast $\\sigma_{t+1,B}^{2}$ ? Is it biased? \\\n",
    "(A corresponds to 9:30:00 to 15:49:59\\\n",
    "B corresponds to 15:50:00 to 16:00:00)"
   ]
  },
  {
   "cell_type": "code",
   "execution_count": 640,
   "metadata": {},
   "outputs": [],
   "source": [
    "volatility_df['volatility_ewma20_minus4pm_yest'] = volatility_df['volatility_ewma20_minus4pm'].shift(1)\n",
    "volatility_df['volatility_ewma20_auction_1c'] = volatility_df['daily_volatility_minus4pm']/volatility_df['volatility_ewma20_minus4pm_yest']*volatility_df['volatility_ewma20_auction']\n"
   ]
  },
  {
   "cell_type": "code",
   "execution_count": 641,
   "metadata": {},
   "outputs": [],
   "source": [
    "df_mod1C = pd.DataFrame()\n",
    "df_mod1C['Date'] = volatility_df['Date'][20:]\n",
    "df_mod1C['Actual_Volatility'] = volatility_df['auction'][20:]\n",
    "df_mod1C['Predicted_Volatility'] = volatility_df['volatility_ewma20_auction_1c'][20:]"
   ]
  },
  {
   "cell_type": "code",
   "execution_count": 642,
   "metadata": {},
   "outputs": [
    {
     "name": "stdout",
     "output_type": "stream",
     "text": [
      "0.000779948170270515\n",
      "1.0810582500684706e-06\n",
      "0.3294256360247343\n"
     ]
    }
   ],
   "source": [
    "print(mean_absolute_error(df_mod1C['Actual_Volatility'][-211:], df_mod1C['Predicted_Volatility'][-211:]))\n",
    "print(mean_squared_error(df_mod1C['Actual_Volatility'][-211:], df_mod1C['Predicted_Volatility'][-211:]))\n",
    "print(r2_score(df_mod1C['Actual_Volatility'][-211:], df_mod1C['Predicted_Volatility'][-211:]))"
   ]
  },
  {
   "cell_type": "code",
   "execution_count": 643,
   "metadata": {},
   "outputs": [
    {
     "data": {
      "text/plain": [
       "[<matplotlib.lines.Line2D at 0x7fd622466410>]"
      ]
     },
     "execution_count": 643,
     "metadata": {},
     "output_type": "execute_result"
    },
    {
     "data": {
      "image/png": "[encoded data removed]",
      "text/plain": [
       "<Figure size 432x288 with 1 Axes>"
      ]
     },
     "metadata": {
      "needs_background": "light"
     },
     "output_type": "display_data"
    }
   ],
   "source": [
    "plt.plot(df_mod1C['Actual_Volatility'])\n",
    "plt.plot(df_mod1C['Predicted_Volatility'])"
   ]
  },
  {
   "cell_type": "code",
   "execution_count": 644,
   "metadata": {},
   "outputs": [
    {
     "data": {
      "image/png": "[encoded data removed]",
      "text/plain": [
       "<Figure size 432x288 with 1 Axes>"
      ]
     },
     "metadata": {
      "needs_background": "light"
     },
     "output_type": "display_data"
    }
   ],
   "source": [
    "plt.hist(df_mod1C['Actual_Volatility'] - df_mod1C['Predicted_Volatility'], bins=100)\n",
    "plt.show()"
   ]
  },
  {
   "cell_type": "code",
   "execution_count": 665,
   "metadata": {},
   "outputs": [
    {
     "data": {
      "image/png": "[encoded data removed]",
      "text/plain": [
       "<Figure size 432x288 with 1 Axes>"
      ]
     },
     "metadata": {
      "needs_background": "light"
     },
     "output_type": "display_data"
    }
   ],
   "source": [
    "import matplotlib.lines as mlines\n",
    "\n",
    "plt.scatter(df_mod1C['Predicted_Volatility'], df_mod1C['Actual_Volatility'], alpha=0.5)\n",
    "plt.xlabel(\"Predicted Auction Volatility\")\n",
    "# plt.xlim([0.0005, 0.0060])\n",
    "plt.ylabel(\"Actual Auction Volatility\")\n",
    "plt.title('Actual vs. Predicted Auction Volatility')\n",
    "plt.show()"
   ]
  },
  {
   "cell_type": "code",
   "execution_count": 666,
   "metadata": {},
   "outputs": [
    {
     "name": "stdout",
     "output_type": "stream",
     "text": [
      "                                 OLS Regression Results                                \n",
      "=======================================================================================\n",
      "Dep. Variable:      Actual_Volatility   R-squared (uncentered):                   0.870\n",
      "Model:                            OLS   Adj. R-squared (uncentered):              0.869\n",
      "Method:                 Least Squares   F-statistic:                              1535.\n",
      "Date:                Mon, 13 Dec 2021   Prob (F-statistic):                   9.29e-104\n",
      "Time:                        11:04:59   Log-Likelihood:                          1264.6\n",
      "No. Observations:                 231   AIC:                                     -2527.\n",
      "Df Residuals:                     230   BIC:                                     -2524.\n",
      "Df Model:                           1                                                  \n",
      "Covariance Type:            nonrobust                                                  \n",
      "========================================================================================\n",
      "                           coef    std err          t      P>|t|      [0.025      0.975]\n",
      "----------------------------------------------------------------------------------------\n",
      "Predicted_Volatility     0.9854      0.025     39.182      0.000       0.936       1.035\n",
      "==============================================================================\n",
      "Omnibus:                       31.784   Durbin-Watson:                   1.758\n",
      "Prob(Omnibus):                  0.000   Jarque-Bera (JB):               54.973\n",
      "Skew:                           0.749   Prob(JB):                     1.16e-12\n",
      "Kurtosis:                       4.862   Cond. No.                         1.00\n",
      "==============================================================================\n",
      "\n",
      "Notes:\n",
      "[1] R² is computed without centering (uncentered) since the model does not contain a constant.\n",
      "[2] Standard Errors assume that the covariance matrix of the errors is correctly specified.\n"
     ]
    }
   ],
   "source": [
    "import statsmodels.api as sm\n",
    "\n",
    "X = df_mod1C['Predicted_Volatility']\n",
    "Y = df_mod1C['Actual_Volatility']\n",
    "\n",
    "model = sm.OLS(Y, X.astype(float)).fit() \n",
    "print(model.summary())"
   ]
  },
  {
   "cell_type": "code",
   "execution_count": null,
   "metadata": {},
   "outputs": [],
   "source": []
  },
  {
   "cell_type": "code",
   "execution_count": null,
   "metadata": {},
   "outputs": [],
   "source": []
  }
 ],
 "metadata": {
  "kernelspec": {
   "display_name": "Python 3",
   "language": "python",
   "name": "python3"
  },
  "language_info": {
   "codemirror_mode": {
    "name": "ipython",
    "version": 3
   },
   "file_extension": ".py",
   "mimetype": "text/x-python",
   "name": "python",
   "nbconvert_exporter": "python",
   "pygments_lexer": "ipython3",
   "version": "3.7.9"
  }
 },
 "nbformat": 4,
 "nbformat_minor": 4
}
