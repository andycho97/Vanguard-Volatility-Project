{
 "cells": [
  {
   "cell_type": "code",
   "execution_count": 279,
   "metadata": {},
   "outputs": [],
   "source": [
    "import pandas as pd\n",
    "import numpy as np\n",
    "import matplotlib.pyplot as plt\n",
    "import seaborn as sns\n",
    "from numpy import log, square, sqrt, power, arange, ones, zeros, isscalar,\\\n",
    "    array, outer, pi, sin, cos, expand_dims, repeat, full, concatenate, ravel\n",
    "from numpy.random import normal\n",
    "from scipy.optimize import least_squares, minimize\n",
    "%matplotlib inline"
   ]
  },
  {
   "cell_type": "code",
   "execution_count": 762,
   "metadata": {},
   "outputs": [
    {
     "name": "stderr",
     "output_type": "stream",
     "text": [
      "/opt/anaconda3/lib/python3.7/site-packages/ipykernel_launcher.py:19: SettingWithCopyWarning: \n",
      "A value is trying to be set on a copy of a slice from a DataFrame.\n",
      "Try using .loc[row_indexer,col_indexer] = value instead\n",
      "\n",
      "See the caveats in the documentation: https://pandas.pydata.org/pandas-docs/stable/user_guide/indexing.html#returning-a-view-versus-a-copy\n"
     ]
    }
   ],
   "source": [
    "# Trade data\n",
    "\n",
    "stock_name = 'GOOGL.O'\n",
    "#NSQ_OneYear100closeA_Sept21.csv\n",
    "df = pd.read_csv('NSQ_OneYear100test_Sept21.csv', \n",
    "                   usecols=['Local_Date_Time','RIC','Open','High','Low','Close','VWAP','NumberOfTrades','Volume'],\n",
    "                   dtype={'Local_Date_Time': str,\n",
    "                          'RIC': str, \n",
    "                          'Open': np.float64,\n",
    "                          'High': np.float64,\n",
    "                          'Low': np.float64,\n",
    "                          'Close': np.float64,\n",
    "                          'VWAP': np.float64,\n",
    "                          'NumberOfTrades': int,\n",
    "                          'Volume': int},\n",
    "                   skipinitialspace=True,\n",
    "                   parse_dates=True)\n",
    "apple = df[df['RIC'] == stock_name]\n",
    "apple['Date'] = pd.to_datetime(apple['Local_Date_Time']).dt.date\n",
    "\n",
    "qqq = pd.read_csv('QQQ_OneYear100test_Sept21.csv', \n",
    "                   usecols=['Local_Date_Time','RIC','Open','High','Low','Close','VWAP','NumberOfTrades','Volume'],\n",
    "                   dtype={'Local_Date_Time': str,\n",
    "                          'RIC': str, \n",
    "                          'Open': np.float64,\n",
    "                          'High': np.float64,\n",
    "                          'Low': np.float64,\n",
    "                          'Close': np.float64,\n",
    "                          'VWAP': np.float64,\n",
    "                          'NumberOfTrades': int,\n",
    "                          'Volume': int},\n",
    "                   skipinitialspace=True,\n",
    "                   parse_dates=True)\n",
    "qqq['Date'] = pd.to_datetime(qqq['Local_Date_Time']).dt.date"
   ]
  },
  {
   "cell_type": "code",
   "execution_count": 763,
   "metadata": {},
   "outputs": [
    {
     "name": "stderr",
     "output_type": "stream",
     "text": [
      "/opt/anaconda3/lib/python3.7/site-packages/ipykernel_launcher.py:6: SettingWithCopyWarning: \n",
      "A value is trying to be set on a copy of a slice from a DataFrame.\n",
      "Try using .loc[row_indexer,col_indexer] = value instead\n",
      "\n",
      "See the caveats in the documentation: https://pandas.pydata.org/pandas-docs/stable/user_guide/indexing.html#returning-a-view-versus-a-copy\n",
      "  \n"
     ]
    }
   ],
   "source": [
    "# Auction price data\n",
    "auction = pd.read_csv('NSQ_OneYear100closeA_Sept21.csv',\n",
    "                      skipinitialspace=True,\n",
    "                      parse_dates=True)\n",
    "apple_auction = auction[auction['RIC'] == stock_name]\n",
    "apple_auction['Date'] = pd.to_datetime(apple_auction['Local_Date_Time']).dt.date\n",
    "\n",
    "auction_qqq = pd.read_csv('QQQ_OneYear100closeA_Sept21.csv',\n",
    "                      skipinitialspace=True,\n",
    "                      parse_dates=True)\n",
    "auction_qqq['Date'] = pd.to_datetime(auction_qqq['Local_Date_Time']).dt.date"
   ]
  },
  {
   "cell_type": "markdown",
   "metadata": {},
   "source": [
    "### Model 1A"
   ]
  },
  {
   "cell_type": "markdown",
   "metadata": {},
   "source": [
    "Question 1A: How well does $\\sigma_{t}^{2}$ forecast $\\sigma_{t+1}^{2}$ ? Is it biased?"
   ]
  },
  {
   "cell_type": "code",
   "execution_count": 764,
   "metadata": {},
   "outputs": [],
   "source": [
    "# Data Processing (10 minute intervals)\n",
    "\n",
    "dates = apple['Date'].unique()\n",
    "dates_final = []\n",
    "stocks = []\n",
    "daily_return = []\n",
    "auction_log_returns = []\n",
    "auction_log_returns_340350 = []\n",
    "daily_volatility = []\n",
    "daily_volatility_minus4pm = []\n",
    "avg_20day_volatility = []\n",
    "\n",
    "prices_350 = []\n",
    "prices_auction = []\n",
    "\n",
    "for date in dates:\n",
    "    \n",
    "    apple_today = apple[apple['Date'] == date]\n",
    "    apple_auction_today = apple_auction[apple_auction['Date'] == date]\n",
    "    apple_today = apple_today.set_index(pd.DatetimeIndex(apple_today['Local_Date_Time']))\n",
    "    apple_today_10min_max = pd.DataFrame(apple_today['High'].resample(\"10T\").max())\n",
    "    apple_today_10min_min = pd.DataFrame(apple_today['Low'].resample(\"10T\").min())\n",
    "    apple_today_10min_open = pd.DataFrame(apple_today['Open'].resample(\"10T\").first())\n",
    "    apple_today_10min_close = pd.DataFrame(apple_today['Close'].resample(\"10T\").last())\n",
    "    apple_today_10min = apple_today_10min_max.join(apple_today_10min_min)\n",
    "    apple_today_10min = apple_today_10min.join(apple_today_10min_open)\n",
    "    apple_today_10min = apple_today_10min.join(apple_today_10min_close)\n",
    "    \n",
    "    # Garman and Klass Volatility formula\n",
    "    apple_today_10min['Volatility'] = np.sqrt(0.5*np.square(np.log(apple_today_10min['High']/apple_today_10min['Low'])) - (2*np.log(2)-1)*np.square(np.log(apple_today_10min['Close']/apple_today_10min['Open'])))\n",
    "#     apple_today_10min['log_returns'] = abs(np.log(apple_today_10min['Close']/apple_today_10min['Open'])) # alternate volatility formula\n",
    "    \n",
    "    volatility_today = [val for val in apple_today_10min['Volatility'].values]\n",
    "    return_today = (apple_today_10min['Close']/apple_today_10min['Open']).values\n",
    "    \n",
    "    if len(volatility_today) != 39: # Skip if there are fewer than 390 minutes of trading data\n",
    "        continue\n",
    "        \n",
    "    prices_350.append(apple_today_10min.iloc[-1]['Open'])\n",
    "    prices_auction.append(apple_auction_today.iloc[0]['Price'])\n",
    "        \n",
    "    # Dates for which the trade data is complete\n",
    "    dates_final.append(date)\n",
    "    \n",
    "    # Change the 39th 10min interval to include the auction price (instead of close)\n",
    "    auction_volatility = np.sqrt(0.5*np.square(np.log(apple_today_10min['High'][-1]/apple_today_10min['Low'][-1])) - (2*np.log(2)-1)*np.square(np.log(apple_auction_today['Price'].iloc[0]/apple_today_10min['Open'][-1])))\n",
    "    volatility_today[-1] = auction_volatility\n",
    "    \n",
    "    # 10 minute interval volatility * number of complete trade days\n",
    "    stocks.append(volatility_today)\n",
    "    \n",
    "    # Daily raw return\n",
    "    daily_return.append(return_today)\n",
    "        \n",
    "    # Auction Volatility Information\n",
    "    auction_log_returns_today = abs(np.log(apple_auction_today['Price'].iloc[0]/apple_today_10min['Open'][-1]))\n",
    "    auction_log_returns.append(auction_log_returns_today)\n",
    "    \n",
    "    # Naive Auction Volatility Estimate (Volatility between 3:40pm and 3:50pm)\n",
    "    auction_log_returns_today_340350 = abs(np.log(apple_today_10min['Open'][-1]/apple_today_10min['Open'][-2]))\n",
    "    auction_log_returns_340350.append(auction_log_returns_today_340350)\n",
    "    \n",
    "    # Average daily volatility (later used for EWMA 20Day)\n",
    "    daily_volatility.append(sum(volatility_today))\n",
    "    daily_volatility_minus4pm.append(sum(volatility_today[:-1]))\n",
    "\n",
    "daily_return = np.array(daily_return)\n",
    "volatility_df = pd.DataFrame({'Date':dates_final, 'daily_volatility': daily_volatility, 'daily_volatility_minus4pm': daily_volatility_minus4pm})\n",
    "volatility_df['volatility_ewma20'] = np.array([None] + [i for i in volatility_df['daily_volatility'].ewm(span=20).mean()][:-1])\n",
    "\n",
    "stocks = stocks[20:]\n",
    "stocks = np.vstack(stocks).T # Training data for Anderson model\n",
    "avg_20day_volatility_raw = np.array(volatility_df['volatility_ewma20'])\n",
    "avg_20day_volatility = np.array(volatility_df['volatility_ewma20'][20:]) # Sigma_t input for Anderson model\n"
   ]
  },
  {
   "cell_type": "code",
   "execution_count": 765,
   "metadata": {},
   "outputs": [],
   "source": [
    "df_mod1A = pd.DataFrame()\n",
    "r1 = volatility_df['Date'].values\n",
    "df_mod1A['Date'] = r1[20:]\n",
    "df_mod1A['Actual Volatility'] = daily_volatility[20:]\n",
    "df_mod1A['Predicted Volatility'] = avg_20day_volatility_raw[20:] # span=20 EWMA up to t-1"
   ]
  },
  {
   "cell_type": "code",
   "execution_count": 766,
   "metadata": {},
   "outputs": [
    {
     "data": {
      "text/html": [
       "<div>\n",
       "<style scoped>\n",
       "    .dataframe tbody tr th:only-of-type {\n",
       "        vertical-align: middle;\n",
       "    }\n",
       "\n",
       "    .dataframe tbody tr th {\n",
       "        vertical-align: top;\n",
       "    }\n",
       "\n",
       "    .dataframe thead th {\n",
       "        text-align: right;\n",
       "    }\n",
       "</style>\n",
       "<table border=\"1\" class=\"dataframe\">\n",
       "  <thead>\n",
       "    <tr style=\"text-align: right;\">\n",
       "      <th></th>\n",
       "      <th>Date</th>\n",
       "      <th>Actual Volatility</th>\n",
       "      <th>Predicted Volatility</th>\n",
       "    </tr>\n",
       "  </thead>\n",
       "  <tbody>\n",
       "    <tr>\n",
       "      <th>0</th>\n",
       "      <td>2020-09-30</td>\n",
       "      <td>0.086464</td>\n",
       "      <td>0.094576</td>\n",
       "    </tr>\n",
       "    <tr>\n",
       "      <th>1</th>\n",
       "      <td>2020-10-01</td>\n",
       "      <td>0.077917</td>\n",
       "      <td>0.093696</td>\n",
       "    </tr>\n",
       "    <tr>\n",
       "      <th>2</th>\n",
       "      <td>2020-10-02</td>\n",
       "      <td>0.097555</td>\n",
       "      <td>0.092006</td>\n",
       "    </tr>\n",
       "    <tr>\n",
       "      <th>3</th>\n",
       "      <td>2020-10-05</td>\n",
       "      <td>0.061457</td>\n",
       "      <td>0.092593</td>\n",
       "    </tr>\n",
       "    <tr>\n",
       "      <th>4</th>\n",
       "      <td>2020-10-06</td>\n",
       "      <td>0.091812</td>\n",
       "      <td>0.089333</td>\n",
       "    </tr>\n",
       "    <tr>\n",
       "      <th>...</th>\n",
       "      <td>...</td>\n",
       "      <td>...</td>\n",
       "      <td>...</td>\n",
       "    </tr>\n",
       "    <tr>\n",
       "      <th>226</th>\n",
       "      <td>2021-08-26</td>\n",
       "      <td>0.037413</td>\n",
       "      <td>0.043962</td>\n",
       "    </tr>\n",
       "    <tr>\n",
       "      <th>227</th>\n",
       "      <td>2021-08-27</td>\n",
       "      <td>0.040490</td>\n",
       "      <td>0.043338</td>\n",
       "    </tr>\n",
       "    <tr>\n",
       "      <th>228</th>\n",
       "      <td>2021-08-30</td>\n",
       "      <td>0.035938</td>\n",
       "      <td>0.043067</td>\n",
       "    </tr>\n",
       "    <tr>\n",
       "      <th>229</th>\n",
       "      <td>2021-08-31</td>\n",
       "      <td>0.036280</td>\n",
       "      <td>0.042388</td>\n",
       "    </tr>\n",
       "    <tr>\n",
       "      <th>230</th>\n",
       "      <td>2021-09-01</td>\n",
       "      <td>0.035722</td>\n",
       "      <td>0.041806</td>\n",
       "    </tr>\n",
       "  </tbody>\n",
       "</table>\n",
       "<p>231 rows × 3 columns</p>\n",
       "</div>"
      ],
      "text/plain": [
       "           Date  Actual Volatility Predicted Volatility\n",
       "0    2020-09-30           0.086464             0.094576\n",
       "1    2020-10-01           0.077917             0.093696\n",
       "2    2020-10-02           0.097555             0.092006\n",
       "3    2020-10-05           0.061457             0.092593\n",
       "4    2020-10-06           0.091812             0.089333\n",
       "..          ...                ...                  ...\n",
       "226  2021-08-26           0.037413             0.043962\n",
       "227  2021-08-27           0.040490             0.043338\n",
       "228  2021-08-30           0.035938             0.043067\n",
       "229  2021-08-31           0.036280             0.042388\n",
       "230  2021-09-01           0.035722             0.041806\n",
       "\n",
       "[231 rows x 3 columns]"
      ]
     },
     "execution_count": 766,
     "metadata": {},
     "output_type": "execute_result"
    }
   ],
   "source": [
    "df_mod1A"
   ]
  },
  {
   "cell_type": "code",
   "execution_count": 767,
   "metadata": {},
   "outputs": [
    {
     "name": "stdout",
     "output_type": "stream",
     "text": [
      "0.014733082253569327\n",
      "0.0003934077036643071\n",
      "0.42933444020259304\n"
     ]
    }
   ],
   "source": [
    "from sklearn.metrics import mean_squared_error, mean_absolute_error, r2_score\n",
    "\n",
    "print(mean_absolute_error(df_mod1A['Actual Volatility'][-211:], df_mod1A['Predicted Volatility'][-211:]))\n",
    "print(mean_squared_error(df_mod1A['Actual Volatility'][-211:], df_mod1A['Predicted Volatility'][-211:]))\n",
    "print(r2_score(df_mod1A['Actual Volatility'][-211:], df_mod1A['Predicted Volatility'][-211:]))"
   ]
  },
  {
   "cell_type": "code",
   "execution_count": 768,
   "metadata": {},
   "outputs": [
    {
     "data": {
      "text/plain": [
       "[<matplotlib.lines.Line2D at 0x7fd379fe7a50>]"
      ]
     },
     "execution_count": 768,
     "metadata": {},
     "output_type": "execute_result"
    },
    {
     "data": {
      "image/png": "[encoded data removed]",
      "text/plain": [
       "<Figure size 432x288 with 1 Axes>"
      ]
     },
     "metadata": {
      "needs_background": "light"
     },
     "output_type": "display_data"
    }
   ],
   "source": [
    "plt.plot(df_mod1A['Actual Volatility'])\n",
    "plt.plot(df_mod1A['Predicted Volatility'])"
   ]
  },
  {
   "cell_type": "code",
   "execution_count": 769,
   "metadata": {},
   "outputs": [
    {
     "data": {
      "image/png": "[encoded data removed]",
      "text/plain": [
       "<Figure size 432x288 with 1 Axes>"
      ]
     },
     "metadata": {
      "needs_background": "light"
     },
     "output_type": "display_data"
    }
   ],
   "source": [
    "plt.hist(df_mod1A['Actual Volatility'] - df_mod1A['Predicted Volatility'], bins=100)\n",
    "plt.show()"
   ]
  },
  {
   "cell_type": "markdown",
   "metadata": {},
   "source": [
    "### Model 1B"
   ]
  },
  {
   "cell_type": "markdown",
   "metadata": {},
   "source": [
    "Question 1B: How well does $\\sigma_{t,B}^{2}$ forecast $\\sigma_{t+1,B}^{2}$ ? Is it biased?"
   ]
  },
  {
   "cell_type": "code",
   "execution_count": 770,
   "metadata": {},
   "outputs": [
    {
     "data": {
      "text/html": [
       "<div>\n",
       "<style scoped>\n",
       "    .dataframe tbody tr th:only-of-type {\n",
       "        vertical-align: middle;\n",
       "    }\n",
       "\n",
       "    .dataframe tbody tr th {\n",
       "        vertical-align: top;\n",
       "    }\n",
       "\n",
       "    .dataframe thead th {\n",
       "        text-align: right;\n",
       "    }\n",
       "</style>\n",
       "<table border=\"1\" class=\"dataframe\">\n",
       "  <thead>\n",
       "    <tr style=\"text-align: right;\">\n",
       "      <th></th>\n",
       "      <th>Date</th>\n",
       "      <th>daily_volatility</th>\n",
       "      <th>daily_volatility_minus4pm</th>\n",
       "      <th>volatility_ewma20</th>\n",
       "      <th>auction</th>\n",
       "      <th>volatility_ewma20_minus4pm</th>\n",
       "      <th>volatility_ewma20_auction</th>\n",
       "    </tr>\n",
       "  </thead>\n",
       "  <tbody>\n",
       "    <tr>\n",
       "      <th>0</th>\n",
       "      <td>2020-09-01</td>\n",
       "      <td>0.061950</td>\n",
       "      <td>0.058720</td>\n",
       "      <td>None</td>\n",
       "      <td>0.003230</td>\n",
       "      <td>None</td>\n",
       "      <td>None</td>\n",
       "    </tr>\n",
       "    <tr>\n",
       "      <th>1</th>\n",
       "      <td>2020-09-02</td>\n",
       "      <td>0.088641</td>\n",
       "      <td>0.085249</td>\n",
       "      <td>0.06195</td>\n",
       "      <td>0.003391</td>\n",
       "      <td>0.05872</td>\n",
       "      <td>0.00323</td>\n",
       "    </tr>\n",
       "    <tr>\n",
       "      <th>2</th>\n",
       "      <td>2020-09-03</td>\n",
       "      <td>0.160063</td>\n",
       "      <td>0.152205</td>\n",
       "      <td>0.075963</td>\n",
       "      <td>0.007858</td>\n",
       "      <td>0.072648</td>\n",
       "      <td>0.003315</td>\n",
       "    </tr>\n",
       "    <tr>\n",
       "      <th>3</th>\n",
       "      <td>2020-09-04</td>\n",
       "      <td>0.196968</td>\n",
       "      <td>0.194313</td>\n",
       "      <td>0.106844</td>\n",
       "      <td>0.002656</td>\n",
       "      <td>0.101861</td>\n",
       "      <td>0.004983</td>\n",
       "    </tr>\n",
       "    <tr>\n",
       "      <th>4</th>\n",
       "      <td>2020-09-08</td>\n",
       "      <td>0.137512</td>\n",
       "      <td>0.133745</td>\n",
       "      <td>0.132861</td>\n",
       "      <td>0.003767</td>\n",
       "      <td>0.12855</td>\n",
       "      <td>0.004311</td>\n",
       "    </tr>\n",
       "    <tr>\n",
       "      <th>...</th>\n",
       "      <td>...</td>\n",
       "      <td>...</td>\n",
       "      <td>...</td>\n",
       "      <td>...</td>\n",
       "      <td>...</td>\n",
       "      <td>...</td>\n",
       "      <td>...</td>\n",
       "    </tr>\n",
       "    <tr>\n",
       "      <th>246</th>\n",
       "      <td>2021-08-26</td>\n",
       "      <td>0.037413</td>\n",
       "      <td>0.035585</td>\n",
       "      <td>0.043962</td>\n",
       "      <td>0.001828</td>\n",
       "      <td>0.042406</td>\n",
       "      <td>0.001556</td>\n",
       "    </tr>\n",
       "    <tr>\n",
       "      <th>247</th>\n",
       "      <td>2021-08-27</td>\n",
       "      <td>0.040490</td>\n",
       "      <td>0.038427</td>\n",
       "      <td>0.043338</td>\n",
       "      <td>0.002063</td>\n",
       "      <td>0.041756</td>\n",
       "      <td>0.001582</td>\n",
       "    </tr>\n",
       "    <tr>\n",
       "      <th>248</th>\n",
       "      <td>2021-08-30</td>\n",
       "      <td>0.035938</td>\n",
       "      <td>0.034838</td>\n",
       "      <td>0.043067</td>\n",
       "      <td>0.001100</td>\n",
       "      <td>0.041439</td>\n",
       "      <td>0.001628</td>\n",
       "    </tr>\n",
       "    <tr>\n",
       "      <th>249</th>\n",
       "      <td>2021-08-31</td>\n",
       "      <td>0.036280</td>\n",
       "      <td>0.033199</td>\n",
       "      <td>0.042388</td>\n",
       "      <td>0.003081</td>\n",
       "      <td>0.040811</td>\n",
       "      <td>0.001578</td>\n",
       "    </tr>\n",
       "    <tr>\n",
       "      <th>250</th>\n",
       "      <td>2021-09-01</td>\n",
       "      <td>0.035722</td>\n",
       "      <td>0.034174</td>\n",
       "      <td>0.041806</td>\n",
       "      <td>0.001548</td>\n",
       "      <td>0.040086</td>\n",
       "      <td>0.001721</td>\n",
       "    </tr>\n",
       "  </tbody>\n",
       "</table>\n",
       "<p>251 rows × 7 columns</p>\n",
       "</div>"
      ],
      "text/plain": [
       "           Date  daily_volatility  daily_volatility_minus4pm  \\\n",
       "0    2020-09-01          0.061950                   0.058720   \n",
       "1    2020-09-02          0.088641                   0.085249   \n",
       "2    2020-09-03          0.160063                   0.152205   \n",
       "3    2020-09-04          0.196968                   0.194313   \n",
       "4    2020-09-08          0.137512                   0.133745   \n",
       "..          ...               ...                        ...   \n",
       "246  2021-08-26          0.037413                   0.035585   \n",
       "247  2021-08-27          0.040490                   0.038427   \n",
       "248  2021-08-30          0.035938                   0.034838   \n",
       "249  2021-08-31          0.036280                   0.033199   \n",
       "250  2021-09-01          0.035722                   0.034174   \n",
       "\n",
       "    volatility_ewma20   auction volatility_ewma20_minus4pm  \\\n",
       "0                None  0.003230                       None   \n",
       "1             0.06195  0.003391                    0.05872   \n",
       "2            0.075963  0.007858                   0.072648   \n",
       "3            0.106844  0.002656                   0.101861   \n",
       "4            0.132861  0.003767                    0.12855   \n",
       "..                ...       ...                        ...   \n",
       "246          0.043962  0.001828                   0.042406   \n",
       "247          0.043338  0.002063                   0.041756   \n",
       "248          0.043067  0.001100                   0.041439   \n",
       "249          0.042388  0.003081                   0.040811   \n",
       "250          0.041806  0.001548                   0.040086   \n",
       "\n",
       "    volatility_ewma20_auction  \n",
       "0                        None  \n",
       "1                     0.00323  \n",
       "2                    0.003315  \n",
       "3                    0.004983  \n",
       "4                    0.004311  \n",
       "..                        ...  \n",
       "246                  0.001556  \n",
       "247                  0.001582  \n",
       "248                  0.001628  \n",
       "249                  0.001578  \n",
       "250                  0.001721  \n",
       "\n",
       "[251 rows x 7 columns]"
      ]
     },
     "execution_count": 770,
     "metadata": {},
     "output_type": "execute_result"
    }
   ],
   "source": [
    "volatility_df['auction'] = volatility_df['daily_volatility'] - volatility_df['daily_volatility_minus4pm']\n",
    "volatility_df['volatility_ewma20_minus4pm'] = np.array([None] + [i for i in volatility_df['daily_volatility_minus4pm'].ewm(span=20).mean()][:-1])\n",
    "volatility_df['volatility_ewma20_auction'] = np.array([None] + [i for i in volatility_df['auction'].ewm(span=20).mean()][:-1])\n",
    "volatility_df"
   ]
  },
  {
   "cell_type": "code",
   "execution_count": null,
   "metadata": {},
   "outputs": [],
   "source": []
  },
  {
   "cell_type": "code",
   "execution_count": 771,
   "metadata": {},
   "outputs": [],
   "source": [
    "df_mod1B = pd.DataFrame()\n",
    "df_mod1B['Date'] = volatility_df['Date'][20:]\n",
    "df_mod1B['Actual Volatility'] = volatility_df['auction'][20:]\n",
    "df_mod1B['Predicted Volatility'] = volatility_df['volatility_ewma20_auction'][20:]"
   ]
  },
  {
   "cell_type": "code",
   "execution_count": 772,
   "metadata": {},
   "outputs": [
    {
     "data": {
      "text/html": [
       "<div>\n",
       "<style scoped>\n",
       "    .dataframe tbody tr th:only-of-type {\n",
       "        vertical-align: middle;\n",
       "    }\n",
       "\n",
       "    .dataframe tbody tr th {\n",
       "        vertical-align: top;\n",
       "    }\n",
       "\n",
       "    .dataframe thead th {\n",
       "        text-align: right;\n",
       "    }\n",
       "</style>\n",
       "<table border=\"1\" class=\"dataframe\">\n",
       "  <thead>\n",
       "    <tr style=\"text-align: right;\">\n",
       "      <th></th>\n",
       "      <th>Date</th>\n",
       "      <th>Actual Volatility</th>\n",
       "      <th>Predicted Volatility</th>\n",
       "    </tr>\n",
       "  </thead>\n",
       "  <tbody>\n",
       "    <tr>\n",
       "      <th>20</th>\n",
       "      <td>2020-09-30</td>\n",
       "      <td>0.004663</td>\n",
       "      <td>0.003318</td>\n",
       "    </tr>\n",
       "    <tr>\n",
       "      <th>21</th>\n",
       "      <td>2020-10-01</td>\n",
       "      <td>0.001794</td>\n",
       "      <td>0.003464</td>\n",
       "    </tr>\n",
       "    <tr>\n",
       "      <th>22</th>\n",
       "      <td>2020-10-02</td>\n",
       "      <td>0.002233</td>\n",
       "      <td>0.003285</td>\n",
       "    </tr>\n",
       "    <tr>\n",
       "      <th>23</th>\n",
       "      <td>2020-10-05</td>\n",
       "      <td>0.001811</td>\n",
       "      <td>0.003174</td>\n",
       "    </tr>\n",
       "    <tr>\n",
       "      <th>24</th>\n",
       "      <td>2020-10-06</td>\n",
       "      <td>0.004109</td>\n",
       "      <td>0.003031</td>\n",
       "    </tr>\n",
       "    <tr>\n",
       "      <th>...</th>\n",
       "      <td>...</td>\n",
       "      <td>...</td>\n",
       "      <td>...</td>\n",
       "    </tr>\n",
       "    <tr>\n",
       "      <th>246</th>\n",
       "      <td>2021-08-26</td>\n",
       "      <td>0.001828</td>\n",
       "      <td>0.001556</td>\n",
       "    </tr>\n",
       "    <tr>\n",
       "      <th>247</th>\n",
       "      <td>2021-08-27</td>\n",
       "      <td>0.002063</td>\n",
       "      <td>0.001582</td>\n",
       "    </tr>\n",
       "    <tr>\n",
       "      <th>248</th>\n",
       "      <td>2021-08-30</td>\n",
       "      <td>0.001100</td>\n",
       "      <td>0.001628</td>\n",
       "    </tr>\n",
       "    <tr>\n",
       "      <th>249</th>\n",
       "      <td>2021-08-31</td>\n",
       "      <td>0.003081</td>\n",
       "      <td>0.001578</td>\n",
       "    </tr>\n",
       "    <tr>\n",
       "      <th>250</th>\n",
       "      <td>2021-09-01</td>\n",
       "      <td>0.001548</td>\n",
       "      <td>0.001721</td>\n",
       "    </tr>\n",
       "  </tbody>\n",
       "</table>\n",
       "<p>231 rows × 3 columns</p>\n",
       "</div>"
      ],
      "text/plain": [
       "           Date  Actual Volatility Predicted Volatility\n",
       "20   2020-09-30           0.004663             0.003318\n",
       "21   2020-10-01           0.001794             0.003464\n",
       "22   2020-10-02           0.002233             0.003285\n",
       "23   2020-10-05           0.001811             0.003174\n",
       "24   2020-10-06           0.004109             0.003031\n",
       "..          ...                ...                  ...\n",
       "246  2021-08-26           0.001828             0.001556\n",
       "247  2021-08-27           0.002063             0.001582\n",
       "248  2021-08-30           0.001100             0.001628\n",
       "249  2021-08-31           0.003081             0.001578\n",
       "250  2021-09-01           0.001548             0.001721\n",
       "\n",
       "[231 rows x 3 columns]"
      ]
     },
     "execution_count": 772,
     "metadata": {},
     "output_type": "execute_result"
    }
   ],
   "source": [
    "df_mod1B"
   ]
  },
  {
   "cell_type": "code",
   "execution_count": 773,
   "metadata": {},
   "outputs": [
    {
     "name": "stdout",
     "output_type": "stream",
     "text": [
      "0.0007979580031086964\n",
      "1.1800501267088853e-06\n",
      "0.22967443465900572\n"
     ]
    }
   ],
   "source": [
    "print(mean_absolute_error(df_mod1B['Actual Volatility'][-211:], df_mod1B['Predicted Volatility'][-211:]))\n",
    "print(mean_squared_error(df_mod1B['Actual Volatility'][-211:], df_mod1B['Predicted Volatility'][-211:]))\n",
    "print(r2_score(df_mod1B['Actual Volatility'][-211:], df_mod1B['Predicted Volatility'][-211:]))"
   ]
  },
  {
   "cell_type": "code",
   "execution_count": 774,
   "metadata": {},
   "outputs": [
    {
     "data": {
      "text/plain": [
       "[<matplotlib.lines.Line2D at 0x7fd31db762d0>]"
      ]
     },
     "execution_count": 774,
     "metadata": {},
     "output_type": "execute_result"
    },
    {
     "data": {
      "image/png": "[encoded data removed]",
      "text/plain": [
       "<Figure size 432x288 with 1 Axes>"
      ]
     },
     "metadata": {
      "needs_background": "light"
     },
     "output_type": "display_data"
    }
   ],
   "source": [
    "plt.plot(df_mod1B['Actual Volatility'])\n",
    "plt.plot(df_mod1B['Predicted Volatility'])"
   ]
  },
  {
   "cell_type": "code",
   "execution_count": 775,
   "metadata": {},
   "outputs": [
    {
     "data": {
      "image/png": "[encoded data removed]",
      "text/plain": [
       "<Figure size 432x288 with 1 Axes>"
      ]
     },
     "metadata": {
      "needs_background": "light"
     },
     "output_type": "display_data"
    }
   ],
   "source": [
    "plt.hist(df_mod1B['Actual Volatility'] - df_mod1B['Predicted Volatility'], bins=100)\n",
    "plt.show()"
   ]
  },
  {
   "cell_type": "markdown",
   "metadata": {},
   "source": [
    "### Model 1C"
   ]
  },
  {
   "cell_type": "markdown",
   "metadata": {},
   "source": [
    "Question 1C: How well does $\\gamma\\sigma_{t}^{2}$, where $\\gamma = \\dfrac{\\sigma_{t+1,A}^{2}}{\\sigma_{t,A}^{2}}$ forecast $\\sigma_{t+1,B}^{2}$ ? Is it biased? \\\n",
    "(A corresponds to 9:30:00 to 15:49:59\\\n",
    "B corresponds to 15:50:00 to 16:00:00)"
   ]
  },
  {
   "cell_type": "code",
   "execution_count": 776,
   "metadata": {},
   "outputs": [],
   "source": [
    "volatility_df['volatility_ewma20_minus4pm_yest'] = volatility_df['volatility_ewma20_minus4pm'].shift(1)\n",
    "volatility_df['volatility_ewma20_auction_1c'] = volatility_df['daily_volatility_minus4pm']/volatility_df['volatility_ewma20_minus4pm_yest']*volatility_df['volatility_ewma20_auction']\n"
   ]
  },
  {
   "cell_type": "code",
   "execution_count": 777,
   "metadata": {},
   "outputs": [],
   "source": [
    "df_mod1C = pd.DataFrame()\n",
    "df_mod1C['Date'] = volatility_df['Date'][20:]\n",
    "df_mod1C['Actual_Volatility'] = volatility_df['auction'][20:]\n",
    "df_mod1C['Predicted_Volatility'] = volatility_df['volatility_ewma20_auction_1c'][20:]"
   ]
  },
  {
   "cell_type": "code",
   "execution_count": 778,
   "metadata": {},
   "outputs": [
    {
     "name": "stdout",
     "output_type": "stream",
     "text": [
      "0.0007413572102139179\n",
      "1.046161732618309e-06\n",
      "0.3170755124064978\n"
     ]
    }
   ],
   "source": [
    "print(mean_absolute_error(df_mod1C['Actual_Volatility'][-211:], df_mod1C['Predicted_Volatility'][-211:]))\n",
    "print(mean_squared_error(df_mod1C['Actual_Volatility'][-211:], df_mod1C['Predicted_Volatility'][-211:]))\n",
    "print(r2_score(df_mod1C['Actual_Volatility'][-211:], df_mod1C['Predicted_Volatility'][-211:]))"
   ]
  },
  {
   "cell_type": "code",
   "execution_count": 779,
   "metadata": {},
   "outputs": [
    {
     "data": {
      "text/plain": [
       "[<matplotlib.lines.Line2D at 0x7fd67cbfda10>]"
      ]
     },
     "execution_count": 779,
     "metadata": {},
     "output_type": "execute_result"
    },
    {
     "data": {
      "image/png": "[encoded data removed]",
      "text/plain": [
       "<Figure size 432x288 with 1 Axes>"
      ]
     },
     "metadata": {
      "needs_background": "light"
     },
     "output_type": "display_data"
    }
   ],
   "source": [
    "plt.plot(df_mod1C['Actual_Volatility'])\n",
    "plt.plot(df_mod1C['Predicted_Volatility'])"
   ]
  },
  {
   "cell_type": "code",
   "execution_count": 780,
   "metadata": {},
   "outputs": [],
   "source": [
    "prices_350 = prices_350[40:]\n",
    "prices_auction = prices_auction[40:]\n",
    "sigma = np.array(df_mod1C['Predicted_Volatility'])[20:]"
   ]
  },
  {
   "cell_type": "code",
   "execution_count": 917,
   "metadata": {},
   "outputs": [
    {
     "name": "stdout",
     "output_type": "stream",
     "text": [
      "Hit Ratio for 1SD is: 0.649\n",
      "Hit Ratio for 2SD is: 0.924\n",
      "Hit Ratio for 3SD is: 0.991\n"
     ]
    }
   ],
   "source": [
    "# Hit Ratio Calculation\n",
    "\n",
    "predicted_auction_price1 = [(prices_350[i] * np.exp(sigma[i] * -1), prices_350[i] * np.exp(sigma[i] * 1)) for i in range(211)]\n",
    "predicted_auction_price2 = [(prices_350[i] * np.exp(sigma[i] * -2), prices_350[i] * np.exp(sigma[i] * 2)) for i in range(211)]\n",
    "predicted_auction_price3 = [(prices_350[i] * np.exp(sigma[i] * -3), prices_350[i] * np.exp(sigma[i] * 3)) for i in range(211)]\n",
    "\n",
    "hit1 = 0\n",
    "hit2 = 0\n",
    "hit3 = 0\n",
    "for i in range(211):\n",
    "    if prices_auction[i] > predicted_auction_price1[i][0] and prices_auction[i] < predicted_auction_price1[i][1]:\n",
    "        hit1 += 1\n",
    "    if prices_auction[i] > predicted_auction_price2[i][0] and prices_auction[i] < predicted_auction_price2[i][1]:\n",
    "        hit2 += 1\n",
    "    if prices_auction[i] > predicted_auction_price3[i][0] and prices_auction[i] < predicted_auction_price3[i][1]:\n",
    "        hit3 += 1\n",
    "        \n",
    "print('Hit Ratio for 1SD is:', round(hit1/211, 3))\n",
    "print('Hit Ratio for 2SD is:', round(hit2/211, 3))\n",
    "print('Hit Ratio for 3SD is:', round(hit3/211, 3))\n"
   ]
  },
  {
   "cell_type": "code",
   "execution_count": 916,
   "metadata": {},
   "outputs": [
    {
     "data": {
      "image/png": "[encoded data removed]",
      "text/plain": [
       "<Figure size 432x288 with 1 Axes>"
      ]
     },
     "metadata": {
      "needs_background": "light"
     },
     "output_type": "display_data"
    }
   ],
   "source": [
    "sigma = np.array(df_mod1C['Predicted_Volatility'])[20:]\n",
    "s = [prices_350[-1] * np.exp(sigma[-1] * np.random.normal(0,1,1)[0]) for i in range(1000)]\n",
    "\n",
    "count, bins, ignored = plt.hist(s, 100, density=True, align='mid')\n",
    "x = np.linspace(min(bins), max(bins), 10000)\n",
    "\n",
    "plt.xlabel(\"Predicted Auction Price\")\n",
    "plt.ylabel(\"Frequency\")\n",
    "plt.title('Predicted Auction Prices for GOOGL on 2021-09-01')\n",
    "plt.axis('tight')\n",
    "plt.show()"
   ]
  },
  {
   "cell_type": "code",
   "execution_count": 754,
   "metadata": {},
   "outputs": [
    {
     "data": {
      "image/png": "[encoded data removed]",
      "text/plain": [
       "<Figure size 432x288 with 1 Axes>"
      ]
     },
     "metadata": {
      "needs_background": "light"
     },
     "output_type": "display_data"
    }
   ],
   "source": [
    "plt.hist(df_mod1C['Actual_Volatility'] - df_mod1C['Predicted_Volatility'], bins=100)\n",
    "plt.show()"
   ]
  },
  {
   "cell_type": "code",
   "execution_count": 755,
   "metadata": {},
   "outputs": [
    {
     "data": {
      "image/png": "[encoded data removed]",
      "text/plain": [
       "<Figure size 432x288 with 1 Axes>"
      ]
     },
     "metadata": {
      "needs_background": "light"
     },
     "output_type": "display_data"
    }
   ],
   "source": [
    "import matplotlib.lines as mlines\n",
    "\n",
    "plt.scatter(df_mod1C['Predicted_Volatility'], df_mod1C['Actual_Volatility'], alpha=0.5)\n",
    "plt.xlabel(\"Predicted Auction Volatility\")\n",
    "# plt.xlim([0.0005, 0.0060])\n",
    "plt.ylabel(\"Actual Auction Volatility\")\n",
    "plt.title('Actual vs. Predicted Auction Volatility')\n",
    "plt.show()"
   ]
  },
  {
   "cell_type": "code",
   "execution_count": 756,
   "metadata": {},
   "outputs": [
    {
     "name": "stdout",
     "output_type": "stream",
     "text": [
      "                                 OLS Regression Results                                \n",
      "=======================================================================================\n",
      "Dep. Variable:      Actual_Volatility   R-squared (uncentered):                   0.872\n",
      "Model:                            OLS   Adj. R-squared (uncentered):              0.872\n",
      "Method:                 Least Squares   F-statistic:                              1570.\n",
      "Date:                Mon, 13 Dec 2021   Prob (F-statistic):                   9.94e-105\n",
      "Time:                        14:53:11   Log-Likelihood:                          1265.5\n",
      "No. Observations:                 231   AIC:                                     -2529.\n",
      "Df Residuals:                     230   BIC:                                     -2526.\n",
      "Df Model:                           1                                                  \n",
      "Covariance Type:            nonrobust                                                  \n",
      "========================================================================================\n",
      "                           coef    std err          t      P>|t|      [0.025      0.975]\n",
      "----------------------------------------------------------------------------------------\n",
      "Predicted_Volatility     0.9727      0.025     39.621      0.000       0.924       1.021\n",
      "==============================================================================\n",
      "Omnibus:                       29.785   Durbin-Watson:                   1.980\n",
      "Prob(Omnibus):                  0.000   Jarque-Bera (JB):               58.398\n",
      "Skew:                           0.657   Prob(JB):                     2.08e-13\n",
      "Kurtosis:                       5.083   Cond. No.                         1.00\n",
      "==============================================================================\n",
      "\n",
      "Notes:\n",
      "[1] R² is computed without centering (uncentered) since the model does not contain a constant.\n",
      "[2] Standard Errors assume that the covariance matrix of the errors is correctly specified.\n"
     ]
    }
   ],
   "source": [
    "import statsmodels.api as sm\n",
    "\n",
    "X = df_mod1C['Predicted_Volatility']\n",
    "Y = df_mod1C['Actual_Volatility']\n",
    "\n",
    "model = sm.OLS(Y, X.astype(float)).fit() \n",
    "print(model.summary())"
   ]
  },
  {
   "cell_type": "code",
   "execution_count": null,
   "metadata": {},
   "outputs": [],
   "source": []
  },
  {
   "cell_type": "code",
   "execution_count": null,
   "metadata": {},
   "outputs": [],
   "source": []
  }
 ],
 "metadata": {
  "kernelspec": {
   "display_name": "Python 3",
   "language": "python",
   "name": "python3"
  },
  "language_info": {
   "codemirror_mode": {
    "name": "ipython",
    "version": 3
   },
   "file_extension": ".py",
   "mimetype": "text/x-python",
   "name": "python",
   "nbconvert_exporter": "python",
   "pygments_lexer": "ipython3",
   "version": "3.7.9"
  }
 },
 "nbformat": 4,
 "nbformat_minor": 4
}
