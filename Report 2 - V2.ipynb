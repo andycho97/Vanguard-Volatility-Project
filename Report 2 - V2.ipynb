{
 "cells": [
  {
   "cell_type": "code",
   "execution_count": 1,
   "metadata": {},
   "outputs": [],
   "source": [
    "import pandas as pd\n",
    "import numpy as np\n",
    "import matplotlib.pyplot as plt\n",
    "import seaborn as sns\n",
    "from numpy import log, square, sqrt, power, arange, ones, zeros, isscalar,\\\n",
    "    array, outer, pi, sin, cos, expand_dims, repeat, full, concatenate, ravel\n",
    "from numpy.random import normal\n",
    "from scipy.optimize import least_squares, minimize\n",
    "%matplotlib inline"
   ]
  },
  {
   "cell_type": "code",
   "execution_count": 2,
   "metadata": {},
   "outputs": [
    {
     "name": "stderr",
     "output_type": "stream",
     "text": [
      "<ipython-input-2-4e81facdf7ae>:19: SettingWithCopyWarning: \n",
      "A value is trying to be set on a copy of a slice from a DataFrame.\n",
      "Try using .loc[row_indexer,col_indexer] = value instead\n",
      "\n",
      "See the caveats in the documentation: https://pandas.pydata.org/pandas-docs/stable/user_guide/indexing.html#returning-a-view-versus-a-copy\n",
      "  apple['Date'] = pd.to_datetime(apple['Local_Date_Time']).dt.date\n"
     ]
    }
   ],
   "source": [
    "# Trade data\n",
    "\n",
    "stock_name = 'SPLK.O'\n",
    "\n",
    "df = pd.read_csv('NSQ_OneYear100test_Sept21.csv', \n",
    "                   usecols=['Local_Date_Time','RIC','Open','High','Low','Close','VWAP','NumberOfTrades','Volume'],\n",
    "                   dtype={'Local_Date_Time': str,\n",
    "                          'RIC': str, \n",
    "                          'Open': np.float64,\n",
    "                          'High': np.float64,\n",
    "                          'Low': np.float64,\n",
    "                          'Close': np.float64,\n",
    "                          'VWAP': np.float64,\n",
    "                          'NumberOfTrades': int,\n",
    "                          'Volume': int},\n",
    "                   skipinitialspace=True,\n",
    "                   parse_dates=True)\n",
    "apple = df[df['RIC'] == stock_name]\n",
    "apple['Date'] = pd.to_datetime(apple['Local_Date_Time']).dt.date\n",
    "\n",
    "qqq = pd.read_csv('QQQ_OneYear100test_Sept21.csv', \n",
    "                   usecols=['Local_Date_Time','RIC','Open','High','Low','Close','VWAP','NumberOfTrades','Volume'],\n",
    "                   dtype={'Local_Date_Time': str,\n",
    "                          'RIC': str, \n",
    "                          'Open': np.float64,\n",
    "                          'High': np.float64,\n",
    "                          'Low': np.float64,\n",
    "                          'Close': np.float64,\n",
    "                          'VWAP': np.float64,\n",
    "                          'NumberOfTrades': int,\n",
    "                          'Volume': int},\n",
    "                   skipinitialspace=True,\n",
    "                   parse_dates=True)\n",
    "qqq['Date'] = pd.to_datetime(qqq['Local_Date_Time']).dt.date"
   ]
  },
  {
   "cell_type": "code",
   "execution_count": 3,
   "metadata": {},
   "outputs": [
    {
     "name": "stderr",
     "output_type": "stream",
     "text": [
      "<ipython-input-3-c687e5b9a9f5>:6: SettingWithCopyWarning: \n",
      "A value is trying to be set on a copy of a slice from a DataFrame.\n",
      "Try using .loc[row_indexer,col_indexer] = value instead\n",
      "\n",
      "See the caveats in the documentation: https://pandas.pydata.org/pandas-docs/stable/user_guide/indexing.html#returning-a-view-versus-a-copy\n",
      "  apple_auction['Date'] = pd.to_datetime(apple_auction['Local_Date_Time']).dt.date\n"
     ]
    }
   ],
   "source": [
    "# Auction price data\n",
    "auction = pd.read_csv('NSQ_OneYear100closeA_Sept21.csv',\n",
    "                      skipinitialspace=True,\n",
    "                      parse_dates=True)\n",
    "apple_auction = auction[auction['RIC'] == stock_name]\n",
    "apple_auction['Date'] = pd.to_datetime(apple_auction['Local_Date_Time']).dt.date\n",
    "\n",
    "auction_qqq = pd.read_csv('QQQ_OneYear100closeA_Sept21.csv',\n",
    "                      skipinitialspace=True,\n",
    "                      parse_dates=True)\n",
    "auction_qqq['Date'] = pd.to_datetime(auction_qqq['Local_Date_Time']).dt.date"
   ]
  },
  {
   "cell_type": "code",
   "execution_count": 4,
   "metadata": {},
   "outputs": [],
   "source": [
    "# Data Processing (10 minute intervals)\n",
    "\n",
    "dates = apple['Date'].unique()\n",
    "daily_volatility = []\n",
    "daily_volatility_minus4pm = []\n",
    "daily_return = []\n",
    "avg_20day_volatility = []\n",
    "stocks = []\n",
    "dates_final = []\n",
    "auction_log_returns = []\n",
    "volumes = []\n",
    "\n",
    "for date in dates:\n",
    "    \n",
    "    apple_today = apple[apple['Date'] == date]\n",
    "    apple_auction_today = apple_auction[apple_auction['Date'] == date]\n",
    "    \n",
    "    apple_today = apple_today.set_index(pd.DatetimeIndex(apple_today['Local_Date_Time']))\n",
    "    apple_today_10min_max = pd.DataFrame(apple_today['High'].resample(\"10T\").max())\n",
    "    apple_today_10min_min = pd.DataFrame(apple_today['Low'].resample(\"10T\").min())\n",
    "    apple_today_10min_open = pd.DataFrame(apple_today['Open'].resample(\"10T\").first())\n",
    "    apple_today_10min_close = pd.DataFrame(apple_today['Close'].resample(\"10T\").last())\n",
    "    apple_today_10min_volume = pd.DataFrame(apple_today['Volume'].resample(\"10T\").sum())\n",
    "    apple_today_10min = apple_today_10min_max.join(apple_today_10min_min)\n",
    "    apple_today_10min = apple_today_10min.join(apple_today_10min_open)\n",
    "    apple_today_10min = apple_today_10min.join(apple_today_10min_close)\n",
    "    apple_today_10min = apple_today_10min.join(apple_today_10min_volume)\n",
    "    apple_today_10min['log_returns'] = abs(np.log(apple_today_10min['Close']/apple_today_10min['Open'])) # alternate volatility formula\n",
    "#     apple_today_10min['Volatility'] = np.sqrt(0.5*np.square(np.log(apple_today_10min['High']/apple_today_10min['Low'])) - (2*np.log(2)-1) * np.square(np.log(apple_today_10min['Close']/apple_today_10min['Open'])))\n",
    "    volatility_today = apple_today_10min['log_returns'].values\n",
    "    return_today = (apple_today_10min['Close']/apple_today_10min['Open']).values\n",
    "    \n",
    "    if len(volatility_today) != 39: # Skip if there are fewer than 390 minutes of trading data\n",
    "        continue\n",
    "        \n",
    "    # Dates for which the trade data is complete\n",
    "    dates_final.append(date)\n",
    "    \n",
    "    auction_log_returns_today = abs(np.log(apple_auction_today['Price'].iloc[0]/apple_today_10min['Open'][-1]))\n",
    "    auction_log_returns.append(auction_log_returns_today)\n",
    "    \n",
    "    # 10 minute interval volatility * number of complete trade days\n",
    "    stocks.append(volatility_today)\n",
    "    \n",
    "    # Average daily volatility (later used for 20 day moving average)\n",
    "    daily_volatility.append(np.sqrt(39)*np.sqrt(np.mean(np.square(apple_today_10min['log_returns'].values))))\n",
    "    daily_volatility_minus4pm.append(np.sqrt(38)*np.sqrt(np.mean(np.square(apple_today_10min['log_returns'].values[:-1]))))\n",
    "    daily_return.append(return_today)\n",
    "    \n",
    "    # Total volume for each complete trade day between 930 and 1550\n",
    "    volumes.append(sum(apple_today_10min[:-1]['Volume']))\n",
    "\n",
    "daily_return = np.array(daily_return)\n",
    "volatility_df = pd.DataFrame({'Date':dates_final, 'daily_volatility': daily_volatility, 'daily_volatility_minus4pm': daily_volatility_minus4pm})\n",
    "volatility_df['diff'] = volatility_df['daily_volatility']-volatility_df['daily_volatility_minus4pm']\n",
    "volatility_df['volatility_ewma20'] = volatility_df['daily_volatility'].ewm(span=20).mean()\n",
    "\n",
    "stocks = stocks[20:]\n",
    "stocks = np.vstack(stocks).T # Training data for Anderson model\n",
    "avg_20day_volatility_raw = np.array(volatility_df['volatility_ewma20'])\n",
    "avg_20day_volatility = np.array(volatility_df['volatility_ewma20'][20:]) # Sigma_t input for Anderson model"
   ]
  },
  {
   "cell_type": "code",
   "execution_count": null,
   "metadata": {},
   "outputs": [],
   "source": []
  },
  {
   "cell_type": "code",
   "execution_count": 5,
   "metadata": {},
   "outputs": [],
   "source": [
    "# Data Processing (10 minute intervals)\n",
    "\n",
    "dates_qqq = qqq['Date'].unique()\n",
    "daily_volatility_qqq = []\n",
    "daily_return_qqq = []\n",
    "avg_20day_volatility_qqq = []\n",
    "stocks_qqq = []\n",
    "dates_final_qqq = []\n",
    "auction_log_returns_qqq = []\n",
    "volumes_qqq = []\n",
    "\n",
    "# i = 0\n",
    "for date in dates_qqq:\n",
    "    \n",
    "    qqq_today = qqq[qqq['Date'] == date]\n",
    "    qqq_auction_today = auction_qqq[auction_qqq['Date'] == date]\n",
    "    \n",
    "    qqq_today = qqq_today.set_index(pd.DatetimeIndex(qqq_today['Local_Date_Time']))\n",
    "    qqq_today_10min_max = pd.DataFrame(qqq_today['High'].resample(\"10T\").max())\n",
    "    qqq_today_10min_min = pd.DataFrame(qqq_today['Low'].resample(\"10T\").min())\n",
    "    qqq_today_10min_open = pd.DataFrame(qqq_today['Open'].resample(\"10T\").first())\n",
    "    qqq_today_10min_close = pd.DataFrame(qqq_today['Close'].resample(\"10T\").last())\n",
    "    qqq_today_10min_volume = pd.DataFrame(qqq_today['Volume'].resample(\"10T\").sum())\n",
    "    qqq_today_10min = qqq_today_10min_max.join(apple_today_10min_min)\n",
    "    qqq_today_10min = qqq_today_10min.join(qqq_today_10min_open)\n",
    "    qqq_today_10min = qqq_today_10min.join(qqq_today_10min_close)\n",
    "    qqq_today_10min = qqq_today_10min.join(qqq_today_10min_volume)\n",
    "    qqq_today_10min['log_returns'] = abs(np.log(qqq_today_10min['Close']/qqq_today_10min['Open'])) # alternate volatility formula\n",
    "#     qqq_today_10min['Volatility'] = np.sqrt(0.5*np.square(np.log(qqq_today_10min['High']/qqq_today_10min['Low'])) - (2*np.log(2)-1) * np.square(np.log(qqq_today_10min['Close']/qqq_today_10min['Open'])))\n",
    "    volatility_today_qqq = qqq_today_10min['log_returns'].values\n",
    "    return_today_qqq = (qqq_today_10min['Close']/qqq_today_10min['Open']).values\n",
    "    \n",
    "    if len(volatility_today_qqq) != 39: # Skip if there are fewer than 390 minutes of trading data\n",
    "        continue\n",
    "        \n",
    "    # Dates for which the trade data is complete\n",
    "    dates_final_qqq.append(date)\n",
    "    \n",
    "    auction_log_returns_today_qqq = abs(np.log(qqq_auction_today['Price'].iloc[0]/qqq_today_10min['Open'][-1]))\n",
    "    auction_log_returns_qqq.append(auction_log_returns_today_qqq)\n",
    "    \n",
    "    # 10 minute interval volatility * number of complete trade days\n",
    "    stocks_qqq.append(volatility_today_qqq)\n",
    "    \n",
    "    # Average daily volatility (later used for 20 day moving average)\n",
    "    daily_volatility_qqq.append(np.sqrt(39)*np.sqrt(np.mean(np.square(qqq_today_10min['log_returns'].values))))\n",
    "    daily_return_qqq.append(return_today_qqq)\n",
    "    \n",
    "    # Total volume for each complete trade day between 930 and 1550\n",
    "    volumes_qqq.append(sum(qqq_today_10min[:-1]['Volume']))\n",
    "\n",
    "daily_return_qqq = np.array(daily_return_qqq)\n",
    "volatility_df_qqq = pd.DataFrame({'Date':dates_final_qqq, 'daily_volatility': daily_volatility_qqq})\n",
    "volatility_df_qqq['volatility_ewma20'] = volatility_df_qqq['daily_volatility'].ewm(span=20).mean()\n",
    "\n",
    "stocks_qqq = stocks_qqq[20:]\n",
    "stocks_qqq = np.vstack(stocks_qqq).T # Training data for Anderson model\n",
    "avg_20day_volatility_raw_qqq = np.array(volatility_df_qqq['volatility_ewma20'])\n",
    "avg_20day_volatility_qqq = np.array(volatility_df_qqq['volatility_ewma20'][20:]) # Sigma_t input for Anderson model"
   ]
  },
  {
   "cell_type": "code",
   "execution_count": 6,
   "metadata": {},
   "outputs": [],
   "source": [
    "# Calculating beta for the stock\n",
    "daily_beta = []\n",
    "\n",
    "for i in range(251):\n",
    "    today_corr = np.corrcoef(daily_return[i][:-1], daily_return_qqq[i][:-1])[1][0]\n",
    "    today_beta = today_corr * np.sqrt(np.var(daily_return[i])) / np.sqrt(np.var(daily_return_qqq[i]))\n",
    "    daily_beta.append(today_beta)\n"
   ]
  },
  {
   "cell_type": "code",
   "execution_count": 7,
   "metadata": {},
   "outputs": [],
   "source": [
    "class FlexibleFourierRegression():\n",
    "    '''\n",
    "    See P.152 Anderson(1997) Appendix B for details\n",
    "    '''\n",
    "    \n",
    "    def __init__(self, N, J=0, P=0, di=[]):\n",
    "        self.J = J\n",
    "        self.D = len(di)\n",
    "        self.P = P\n",
    "        \n",
    "        self.N = N\n",
    "        self.di = di\n",
    "        self.Id = zeros(shape=(N,))\n",
    "        self.mu0 = ones(shape=(J+1,))\n",
    "        self.mu1 = ones(shape=(J+1,))\n",
    "        self.mu2 = ones(shape=(J+1,))\n",
    "        self.lamb = ones(shape=(self.D,))\n",
    "        self.gamma = ones(shape=(P, J+1))\n",
    "        self.delta = ones(shape=(P, J+1))\n",
    "        self.p = arange(1, P + 1, 1)\n",
    "        self.x = concatenate([self.mu0.ravel(), self.mu1.ravel(), self.mu2.ravel(),\n",
    "            self.lamb.ravel(), self.gamma.ravel(), self.delta.ravel()])    \n",
    "        \n",
    "    def train(self, y, sigma_t, tol=0.1):\n",
    "        \"\"\"\n",
    "        Trains model using flexible fourier functional form.\n",
    "        \n",
    "        Parameters\n",
    "        ----------\n",
    "        y : dependent variable\n",
    "        \n",
    "        sigma_t: estimated conditional volatility for day t,\n",
    "        sigma_t is scalar or vector depending on vector=False/True.\n",
    "        \n",
    "        \n",
    "        \n",
    "        Returns\n",
    "        -------\n",
    "        Regression stats\n",
    "        \"\"\"\n",
    "        assert y.shape[0] == self.N, \"input y should have shape[0] == N:\"\n",
    "        n = arange(0, self.N, 1)\n",
    "        J = self.J\n",
    "        ## Learning weights for the following parameters\n",
    "        ## self.mu0, self.mu1, self.mu2, self.lamb, self.gamma, self.delta\n",
    "\n",
    "        def lsq_fun(x):\n",
    "            \n",
    "            mu0 = x[0: J+1]\n",
    "            mu1 = x[J+1: 2*J+2]\n",
    "            mu2 = x[2*J+2: 3*J+3]\n",
    "            lamb = x[3*J+3:3*J+3+self.D]\n",
    "            gamma = x[3*J+3+self.D: 3*J+3+self.D+self.P*(J+1)].reshape((self.P, J+1))\n",
    "            delta = x[3*J+3+self.D+self.P*(J+1): 3*J+3+self.D+2*self.P*(J+1)].reshape((self.P, J+1))\n",
    "            \n",
    "            gamma = repeat(expand_dims(gamma, axis=0), self.N, axis=0)\n",
    "            delta = repeat(expand_dims(delta, axis=0), self.N, axis=0)            \n",
    "            N1 = (self.N + 1) / 2\n",
    "            N2 = (self.N + 1) * (self.N + 2) / 6            \n",
    "            \n",
    "            dummy = self.Id.copy()\n",
    "            dummy[self.di] = lamb\n",
    "            dummy = repeat(expand_dims(dummy, axis=1), J+1, axis=1)\n",
    "            \n",
    "            mu0 = repeat(expand_dims(mu0, axis=0), self.N, axis=0)\n",
    "            quad = mu0 + outer(n / N1, mu1) + outer(square(n) / N2, mu2)\n",
    "            cosine = cos(2 * outer(n, self.p) * pi / self.N)\n",
    "            sine = sin(2 * outer(n, self.p) * pi / self.N)\n",
    "            cosine = repeat(expand_dims(cosine, axis=-1), J+1, axis=-1)\n",
    "            sine = repeat(expand_dims(sine, axis=-1), J+1, axis=-1)  \n",
    "            fourier_expand = gamma * cosine + delta * sine\n",
    "            fourier = fourier_expand.sum(axis=1)\n",
    "\n",
    "            sigma = full(fill_value=sigma_t, shape=(self.N, J+1))\n",
    "            for j in range(J+1):\n",
    "                sigma[:,j] = power(sigma[:,j], j)   \n",
    "\n",
    "            result = (sigma * (quad + dummy + fourier)).sum(axis=-1)\n",
    "            cost = square(result - y).mean()\n",
    "            \n",
    "            return cost\n",
    "\n",
    "        def lsq_fun_vec(x):\n",
    "            \n",
    "            mu0 = x[0: J+1]\n",
    "            mu1 = x[J+1: 2*J+2]\n",
    "            mu2 = x[2*J+2: 3*J+3]\n",
    "            lamb = x[3*J+3:3*J+3+self.D]\n",
    "            gamma = x[3*J+3+self.D: 3*J+3+self.D+self.P*(J+1)].reshape((self.P, J+1))\n",
    "            delta = x[3*J+3+self.D+self.P*(J+1): 3*J+3+self.D+2*self.P*(J+1)].reshape((self.P, J+1))\n",
    "            \n",
    "            gamma = repeat(expand_dims(gamma, axis=0), self.N, axis=0)\n",
    "            delta = repeat(expand_dims(delta, axis=0), self.N, axis=0)            \n",
    "            N1 = (self.N + 1) / 2\n",
    "            N2 = (self.N + 1) * (self.N + 2) / 6            \n",
    "            \n",
    "            dummy = self.Id.copy()\n",
    "            dummy[self.di] = lamb\n",
    "            dummy = repeat(expand_dims(dummy, axis=1), J+1, axis=1)\n",
    "            \n",
    "            mu0 = repeat(expand_dims(mu0, axis=0), self.N, axis=0)\n",
    "            quad = mu0 + outer(n / N1, mu1) + outer(square(n) / N2, mu2)\n",
    "            cosine = cos(2 * outer(n, self.p) * pi / self.N)\n",
    "            sine = sin(2 * outer(n, self.p) * pi / self.N)\n",
    "            cosine = repeat(expand_dims(cosine, axis=-1), J+1, axis=-1)\n",
    "            sine = repeat(expand_dims(sine, axis=-1), J+1, axis=-1)  \n",
    "            fourier_expand = gamma * cosine + delta * sine\n",
    "            fourier = fourier_expand.sum(axis=1)\n",
    "            \n",
    "            component = fourier + quad + dummy\n",
    "            component = repeat(expand_dims(component, axis=1), len(sigma_t), axis=1)  \n",
    "            \n",
    "            sigma = repeat(expand_dims(sigma_t, axis=0), self.N, axis=0)\n",
    "            sigma_J = repeat(expand_dims(sigma, axis=-1), J+1, axis=-1)\n",
    "            for j in range(J+1):\n",
    "                sigma_J[:,:,j] = power(sigma_J[:,:,j], j)   \n",
    "            \n",
    "            result = (sigma_J * component).sum(axis=-1)\n",
    "            cost = square(result - y).mean()\n",
    "            \n",
    "            return cost\n",
    "        \n",
    "\n",
    "        sigma_t = ravel(sigma_t)\n",
    "        assert sigma_t.shape[0] == y.shape[1], \"sigma_t should have shape (t, ) and y should have shape (N, t)\"\n",
    "        res = minimize(lsq_fun_vec, self.x, tol=tol)\n",
    "\n",
    "        self.mu0 = res.x[0: J+1]\n",
    "        self.mu1 = res.x[J+1: 2*J+2]\n",
    "        self.mu2 = res.x[2*J+2: 3*J+3]\n",
    "        self.lamb = res.x[3*J+3:3*J+3+self.D]\n",
    "        self.gamma = res.x[3*J+3+self.D: 3*J+3+self.D+self.P*(J+1)].reshape((self.P, J+1))\n",
    "        self.delta = res.x[3*J+3+self.D+self.P*(J+1): 3*J+3+self.D+2*self.P*(J+1)].reshape((self.P, J+1))            \n",
    "        \n",
    "        return res\n",
    "        \n",
    "    def predict(self, sigma_t, vector=False):\n",
    "        \n",
    "        N = self.N\n",
    "        D = self.D\n",
    "        J = self.J\n",
    "        P = self.P\n",
    "        p = self.p\n",
    "        \n",
    "        gamma = repeat(expand_dims(self.gamma, axis=0), N, axis=0)\n",
    "        delta = repeat(expand_dims(self.delta, axis=0), N, axis=0)\n",
    "        n = arange(0, N, 1)\n",
    "        N1 = (N + 1) / 2\n",
    "        N2 = (N + 1) * (N + 2) / 6\n",
    "        \n",
    "        dummy = self.Id.copy()\n",
    "        dummy[self.di] = self.lamb\n",
    "        dummy = repeat(expand_dims(dummy, axis=1), J+1, axis=1)\n",
    "        \n",
    "        quad = self.mu0 + outer(n / N1, self.mu1) + outer(square(n) / N2, self.mu2)\n",
    "        \n",
    "        cosine = cos(2 * outer(n, self.p) * pi / N)\n",
    "        sine = sin(2 * outer(n, self.p) * pi / N)\n",
    "        cosine = repeat(expand_dims(cosine, axis=-1), J+1, axis=-1)\n",
    "        sine = repeat(expand_dims(sine, axis=-1), J+1, axis=-1)\n",
    "        fourier_expand = gamma * cosine + delta * sine\n",
    "        fourier = fourier_expand.sum(axis=1)\n",
    "\n",
    "        sigma_t = ravel(sigma_t)\n",
    "        component = fourier + quad + dummy\n",
    "        component = repeat(expand_dims(component, axis=1), sigma_t.shape[0], axis=1)  \n",
    "        sigma = repeat(expand_dims(sigma_t, axis=0), self.N, axis=0)\n",
    "        sigma_J = repeat(expand_dims(sigma, axis=-1), J+1, axis=-1)\n",
    "        for j in range(J+1):\n",
    "            sigma_J[:,:,j] = power(sigma_J[:,:,j], j)               \n",
    "        result = (sigma_J * component).sum(axis=-1)\n",
    "            \n",
    "        return result"
   ]
  },
  {
   "cell_type": "code",
   "execution_count": 8,
   "metadata": {},
   "outputs": [],
   "source": [
    "# AAPL stock\n",
    "stocks2 = stocks.T\n",
    "stocks2 = stocks2[:200].T\n",
    "avg_20day_volatility2 = avg_20day_volatility[:200]"
   ]
  },
  {
   "cell_type": "code",
   "execution_count": 9,
   "metadata": {},
   "outputs": [
    {
     "name": "stdout",
     "output_type": "stream",
     "text": [
      "optimizer success: True\n",
      "objective function (mse): 0.00000\n"
     ]
    }
   ],
   "source": [
    "fourier = FlexibleFourierRegression(N=39, di=[], J=6, P=20) # 39 10-minute intervals in each trade day\n",
    "res = fourier.train(stocks, avg_20day_volatility, 0.000001)\n",
    "print(\"optimizer success: {}\".format(res.success))\n",
    "print(\"objective function (mse): {:.5f}\".format(res.fun))"
   ]
  },
  {
   "cell_type": "code",
   "execution_count": 10,
   "metadata": {},
   "outputs": [
    {
     "data": {
      "text/plain": [
       "<matplotlib.legend.Legend at 0x2bf00ddf760>"
      ]
     },
     "execution_count": 10,
     "metadata": {},
     "output_type": "execute_result"
    },
    {
     "data": {
      "image/png": "[encoded data removed]",
      "text/plain": [
       "<Figure size 1440x576 with 1 Axes>"
      ]
     },
     "metadata": {
      "needs_background": "light"
     },
     "output_type": "display_data"
    }
   ],
   "source": [
    "n=230\n",
    "result = fourier.predict(avg_20day_volatility[n])\n",
    "\n",
    "fig, ax = plt.subplots(1, 1, figsize=(20, 8))\n",
    "ax.plot(stocks.T[n], label=\"dependent\")\n",
    "ax.plot(result, label=\"predict\")\n",
    "ax.legend()"
   ]
  },
  {
   "cell_type": "code",
   "execution_count": 11,
   "metadata": {},
   "outputs": [],
   "source": [
    "# QQQ\n",
    "stocks2_qqq = stocks_qqq.T\n",
    "stocks2_qqq = stocks2_qqq[:200].T\n",
    "avg_20day_volatility2_qqq = avg_20day_volatility_qqq[:200]"
   ]
  },
  {
   "cell_type": "code",
   "execution_count": 12,
   "metadata": {},
   "outputs": [
    {
     "name": "stdout",
     "output_type": "stream",
     "text": [
      "optimizer success: True\n",
      "objective function (mse): 0.00000\n"
     ]
    }
   ],
   "source": [
    "fourier_qqq = FlexibleFourierRegression(N=39, di=[], J=6, P=20) # 39 10-minute intervals in each trade day\n",
    "res_qqq = fourier_qqq.train(stocks_qqq, avg_20day_volatility_qqq, 0.000001)\n",
    "print(\"optimizer success: {}\".format(res_qqq.success))\n",
    "print(\"objective function (mse): {:.5f}\".format(res_qqq.fun))"
   ]
  },
  {
   "cell_type": "code",
   "execution_count": 13,
   "metadata": {},
   "outputs": [
    {
     "data": {
      "text/plain": [
       "<matplotlib.legend.Legend at 0x2bf5a2b2910>"
      ]
     },
     "execution_count": 13,
     "metadata": {},
     "output_type": "execute_result"
    },
    {
     "data": {
      "image/png": "[encoded data removed]",
      "text/plain": [
       "<Figure size 1440x576 with 1 Axes>"
      ]
     },
     "metadata": {
      "needs_background": "light"
     },
     "output_type": "display_data"
    }
   ],
   "source": [
    "n=230\n",
    "result_qqq = fourier_qqq.predict(avg_20day_volatility_qqq[n])\n",
    "\n",
    "fig, ax = plt.subplots(1, 1, figsize=(20, 8))\n",
    "ax.plot(stocks_qqq.T[n], label=\"dependent\")\n",
    "ax.plot(result_qqq, label=\"predict\")\n",
    "ax.legend()"
   ]
  },
  {
   "cell_type": "code",
   "execution_count": 14,
   "metadata": {},
   "outputs": [],
   "source": [
    "results = [None for i in range(20)]\n",
    "for vol in avg_20day_volatility:\n",
    "    result = fourier.predict(vol)\n",
    "    results.append(result[-1][0])\n",
    "results = np.array(results)"
   ]
  },
  {
   "cell_type": "code",
   "execution_count": 15,
   "metadata": {},
   "outputs": [],
   "source": [
    "results_qqq = [None for i in range(20)]\n",
    "for vol in avg_20day_volatility_qqq:\n",
    "    result_qqq = fourier_qqq.predict(vol)\n",
    "    results_qqq.append(result_qqq[-1][0])\n",
    "results_qqq = np.array(results_qqq)"
   ]
  },
  {
   "cell_type": "code",
   "execution_count": 16,
   "metadata": {},
   "outputs": [
    {
     "data": {
      "text/html": [
       "<div>\n",
       "<style scoped>\n",
       "    .dataframe tbody tr th:only-of-type {\n",
       "        vertical-align: middle;\n",
       "    }\n",
       "\n",
       "    .dataframe tbody tr th {\n",
       "        vertical-align: top;\n",
       "    }\n",
       "\n",
       "    .dataframe thead th {\n",
       "        text-align: right;\n",
       "    }\n",
       "</style>\n",
       "<table border=\"1\" class=\"dataframe\">\n",
       "  <thead>\n",
       "    <tr style=\"text-align: right;\">\n",
       "      <th></th>\n",
       "      <th>Date</th>\n",
       "      <th>Volume</th>\n",
       "      <th>Volume_qqq</th>\n",
       "      <th>Daily_Volatility_minus4pm</th>\n",
       "      <th>Daily_Volatility</th>\n",
       "      <th>Auction_Volatility_prop</th>\n",
       "      <th>Avg20_Volatility</th>\n",
       "      <th>Avg20_Volatility_qqq</th>\n",
       "      <th>Beta</th>\n",
       "      <th>Anderson</th>\n",
       "      <th>Anderson_qqq</th>\n",
       "      <th>Auction_Log_Returns</th>\n",
       "      <th>Auction_Volatility_pred</th>\n",
       "    </tr>\n",
       "  </thead>\n",
       "  <tbody>\n",
       "    <tr>\n",
       "      <th>20</th>\n",
       "      <td>2020-09-30</td>\n",
       "      <td>728444</td>\n",
       "      <td>34670209</td>\n",
       "      <td>0.027436</td>\n",
       "      <td>0.027531</td>\n",
       "      <td>1.003452</td>\n",
       "      <td>0.024519</td>\n",
       "      <td>0.015458</td>\n",
       "      <td>1.205129</td>\n",
       "      <td>0.00267776</td>\n",
       "      <td>0.00272659</td>\n",
       "      <td>0.002919</td>\n",
       "      <td>0.001556</td>\n",
       "    </tr>\n",
       "    <tr>\n",
       "      <th>21</th>\n",
       "      <td>2020-10-01</td>\n",
       "      <td>769979</td>\n",
       "      <td>29708330</td>\n",
       "      <td>0.016168</td>\n",
       "      <td>0.016476</td>\n",
       "      <td>1.019075</td>\n",
       "      <td>0.023658</td>\n",
       "      <td>0.014755</td>\n",
       "      <td>0.754148</td>\n",
       "      <td>0.00259296</td>\n",
       "      <td>0.00262848</td>\n",
       "      <td>0.003173</td>\n",
       "      <td>0.001345</td>\n",
       "    </tr>\n",
       "    <tr>\n",
       "      <th>22</th>\n",
       "      <td>2020-10-02</td>\n",
       "      <td>1100154</td>\n",
       "      <td>47305127</td>\n",
       "      <td>0.028785</td>\n",
       "      <td>0.028814</td>\n",
       "      <td>1.001031</td>\n",
       "      <td>0.024204</td>\n",
       "      <td>0.015046</td>\n",
       "      <td>1.118105</td>\n",
       "      <td>0.0026477</td>\n",
       "      <td>0.00266981</td>\n",
       "      <td>0.001923</td>\n",
       "      <td>0.005649</td>\n",
       "    </tr>\n",
       "    <tr>\n",
       "      <th>23</th>\n",
       "      <td>2020-10-05</td>\n",
       "      <td>693051</td>\n",
       "      <td>18568359</td>\n",
       "      <td>0.010524</td>\n",
       "      <td>0.010765</td>\n",
       "      <td>1.022892</td>\n",
       "      <td>0.022796</td>\n",
       "      <td>0.014187</td>\n",
       "      <td>0.458784</td>\n",
       "      <td>0.0024995</td>\n",
       "      <td>0.00254502</td>\n",
       "      <td>0.002213</td>\n",
       "      <td>0.000478</td>\n",
       "    </tr>\n",
       "    <tr>\n",
       "      <th>24</th>\n",
       "      <td>2020-10-06</td>\n",
       "      <td>892971</td>\n",
       "      <td>33228184</td>\n",
       "      <td>0.021756</td>\n",
       "      <td>0.021926</td>\n",
       "      <td>1.007838</td>\n",
       "      <td>0.022706</td>\n",
       "      <td>0.014234</td>\n",
       "      <td>1.208970</td>\n",
       "      <td>0.00248921</td>\n",
       "      <td>0.002552</td>\n",
       "      <td>0.003032</td>\n",
       "      <td>0.004682</td>\n",
       "    </tr>\n",
       "    <tr>\n",
       "      <th>...</th>\n",
       "      <td>...</td>\n",
       "      <td>...</td>\n",
       "      <td>...</td>\n",
       "      <td>...</td>\n",
       "      <td>...</td>\n",
       "      <td>...</td>\n",
       "      <td>...</td>\n",
       "      <td>...</td>\n",
       "      <td>...</td>\n",
       "      <td>...</td>\n",
       "      <td>...</td>\n",
       "      <td>...</td>\n",
       "      <td>...</td>\n",
       "    </tr>\n",
       "    <tr>\n",
       "      <th>246</th>\n",
       "      <td>2021-08-26</td>\n",
       "      <td>3998750</td>\n",
       "      <td>21595483</td>\n",
       "      <td>0.039047</td>\n",
       "      <td>0.039301</td>\n",
       "      <td>1.006529</td>\n",
       "      <td>0.018709</td>\n",
       "      <td>0.005878</td>\n",
       "      <td>1.954894</td>\n",
       "      <td>0.00193927</td>\n",
       "      <td>0.000902122</td>\n",
       "      <td>0.004698</td>\n",
       "      <td>0.004349</td>\n",
       "    </tr>\n",
       "    <tr>\n",
       "      <th>247</th>\n",
       "      <td>2021-08-27</td>\n",
       "      <td>1149237</td>\n",
       "      <td>18933101</td>\n",
       "      <td>0.019064</td>\n",
       "      <td>0.019077</td>\n",
       "      <td>1.000691</td>\n",
       "      <td>0.018744</td>\n",
       "      <td>0.005928</td>\n",
       "      <td>2.001291</td>\n",
       "      <td>0.00194489</td>\n",
       "      <td>0.000914363</td>\n",
       "      <td>0.000902</td>\n",
       "      <td>0.002182</td>\n",
       "    </tr>\n",
       "    <tr>\n",
       "      <th>248</th>\n",
       "      <td>2021-08-30</td>\n",
       "      <td>1136640</td>\n",
       "      <td>18151158</td>\n",
       "      <td>0.015270</td>\n",
       "      <td>0.015325</td>\n",
       "      <td>1.003595</td>\n",
       "      <td>0.018418</td>\n",
       "      <td>0.005850</td>\n",
       "      <td>2.069790</td>\n",
       "      <td>0.00189214</td>\n",
       "      <td>0.000895189</td>\n",
       "      <td>0.001231</td>\n",
       "      <td>0.000568</td>\n",
       "    </tr>\n",
       "    <tr>\n",
       "      <th>249</th>\n",
       "      <td>2021-08-31</td>\n",
       "      <td>734201</td>\n",
       "      <td>18406465</td>\n",
       "      <td>0.012427</td>\n",
       "      <td>0.012465</td>\n",
       "      <td>1.003113</td>\n",
       "      <td>0.017851</td>\n",
       "      <td>0.005799</td>\n",
       "      <td>1.004580</td>\n",
       "      <td>0.00179739</td>\n",
       "      <td>0.000882622</td>\n",
       "      <td>0.000523</td>\n",
       "      <td>0.001055</td>\n",
       "    </tr>\n",
       "    <tr>\n",
       "      <th>250</th>\n",
       "      <td>2021-09-01</td>\n",
       "      <td>1144890</td>\n",
       "      <td>17326952</td>\n",
       "      <td>0.014017</td>\n",
       "      <td>0.014081</td>\n",
       "      <td>1.004564</td>\n",
       "      <td>0.017492</td>\n",
       "      <td>0.005697</td>\n",
       "      <td>0.993712</td>\n",
       "      <td>0.00173548</td>\n",
       "      <td>0.000857638</td>\n",
       "      <td>0.000830</td>\n",
       "      <td>0.001107</td>\n",
       "    </tr>\n",
       "  </tbody>\n",
       "</table>\n",
       "<p>231 rows × 13 columns</p>\n",
       "</div>"
      ],
      "text/plain": [
       "           Date   Volume  Volume_qqq  Daily_Volatility_minus4pm  \\\n",
       "20   2020-09-30   728444    34670209                   0.027436   \n",
       "21   2020-10-01   769979    29708330                   0.016168   \n",
       "22   2020-10-02  1100154    47305127                   0.028785   \n",
       "23   2020-10-05   693051    18568359                   0.010524   \n",
       "24   2020-10-06   892971    33228184                   0.021756   \n",
       "..          ...      ...         ...                        ...   \n",
       "246  2021-08-26  3998750    21595483                   0.039047   \n",
       "247  2021-08-27  1149237    18933101                   0.019064   \n",
       "248  2021-08-30  1136640    18151158                   0.015270   \n",
       "249  2021-08-31   734201    18406465                   0.012427   \n",
       "250  2021-09-01  1144890    17326952                   0.014017   \n",
       "\n",
       "     Daily_Volatility  Auction_Volatility_prop  Avg20_Volatility  \\\n",
       "20           0.027531                 1.003452          0.024519   \n",
       "21           0.016476                 1.019075          0.023658   \n",
       "22           0.028814                 1.001031          0.024204   \n",
       "23           0.010765                 1.022892          0.022796   \n",
       "24           0.021926                 1.007838          0.022706   \n",
       "..                ...                      ...               ...   \n",
       "246          0.039301                 1.006529          0.018709   \n",
       "247          0.019077                 1.000691          0.018744   \n",
       "248          0.015325                 1.003595          0.018418   \n",
       "249          0.012465                 1.003113          0.017851   \n",
       "250          0.014081                 1.004564          0.017492   \n",
       "\n",
       "     Avg20_Volatility_qqq      Beta    Anderson Anderson_qqq  \\\n",
       "20               0.015458  1.205129  0.00267776   0.00272659   \n",
       "21               0.014755  0.754148  0.00259296   0.00262848   \n",
       "22               0.015046  1.118105   0.0026477   0.00266981   \n",
       "23               0.014187  0.458784   0.0024995   0.00254502   \n",
       "24               0.014234  1.208970  0.00248921     0.002552   \n",
       "..                    ...       ...         ...          ...   \n",
       "246              0.005878  1.954894  0.00193927  0.000902122   \n",
       "247              0.005928  2.001291  0.00194489  0.000914363   \n",
       "248              0.005850  2.069790  0.00189214  0.000895189   \n",
       "249              0.005799  1.004580  0.00179739  0.000882622   \n",
       "250              0.005697  0.993712  0.00173548  0.000857638   \n",
       "\n",
       "     Auction_Log_Returns  Auction_Volatility_pred  \n",
       "20              0.002919                 0.001556  \n",
       "21              0.003173                 0.001345  \n",
       "22              0.001923                 0.005649  \n",
       "23              0.002213                 0.000478  \n",
       "24              0.003032                 0.004682  \n",
       "..                   ...                      ...  \n",
       "246             0.004698                 0.004349  \n",
       "247             0.000902                 0.002182  \n",
       "248             0.001231                 0.000568  \n",
       "249             0.000523                 0.001055  \n",
       "250             0.000830                 0.001107  \n",
       "\n",
       "[231 rows x 13 columns]"
      ]
     },
     "execution_count": 16,
     "metadata": {},
     "output_type": "execute_result"
    }
   ],
   "source": [
    "# Simple linear regression with Anderson coefficient\n",
    "final_df = pd.DataFrame({\n",
    "    'Date': dates_final, \n",
    "    'Volume': volumes,\n",
    "    'Volume_qqq': volumes_qqq,\n",
    "    \n",
    "    'Daily_Volatility_minus4pm': volatility_df['daily_volatility_minus4pm'],\n",
    "    'Daily_Volatility': volatility_df['daily_volatility'],\n",
    "    'Auction_Volatility_prop': volatility_df['daily_volatility']/volatility_df['daily_volatility_minus4pm'],\n",
    "    \n",
    "    'Avg20_Volatility': avg_20day_volatility_raw, \n",
    "    'Avg20_Volatility_qqq': avg_20day_volatility_raw_qqq, \n",
    "    'Beta': daily_beta,\n",
    "    'Anderson': results,\n",
    "    'Anderson_qqq': results_qqq,\n",
    "    'Auction_Log_Returns': auction_log_returns\n",
    "})\n",
    "\n",
    "# daily_volatility_minus4pm.append(np.sqrt(39)*np.sqrt(np.mean(np.square(apple_today_10min['log_returns'].values[:-1]))))\n",
    "\n",
    "for i in range(1, len(final_df)):\n",
    "    \n",
    "    # Predict today's \"Daily_Volatility\" based on yesterday's ratio and today's volatility before 4pm\n",
    "    today_step1 = final_df.loc[i, 'Daily_Volatility_minus4pm']*final_df.loc[i-1, 'Auction_Volatility_prop']\n",
    "    today_step2 = (today_step1/np.sqrt(39))**2\n",
    "    int_step = (final_df.loc[i, 'Daily_Volatility_minus4pm']/np.sqrt(38))**2\n",
    "    today_step3 = np.sqrt(max(0, today_step2*39-int_step*38))\n",
    "    final_df.loc[i, 'Auction_Volatility_pred'] = today_step3\n",
    "\n",
    "final_df = final_df[final_df['Anderson'] > -float('inf')]\n",
    "final_df"
   ]
  },
  {
   "cell_type": "code",
   "execution_count": 17,
   "metadata": {},
   "outputs": [
    {
     "data": {
      "text/plain": [
       "LinearRegression()"
      ]
     },
     "execution_count": 17,
     "metadata": {},
     "output_type": "execute_result"
    }
   ],
   "source": [
    "####################################\n",
    "# Linear Model with Anderson\n",
    "####################################\n",
    "\n",
    "from sklearn.linear_model import LinearRegression\n",
    "model_volatility = LinearRegression()\n",
    "model_volatility.fit(final_df[['Volume','Avg20_Volatility','Anderson']][:200], final_df[['Auction_Log_Returns']][:200])"
   ]
  },
  {
   "cell_type": "code",
   "execution_count": 18,
   "metadata": {},
   "outputs": [
    {
     "name": "stdout",
     "output_type": "stream",
     "text": [
      "Within 1 confidence interval was 0.7096774193548387\n",
      "Within 2 confidence intervals was 0.9354838709677419\n",
      "Within 3 confidence intervals was 0.967741935483871\n"
     ]
    }
   ],
   "source": [
    "####################################\n",
    "# Confidence Interval with Anderson\n",
    "####################################\n",
    "\n",
    "y_pred = model_volatility.predict(final_df[['Volume','Avg20_Volatility','Anderson']][200:])\n",
    "y_pred_var = pd.DataFrame({'Date': final_df['Date'][200:], 'pred_ratio': [np.exp(i[0]) for i in y_pred]})\n",
    "\n",
    "# Rows with 3:50pm information\n",
    "apple_price_1550 = apple[apple['Local_Date_Time'].str.contains(\"15:50\")]\n",
    "\n",
    "# Merge the above two tables\n",
    "merged1 = apple_price_1550.merge(apple_auction, on='Date')\n",
    "merged2 = merged1.merge(y_pred_var, on='Date')\n",
    "merged2['Predicted_Variance'] = merged2['Open']*merged2['pred_ratio'] - merged2['Open']\n",
    "merged2.loc[(merged2['Price']<merged2['Open']+merged2['Predicted_Variance']) & (merged2['Price']>=merged2['Open']-merged2['Predicted_Variance']), 'Within_1Interval'] = True \n",
    "merged2.loc[(merged2['Price']>=merged2['Open']+merged2['Predicted_Variance']) | (merged2['Price']<merged2['Open']-merged2['Predicted_Variance']), 'Within_1Interval'] = False\n",
    "merged2.loc[(merged2['Price']<merged2['Open']+2*merged2['Predicted_Variance']) & (merged2['Price']>=merged2['Open']-2*merged2['Predicted_Variance']), 'Within_2Interval'] = True \n",
    "merged2.loc[(merged2['Price']>=merged2['Open']+2*merged2['Predicted_Variance']) | (merged2['Price']<merged2['Open']-2*merged2['Predicted_Variance']), 'Within_2Interval'] = False\n",
    "merged2.loc[(merged2['Price']<merged2['Open']+3*merged2['Predicted_Variance']) & (merged2['Price']>=merged2['Open']-3*merged2['Predicted_Variance']), 'Within_3Interval'] = True \n",
    "merged2.loc[(merged2['Price']>=merged2['Open']+3*merged2['Predicted_Variance']) | (merged2['Price']<merged2['Open']-3*merged2['Predicted_Variance']), 'Within_3Interval'] = False\n",
    "\n",
    "print('Within 1 confidence interval was', merged2[merged2['Within_1Interval'] == True].shape[0] / merged2.shape[0])\n",
    "print('Within 2 confidence intervals was', merged2[merged2['Within_2Interval'] == True].shape[0] / merged2.shape[0])\n",
    "print('Within 3 confidence intervals was', merged2[merged2['Within_3Interval'] == True].shape[0] / merged2.shape[0])"
   ]
  },
  {
   "cell_type": "markdown",
   "metadata": {},
   "source": [
    "With the Anderson model, it follows the normal distribution closely."
   ]
  },
  {
   "cell_type": "code",
   "execution_count": 19,
   "metadata": {},
   "outputs": [
    {
     "data": {
      "text/plain": [
       "0.24035089130097548"
      ]
     },
     "execution_count": 19,
     "metadata": {},
     "output_type": "execute_result"
    }
   ],
   "source": [
    "np.mean(merged2['Predicted_Variance']) # narrower than not using Anderson"
   ]
  },
  {
   "cell_type": "code",
   "execution_count": 43,
   "metadata": {},
   "outputs": [
    {
     "data": {
      "text/plain": [
       "LinearRegression()"
      ]
     },
     "execution_count": 43,
     "metadata": {},
     "output_type": "execute_result"
    }
   ],
   "source": [
    "####################################\n",
    "# Linear Model with Anderson QQQ\n",
    "####################################\n",
    "\n",
    "from sklearn.linear_model import LinearRegression, Ridge\n",
    "from sklearn.preprocessing import PolynomialFeatures\n",
    "\n",
    "# interaction = PolynomialFeatures(degree=2, include_bias=False, interaction_only=True)\n",
    "# X_inter = interaction.fit_transform(final_df[['Volume','Avg20_Volatility','Avg20_Volatility_qqq','Beta','Anderson']][:200])\n",
    "\n",
    "model_volatility_qqq = LinearRegression()\n",
    "model_volatility_qqq.fit(final_df[['Volume','Avg20_Volatility','Avg20_Volatility_qqq','Beta','Anderson']][:200], final_df[['Auction_Log_Returns']][:200])\n",
    "\n",
    "# model_volatility_qqq = Ridge()\n",
    "# model_volatility_qqq.fit(final_df[['Volume','Avg20_Volatility','Avg20_Volatility_qqq','Anderson']][:200], final_df[['Auction_Log_Returns']][:200])\n"
   ]
  },
  {
   "cell_type": "code",
   "execution_count": 21,
   "metadata": {},
   "outputs": [
    {
     "name": "stdout",
     "output_type": "stream",
     "text": [
      "Within 1 confidence interval was 0.6774193548387096\n",
      "Within 2 confidence intervals was 0.9354838709677419\n",
      "Within 3 confidence intervals was 0.9354838709677419\n"
     ]
    }
   ],
   "source": [
    "####################################\n",
    "# Confidence Interval with QQQ\n",
    "####################################\n",
    "\n",
    "y_pred_qqq = model_volatility_qqq.predict(final_df[['Volume','Avg20_Volatility','Avg20_Volatility_qqq','Beta','Anderson']][200:])\n",
    "y_pred_var_qqq = pd.DataFrame({'Date': final_df['Date'][200:], 'pred_ratio': [np.exp(i[0]) for i in y_pred_qqq]})\n",
    "\n",
    "# Rows with 3:50pm information\n",
    "apple_price_1550 = apple[apple['Local_Date_Time'].str.contains(\"15:50\")]\n",
    "\n",
    "# Merge the above two tables\n",
    "merged1 = apple_price_1550.merge(apple_auction, on='Date')\n",
    "merged2 = merged1.merge(y_pred_var_qqq, on='Date')\n",
    "merged2['Predicted_Variance'] = merged2['Open']*merged2['pred_ratio'] - merged2['Open']\n",
    "merged2.loc[(merged2['Price']<merged2['Open']+merged2['Predicted_Variance']) & (merged2['Price']>=merged2['Open']-merged2['Predicted_Variance']), 'Within_1Interval'] = True \n",
    "merged2.loc[(merged2['Price']>=merged2['Open']+merged2['Predicted_Variance']) | (merged2['Price']<merged2['Open']-merged2['Predicted_Variance']), 'Within_1Interval'] = False\n",
    "merged2.loc[(merged2['Price']<merged2['Open']+2*merged2['Predicted_Variance']) & (merged2['Price']>=merged2['Open']-2*merged2['Predicted_Variance']), 'Within_2Interval'] = True \n",
    "merged2.loc[(merged2['Price']>=merged2['Open']+2*merged2['Predicted_Variance']) | (merged2['Price']<merged2['Open']-2*merged2['Predicted_Variance']), 'Within_2Interval'] = False\n",
    "merged2.loc[(merged2['Price']<merged2['Open']+3*merged2['Predicted_Variance']) & (merged2['Price']>=merged2['Open']-3*merged2['Predicted_Variance']), 'Within_3Interval'] = True \n",
    "merged2.loc[(merged2['Price']>=merged2['Open']+3*merged2['Predicted_Variance']) | (merged2['Price']<merged2['Open']-3*merged2['Predicted_Variance']), 'Within_3Interval'] = False\n",
    "\n",
    "print('Within 1 confidence interval was', merged2[merged2['Within_1Interval'] == True].shape[0] / merged2.shape[0])\n",
    "print('Within 2 confidence intervals was', merged2[merged2['Within_2Interval'] == True].shape[0] / merged2.shape[0])\n",
    "print('Within 3 confidence intervals was', merged2[merged2['Within_3Interval'] == True].shape[0] / merged2.shape[0])"
   ]
  },
  {
   "cell_type": "markdown",
   "metadata": {},
   "source": [
    "With the QQQ model, it follows the normal distribution closely."
   ]
  },
  {
   "cell_type": "code",
   "execution_count": 22,
   "metadata": {},
   "outputs": [
    {
     "data": {
      "text/plain": [
       "0.23784129214845778"
      ]
     },
     "execution_count": 22,
     "metadata": {},
     "output_type": "execute_result"
    }
   ],
   "source": [
    "np.mean(merged2['Predicted_Variance']) # narrower than not using QQQ"
   ]
  },
  {
   "cell_type": "code",
   "execution_count": 23,
   "metadata": {},
   "outputs": [
    {
     "data": {
      "text/plain": [
       "LinearRegression()"
      ]
     },
     "execution_count": 23,
     "metadata": {},
     "output_type": "execute_result"
    }
   ],
   "source": [
    "####################################\n",
    "# Linear Model with Anderson QQQ Ratio\n",
    "####################################\n",
    "\n",
    "from sklearn.linear_model import LinearRegression, Ridge\n",
    "model_volatility_ratio = LinearRegression()\n",
    "model_volatility_ratio.fit(final_df[['Volume','Avg20_Volatility','Avg20_Volatility_qqq','Anderson','Beta','Auction_Volatility_pred']][:200], final_df[['Auction_Log_Returns']][:200])\n",
    "\n",
    "# model_volatility_qqq = Ridge()\n",
    "# model_volatility_qqq.fit(final_df[['Volume','Avg20_Volatility','Avg20_Volatility_qqq','Anderson']][:200], final_df[['Auction_Log_Returns']][:200])\n"
   ]
  },
  {
   "cell_type": "code",
   "execution_count": 24,
   "metadata": {},
   "outputs": [
    {
     "name": "stdout",
     "output_type": "stream",
     "text": [
      "Within 1 confidence interval was 0.6774193548387096\n",
      "Within 2 confidence intervals was 0.9354838709677419\n",
      "Within 3 confidence intervals was 0.9354838709677419\n"
     ]
    }
   ],
   "source": [
    "####################################\n",
    "# Confidence Interval with QQQ Ratio\n",
    "####################################\n",
    "\n",
    "y_pred_ratio = model_volatility_ratio.predict(final_df[['Volume','Avg20_Volatility','Avg20_Volatility_qqq','Anderson','Beta','Auction_Volatility_pred']][200:])\n",
    "y_pred_var_ratio = pd.DataFrame({'Date': final_df['Date'][200:], 'pred_ratio': [np.exp(i[0]) for i in y_pred_ratio]})\n",
    "\n",
    "# Rows with 3:50pm information\n",
    "apple_price_1550 = apple[apple['Local_Date_Time'].str.contains(\"15:50\")]\n",
    "\n",
    "# Merge the above two tables\n",
    "merged1 = apple_price_1550.merge(apple_auction, on='Date')\n",
    "merged2 = merged1.merge(y_pred_var_ratio, on='Date')\n",
    "merged2['Predicted_Variance'] = merged2['Open']*merged2['pred_ratio'] - merged2['Open']\n",
    "merged2.loc[(merged2['Price']<merged2['Open']+merged2['Predicted_Variance']) & (merged2['Price']>=merged2['Open']-merged2['Predicted_Variance']), 'Within_1Interval'] = True \n",
    "merged2.loc[(merged2['Price']>=merged2['Open']+merged2['Predicted_Variance']) | (merged2['Price']<merged2['Open']-merged2['Predicted_Variance']), 'Within_1Interval'] = False\n",
    "merged2.loc[(merged2['Price']<merged2['Open']+2*merged2['Predicted_Variance']) & (merged2['Price']>=merged2['Open']-2*merged2['Predicted_Variance']), 'Within_2Interval'] = True \n",
    "merged2.loc[(merged2['Price']>=merged2['Open']+2*merged2['Predicted_Variance']) | (merged2['Price']<merged2['Open']-2*merged2['Predicted_Variance']), 'Within_2Interval'] = False\n",
    "merged2.loc[(merged2['Price']<merged2['Open']+3*merged2['Predicted_Variance']) & (merged2['Price']>=merged2['Open']-3*merged2['Predicted_Variance']), 'Within_3Interval'] = True \n",
    "merged2.loc[(merged2['Price']>=merged2['Open']+3*merged2['Predicted_Variance']) | (merged2['Price']<merged2['Open']-3*merged2['Predicted_Variance']), 'Within_3Interval'] = False\n",
    "\n",
    "print('Within 1 confidence interval was', merged2[merged2['Within_1Interval'] == True].shape[0] / merged2.shape[0])\n",
    "print('Within 2 confidence intervals was', merged2[merged2['Within_2Interval'] == True].shape[0] / merged2.shape[0])\n",
    "print('Within 3 confidence intervals was', merged2[merged2['Within_3Interval'] == True].shape[0] / merged2.shape[0])"
   ]
  },
  {
   "cell_type": "code",
   "execution_count": 25,
   "metadata": {},
   "outputs": [
    {
     "data": {
      "text/plain": [
       "0.2403789906472426"
      ]
     },
     "execution_count": 25,
     "metadata": {},
     "output_type": "execute_result"
    }
   ],
   "source": [
    "np.mean(merged2['Predicted_Variance']) "
   ]
  },
  {
   "cell_type": "code",
   "execution_count": null,
   "metadata": {},
   "outputs": [],
   "source": []
  },
  {
   "cell_type": "code",
   "execution_count": 26,
   "metadata": {},
   "outputs": [
    {
     "data": {
      "text/html": [
       "<div>\n",
       "<style scoped>\n",
       "    .dataframe tbody tr th:only-of-type {\n",
       "        vertical-align: middle;\n",
       "    }\n",
       "\n",
       "    .dataframe tbody tr th {\n",
       "        vertical-align: top;\n",
       "    }\n",
       "\n",
       "    .dataframe thead th {\n",
       "        text-align: right;\n",
       "    }\n",
       "</style>\n",
       "<table border=\"1\" class=\"dataframe\">\n",
       "  <thead>\n",
       "    <tr style=\"text-align: right;\">\n",
       "      <th></th>\n",
       "      <th>Date</th>\n",
       "      <th>Volume</th>\n",
       "      <th>Avg20_Volatility</th>\n",
       "      <th>Auction_Log_Returns</th>\n",
       "    </tr>\n",
       "  </thead>\n",
       "  <tbody>\n",
       "    <tr>\n",
       "      <th>0</th>\n",
       "      <td>2020-09-01</td>\n",
       "      <td>798991</td>\n",
       "      <td>0.018513</td>\n",
       "      <td>0.002239</td>\n",
       "    </tr>\n",
       "    <tr>\n",
       "      <th>1</th>\n",
       "      <td>2020-09-02</td>\n",
       "      <td>591340</td>\n",
       "      <td>0.021557</td>\n",
       "      <td>0.001670</td>\n",
       "    </tr>\n",
       "    <tr>\n",
       "      <th>2</th>\n",
       "      <td>2020-09-03</td>\n",
       "      <td>1147666</td>\n",
       "      <td>0.026901</td>\n",
       "      <td>0.001452</td>\n",
       "    </tr>\n",
       "    <tr>\n",
       "      <th>3</th>\n",
       "      <td>2020-09-04</td>\n",
       "      <td>1330616</td>\n",
       "      <td>0.028939</td>\n",
       "      <td>0.001099</td>\n",
       "    </tr>\n",
       "    <tr>\n",
       "      <th>4</th>\n",
       "      <td>2020-09-08</td>\n",
       "      <td>896460</td>\n",
       "      <td>0.030257</td>\n",
       "      <td>0.005509</td>\n",
       "    </tr>\n",
       "    <tr>\n",
       "      <th>...</th>\n",
       "      <td>...</td>\n",
       "      <td>...</td>\n",
       "      <td>...</td>\n",
       "      <td>...</td>\n",
       "    </tr>\n",
       "    <tr>\n",
       "      <th>246</th>\n",
       "      <td>2021-08-26</td>\n",
       "      <td>3998750</td>\n",
       "      <td>0.018709</td>\n",
       "      <td>0.004698</td>\n",
       "    </tr>\n",
       "    <tr>\n",
       "      <th>247</th>\n",
       "      <td>2021-08-27</td>\n",
       "      <td>1149237</td>\n",
       "      <td>0.018744</td>\n",
       "      <td>0.000902</td>\n",
       "    </tr>\n",
       "    <tr>\n",
       "      <th>248</th>\n",
       "      <td>2021-08-30</td>\n",
       "      <td>1136640</td>\n",
       "      <td>0.018418</td>\n",
       "      <td>0.001231</td>\n",
       "    </tr>\n",
       "    <tr>\n",
       "      <th>249</th>\n",
       "      <td>2021-08-31</td>\n",
       "      <td>734201</td>\n",
       "      <td>0.017851</td>\n",
       "      <td>0.000523</td>\n",
       "    </tr>\n",
       "    <tr>\n",
       "      <th>250</th>\n",
       "      <td>2021-09-01</td>\n",
       "      <td>1144890</td>\n",
       "      <td>0.017492</td>\n",
       "      <td>0.000830</td>\n",
       "    </tr>\n",
       "  </tbody>\n",
       "</table>\n",
       "<p>251 rows × 4 columns</p>\n",
       "</div>"
      ],
      "text/plain": [
       "           Date   Volume  Avg20_Volatility  Auction_Log_Returns\n",
       "0    2020-09-01   798991          0.018513             0.002239\n",
       "1    2020-09-02   591340          0.021557             0.001670\n",
       "2    2020-09-03  1147666          0.026901             0.001452\n",
       "3    2020-09-04  1330616          0.028939             0.001099\n",
       "4    2020-09-08   896460          0.030257             0.005509\n",
       "..          ...      ...               ...                  ...\n",
       "246  2021-08-26  3998750          0.018709             0.004698\n",
       "247  2021-08-27  1149237          0.018744             0.000902\n",
       "248  2021-08-30  1136640          0.018418             0.001231\n",
       "249  2021-08-31   734201          0.017851             0.000523\n",
       "250  2021-09-01  1144890          0.017492             0.000830\n",
       "\n",
       "[251 rows x 4 columns]"
      ]
     },
     "execution_count": 26,
     "metadata": {},
     "output_type": "execute_result"
    }
   ],
   "source": [
    "# Simple linear regression without Anderson coefficient\n",
    "final_df_no_Anderson = pd.DataFrame({\n",
    "    'Date': dates_final,\n",
    "    'Volume': volumes,\n",
    "    'Avg20_Volatility': avg_20day_volatility_raw, \n",
    "    'Auction_Log_Returns': auction_log_returns\n",
    "})\n",
    "final_df_no_Anderson = final_df_no_Anderson[np.isnan(final_df_no_Anderson['Avg20_Volatility']) == False]\n",
    "final_df_no_Anderson"
   ]
  },
  {
   "cell_type": "code",
   "execution_count": 27,
   "metadata": {},
   "outputs": [
    {
     "data": {
      "text/plain": [
       "LinearRegression()"
      ]
     },
     "execution_count": 27,
     "metadata": {},
     "output_type": "execute_result"
    }
   ],
   "source": [
    "####################################\n",
    "# Linear Model without Anderson\n",
    "####################################\n",
    "\n",
    "from sklearn.linear_model import LinearRegression\n",
    "model_no_volatility = LinearRegression()\n",
    "model_no_volatility.fit(final_df_no_Anderson[['Volume','Avg20_Volatility']][:200], final_df_no_Anderson[['Auction_Log_Returns']][:200])"
   ]
  },
  {
   "cell_type": "code",
   "execution_count": 28,
   "metadata": {},
   "outputs": [
    {
     "name": "stdout",
     "output_type": "stream",
     "text": [
      "Within 1 confidence interval was 0.6862745098039216\n",
      "Within 2 confidence intervals was 0.9019607843137255\n",
      "Within 3 confidence intervals was 0.9803921568627451\n"
     ]
    }
   ],
   "source": [
    "#######################################\n",
    "# Confidence Interval without Anderson\n",
    "#######################################\n",
    "\n",
    "y_pred_no_Anderson = model_no_volatility.predict(final_df_no_Anderson[['Volume','Avg20_Volatility']][200:])\n",
    "y_pred_var_no_Anderson = pd.DataFrame({'Date': final_df_no_Anderson['Date'][200:], 'pred_ratio': [np.exp(i[0]) for i in y_pred_no_Anderson]})\n",
    "\n",
    "# Rows with 3:50pm information\n",
    "apple_price_1550 = apple[apple['Local_Date_Time'].str.contains(\"15:50\")]\n",
    "\n",
    "# Merge the above two tables\n",
    "merged1 = apple_price_1550.merge(apple_auction, on='Date')\n",
    "merged2 = merged1.merge(y_pred_var_no_Anderson, on='Date')\n",
    "merged2['Predicted_Variance'] = merged2['Open']*merged2['pred_ratio'] - merged2['Open']\n",
    "merged2.loc[(merged2['Price']<merged2['Open']+merged2['Predicted_Variance']) & (merged2['Price']>=merged2['Open']-merged2['Predicted_Variance']), 'Within_1Interval'] = True \n",
    "merged2.loc[(merged2['Price']>=merged2['Open']+merged2['Predicted_Variance']) | (merged2['Price']<merged2['Open']-merged2['Predicted_Variance']), 'Within_1Interval'] = False\n",
    "merged2.loc[(merged2['Price']<merged2['Open']+2*merged2['Predicted_Variance']) & (merged2['Price']>=merged2['Open']-2*merged2['Predicted_Variance']), 'Within_2Interval'] = True \n",
    "merged2.loc[(merged2['Price']>=merged2['Open']+2*merged2['Predicted_Variance']) | (merged2['Price']<merged2['Open']-2*merged2['Predicted_Variance']), 'Within_2Interval'] = False\n",
    "merged2.loc[(merged2['Price']<merged2['Open']+3*merged2['Predicted_Variance']) & (merged2['Price']>=merged2['Open']-3*merged2['Predicted_Variance']), 'Within_3Interval'] = True \n",
    "merged2.loc[(merged2['Price']>=merged2['Open']+3*merged2['Predicted_Variance']) | (merged2['Price']<merged2['Open']-3*merged2['Predicted_Variance']), 'Within_3Interval'] = False\n",
    "\n",
    "print('Within 1 confidence interval was', merged2[merged2['Within_1Interval'] == True].shape[0] / merged2.shape[0])\n",
    "print('Within 2 confidence intervals was', merged2[merged2['Within_2Interval'] == True].shape[0] / merged2.shape[0])\n",
    "print('Within 3 confidence intervals was', merged2[merged2['Within_3Interval'] == True].shape[0] / merged2.shape[0])"
   ]
  },
  {
   "cell_type": "markdown",
   "metadata": {},
   "source": [
    "Without the Anderson model, it does not follow the normal distribution as closely."
   ]
  },
  {
   "cell_type": "code",
   "execution_count": 29,
   "metadata": {},
   "outputs": [
    {
     "data": {
      "text/plain": [
       "0.25247660604559446"
      ]
     },
     "execution_count": 29,
     "metadata": {},
     "output_type": "execute_result"
    }
   ],
   "source": [
    "np.mean(merged2['Predicted_Variance'])"
   ]
  },
  {
   "cell_type": "code",
   "execution_count": null,
   "metadata": {},
   "outputs": [],
   "source": []
  },
  {
   "cell_type": "code",
   "execution_count": 30,
   "metadata": {},
   "outputs": [
    {
     "name": "stdout",
     "output_type": "stream",
     "text": [
      "Model Coefficients: [[-5.56471349e-11  3.02036683e-01 -1.19025341e+00]]\n",
      "Mean Absolute Error: 0.0009833858533677981\n",
      "Mean Squared Error: 1.481088585622057e-06\n",
      "Coefficient of Determination: -0.08130478591592949\n"
     ]
    }
   ],
   "source": [
    "########################################\n",
    "# Linear Regression Output with Anderson\n",
    "########################################\n",
    "\n",
    "from sklearn.metrics import mean_squared_error, r2_score, mean_absolute_error\n",
    "# Printout relevant metrics\n",
    "print(\"Model Coefficients:\", model_volatility.coef_)\n",
    "print(\"Mean Absolute Error:\", mean_absolute_error(final_df[['Auction_Log_Returns']][200:], y_pred))\n",
    "print(\"Mean Squared Error:\", mean_squared_error(final_df[['Auction_Log_Returns']][200:], y_pred))\n",
    "print(\"Coefficient of Determination:\", r2_score(final_df[['Auction_Log_Returns']][200:], y_pred))"
   ]
  },
  {
   "cell_type": "code",
   "execution_count": 31,
   "metadata": {},
   "outputs": [
    {
     "name": "stdout",
     "output_type": "stream",
     "text": [
      "Model Coefficients: [[-2.57992015e-11  2.58136598e-01  5.86307720e-02 -2.36230272e-04\n",
      "  -1.18046401e+00]]\n",
      "Mean Absolute Error: 0.0009867489153307693\n",
      "Mean Squared Error: 1.5515266780971205e-06\n",
      "Coefficient of Determination: -0.13272983046995623\n"
     ]
    }
   ],
   "source": [
    "########################################\n",
    "# Linear Regression Output with Anderson + QQQ\n",
    "########################################\n",
    "\n",
    "from sklearn.metrics import mean_squared_error, r2_score, mean_absolute_error\n",
    "# Printout relevant metrics\n",
    "print(\"Model Coefficients:\", model_volatility_qqq.coef_)\n",
    "print(\"Mean Absolute Error:\", mean_absolute_error(final_df[['Auction_Log_Returns']][200:], y_pred_qqq))\n",
    "print(\"Mean Squared Error:\", mean_squared_error(final_df[['Auction_Log_Returns']][200:], y_pred_qqq))\n",
    "print(\"Coefficient of Determination:\", r2_score(final_df[['Auction_Log_Returns']][200:], y_pred_qqq))"
   ]
  },
  {
   "cell_type": "code",
   "execution_count": 32,
   "metadata": {},
   "outputs": [
    {
     "name": "stdout",
     "output_type": "stream",
     "text": [
      "Model Coefficients: [[-2.87226725e-11  2.68542691e-01  6.35567431e-02 -1.20792003e+00\n",
      "  -1.89075917e-04 -6.09736849e-02]]\n",
      "Mean Absolute Error: 0.0009987683428151234\n",
      "Mean Squared Error: 1.5897701817577325e-06\n",
      "Coefficient of Determination: -0.16065043153315672\n"
     ]
    }
   ],
   "source": [
    "########################################\n",
    "# Linear Regression Output with Anderson + QQQ + ratio\n",
    "########################################\n",
    "\n",
    "from sklearn.metrics import mean_squared_error, r2_score, mean_absolute_error\n",
    "# Printout relevant metrics\n",
    "print(\"Model Coefficients:\", model_volatility_ratio.coef_)\n",
    "print(\"Mean Absolute Error:\", mean_absolute_error(final_df[['Auction_Log_Returns']][200:], y_pred_ratio))\n",
    "print(\"Mean Squared Error:\", mean_squared_error(final_df[['Auction_Log_Returns']][200:], y_pred_ratio))\n",
    "print(\"Coefficient of Determination:\", r2_score(final_df[['Auction_Log_Returns']][200:], y_pred_ratio))"
   ]
  },
  {
   "cell_type": "code",
   "execution_count": 33,
   "metadata": {},
   "outputs": [
    {
     "name": "stdout",
     "output_type": "stream",
     "text": [
      "Model Coefficients: [[-7.98079952e-11  9.26873056e-02]]\n",
      "Mean Absolute Error: 0.0011101139175463235\n",
      "Mean Squared Error: 1.8510606952292412e-06\n",
      "Coefficient of Determination: -0.047878689432542254\n"
     ]
    }
   ],
   "source": [
    "###########################################\n",
    "# Linear Regression Output without Anderson\n",
    "###########################################\n",
    "\n",
    "from sklearn.metrics import mean_squared_error, r2_score, mean_absolute_error\n",
    "# Printout relevant metrics\n",
    "print(\"Model Coefficients:\", model_no_volatility.coef_)\n",
    "print(\"Mean Absolute Error:\", mean_absolute_error(final_df_no_Anderson[['Auction_Log_Returns']][200:], y_pred_no_Anderson))\n",
    "print(\"Mean Squared Error:\", mean_squared_error(final_df_no_Anderson[['Auction_Log_Returns']][200:], y_pred_no_Anderson))\n",
    "print(\"Coefficient of Determination:\", r2_score(final_df_no_Anderson[['Auction_Log_Returns']][200:], y_pred_no_Anderson))"
   ]
  },
  {
   "cell_type": "code",
   "execution_count": null,
   "metadata": {},
   "outputs": [],
   "source": []
  },
  {
   "cell_type": "code",
   "execution_count": null,
   "metadata": {},
   "outputs": [],
   "source": []
  },
  {
   "cell_type": "code",
   "execution_count": 34,
   "metadata": {},
   "outputs": [
    {
     "data": {
      "image/png": "[encoded data removed]",
      "text/plain": [
       "<Figure size 432x288 with 1 Axes>"
      ]
     },
     "metadata": {
      "needs_background": "light"
     },
     "output_type": "display_data"
    }
   ],
   "source": [
    "# Additional graphs\n",
    "\n",
    "import matplotlib.pyplot as plt\n",
    "\n",
    "plt.hist(merged1['Close'] - merged1['Price'], bins=100)\n",
    "plt.xlim([-3, 3])\n",
    "plt.xlabel('Price Difference in $')\n",
    "plt.ylabel('Freq between Sept 2020 and Aug 2021')\n",
    "plt.title('Price Difference Between 3:50pm and Auction for MSFT')\n",
    "plt.yticks(range(0, 11, 2))\n",
    "plt.show()"
   ]
  },
  {
   "cell_type": "code",
   "execution_count": null,
   "metadata": {},
   "outputs": [],
   "source": []
  }
 ],
 "metadata": {
  "celltoolbar": "Raw Cell Format",
  "kernelspec": {
   "display_name": "Python 3",
   "language": "python",
   "name": "python3"
  },
  "language_info": {
   "codemirror_mode": {
    "name": "ipython",
    "version": 3
   },
   "file_extension": ".py",
   "mimetype": "text/x-python",
   "name": "python",
   "nbconvert_exporter": "python",
   "pygments_lexer": "ipython3",
   "version": "3.8.5"
  }
 },
 "nbformat": 4,
 "nbformat_minor": 4
}
