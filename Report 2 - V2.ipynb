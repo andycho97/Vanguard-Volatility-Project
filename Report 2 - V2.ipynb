{
 "cells": [
  {
   "cell_type": "code",
   "execution_count": 2,
   "metadata": {},
   "outputs": [],
   "source": [
    "import pandas as pd\n",
    "import numpy as np\n",
    "import matplotlib.pyplot as plt\n",
    "import seaborn as sns\n",
    "from numpy import log, square, sqrt, power, arange, ones, zeros, isscalar,\\\n",
    "    array, outer, pi, sin, cos, expand_dims, repeat, full, concatenate, ravel\n",
    "from numpy.random import normal\n",
    "from scipy.optimize import least_squares, minimize\n",
    "%matplotlib inline"
   ]
  },
  {
   "cell_type": "code",
   "execution_count": 3,
   "metadata": {},
   "outputs": [
    {
     "name": "stderr",
     "output_type": "stream",
     "text": [
      "<ipython-input-3-eb84b3a7ca8e>:16: SettingWithCopyWarning: \n",
      "A value is trying to be set on a copy of a slice from a DataFrame.\n",
      "Try using .loc[row_indexer,col_indexer] = value instead\n",
      "\n",
      "See the caveats in the documentation: https://pandas.pydata.org/pandas-docs/stable/user_guide/indexing.html#returning-a-view-versus-a-copy\n",
      "  apple['Date'] = pd.to_datetime(apple['Local_Date_Time']).dt.date\n"
     ]
    }
   ],
   "source": [
    "# Trade data\n",
    "df = pd.read_csv('NSQ_OneYear100test_Sept21.csv', \n",
    "                   usecols=['Local_Date_Time','RIC','Open','High','Low','Close','VWAP','NumberOfTrades','Volume'],\n",
    "                   dtype={'Local_Date_Time': str,\n",
    "                          'RIC': str, \n",
    "                          'Open': np.float64,\n",
    "                          'High': np.float64,\n",
    "                          'Low': np.float64,\n",
    "                          'Close': np.float64,\n",
    "                          'VWAP': np.float64,\n",
    "                          'NumberOfTrades': int,\n",
    "                          'Volume': int},\n",
    "                   skipinitialspace=True,\n",
    "                   parse_dates=True)\n",
    "apple = df[df['RIC'] == 'AAPL.O']\n",
    "apple['Date'] = pd.to_datetime(apple['Local_Date_Time']).dt.date"
   ]
  },
  {
   "cell_type": "code",
   "execution_count": 4,
   "metadata": {},
   "outputs": [
    {
     "name": "stderr",
     "output_type": "stream",
     "text": [
      "<ipython-input-4-31c36d887279>:6: SettingWithCopyWarning: \n",
      "A value is trying to be set on a copy of a slice from a DataFrame.\n",
      "Try using .loc[row_indexer,col_indexer] = value instead\n",
      "\n",
      "See the caveats in the documentation: https://pandas.pydata.org/pandas-docs/stable/user_guide/indexing.html#returning-a-view-versus-a-copy\n",
      "  apple_auction['Date'] = pd.to_datetime(apple_auction['Local_Date_Time']).dt.date\n"
     ]
    }
   ],
   "source": [
    "# Auction price data\n",
    "auction = pd.read_csv('NSQ_OneYear100closeA_Sept21.csv',\n",
    "                      skipinitialspace=True,\n",
    "                      parse_dates=True)\n",
    "apple_auction = auction[auction['RIC'] == 'AAPL.O']\n",
    "apple_auction['Date'] = pd.to_datetime(apple_auction['Local_Date_Time']).dt.date"
   ]
  },
  {
   "cell_type": "code",
   "execution_count": 62,
   "metadata": {},
   "outputs": [],
   "source": [
    "# Data Processing (10 minute intervals)\n",
    "\n",
    "dates = apple['Date'].unique()\n",
    "daily_volatility = []\n",
    "avg_20day_volatility = []\n",
    "stocks = []\n",
    "dates_final = []\n",
    "auction_log_returns = []\n",
    "volumes = []\n",
    "\n",
    "# i = 0\n",
    "for date in dates:\n",
    "    \n",
    "    apple_today = apple[apple['Date'] == date]\n",
    "    apple_auction_today = apple_auction[apple_auction['Date'] == date]\n",
    "    \n",
    "    apple_today = apple_today.set_index(pd.DatetimeIndex(apple_today['Local_Date_Time']))\n",
    "    apple_today_10min_max = pd.DataFrame(apple_today['High'].resample(\"10T\").max())\n",
    "    apple_today_10min_min = pd.DataFrame(apple_today['Low'].resample(\"10T\").min())\n",
    "    apple_today_10min_open = pd.DataFrame(apple_today['Open'].resample(\"10T\").first())\n",
    "    apple_today_10min_close = pd.DataFrame(apple_today['Close'].resample(\"10T\").last())\n",
    "    apple_today_10min_volume = pd.DataFrame(apple_today['Volume'].resample(\"10T\").sum())\n",
    "    apple_today_10min = apple_today_10min_max.join(apple_today_10min_min)\n",
    "    apple_today_10min = apple_today_10min.join(apple_today_10min_open)\n",
    "    apple_today_10min = apple_today_10min.join(apple_today_10min_close)\n",
    "    apple_today_10min = apple_today_10min.join(apple_today_10min_volume)\n",
    "    apple_today_10min['log_returns'] = abs(np.log(apple_today_10min['Close']/apple_today_10min['Open'])) # alternate volatility formula\n",
    "#     apple_today_10min['Volatility'] = np.sqrt(0.5*np.square(np.log(apple_today_10min['High']/apple_today_10min['Low'])) - (2*np.log(2)-1) * np.square(np.log(apple_today_10min['Close']/apple_today_10min['Open'])))\n",
    "    volatility_today = apple_today_10min['log_returns'].values\n",
    "    \n",
    "    if len(volatility_today) != 39: # Skip if there are fewer than 390 minutes of trading data\n",
    "        continue\n",
    "        \n",
    "    # Dates for which the trade data is complete\n",
    "    dates_final.append(date)\n",
    "    \n",
    "    auction_log_returns_today = abs(np.log(apple_auction_today['Price'].iloc[0]/apple_today_10min['Open'][-1]))\n",
    "    auction_log_returns.append(auction_log_returns_today)\n",
    "    \n",
    "    # 10 minute interval volatility * number of complete trade days\n",
    "    stocks.append(volatility_today)\n",
    "    \n",
    "    # Average daily volatility (later used for 20 day moving average)\n",
    "    daily_volatility.append(np.sqrt(39)*np.sqrt(np.mean(np.square(apple_today_10min['log_returns'].values))))\n",
    "    \n",
    "    # Total volume for each complete trade day between 930 and 1550\n",
    "    volumes.append(sum(apple_today_10min[:-1]['Volume']))\n",
    "\n",
    "volatility_df = pd.DataFrame({'Date':dates_final, 'daily_volatility': daily_volatility})\n",
    "volatility_df['volatility_ewma20'] = volatility_df['daily_volatility'].ewm(span=20).mean()\n",
    "\n",
    "stocks = stocks[20:]\n",
    "stocks = np.vstack(stocks).T # Training data for Anderson model\n",
    "avg_20day_volatility_raw = np.array(volatility_df['volatility_ewma20'])\n",
    "avg_20day_volatility = np.array(volatility_df['volatility_ewma20'][20:]) # Sigma_t input for Anderson model"
   ]
  },
  {
   "cell_type": "code",
   "execution_count": 10,
   "metadata": {},
   "outputs": [],
   "source": [
    "class FlexibleFourierRegression():\n",
    "    '''\n",
    "    See P.152 Anderson(1997) Appendix B for details\n",
    "    '''\n",
    "    \n",
    "    def __init__(self, N, J=0, P=0, di=[]):\n",
    "        self.J = J\n",
    "        self.D = len(di)\n",
    "        self.P = P\n",
    "        \n",
    "        self.N = N\n",
    "        self.di = di\n",
    "        self.Id = zeros(shape=(N,))\n",
    "        self.mu0 = ones(shape=(J+1,))\n",
    "        self.mu1 = ones(shape=(J+1,))\n",
    "        self.mu2 = ones(shape=(J+1,))\n",
    "        self.lamb = ones(shape=(self.D,))\n",
    "        self.gamma = ones(shape=(P, J+1))\n",
    "        self.delta = ones(shape=(P, J+1))\n",
    "        self.p = arange(1, P + 1, 1)\n",
    "        self.x = concatenate([self.mu0.ravel(), self.mu1.ravel(), self.mu2.ravel(),\n",
    "            self.lamb.ravel(), self.gamma.ravel(), self.delta.ravel()])    \n",
    "        \n",
    "    def train(self, y, sigma_t, tol=0.1):\n",
    "        \"\"\"\n",
    "        Trains model using flexible fourier functional form.\n",
    "        \n",
    "        Parameters\n",
    "        ----------\n",
    "        y : dependent variable\n",
    "        \n",
    "        sigma_t: estimated conditional volatility for day t,\n",
    "        sigma_t is scalar or vector depending on vector=False/True.\n",
    "        \n",
    "        \n",
    "        \n",
    "        Returns\n",
    "        -------\n",
    "        Regression stats\n",
    "        \"\"\"\n",
    "        assert y.shape[0] == self.N, \"input y should have shape[0] == N:\"\n",
    "        n = arange(0, self.N, 1)\n",
    "        J = self.J\n",
    "        ## Learning weights for the following parameters\n",
    "        ## self.mu0, self.mu1, self.mu2, self.lamb, self.gamma, self.delta\n",
    "\n",
    "        def lsq_fun(x):\n",
    "            \n",
    "            mu0 = x[0: J+1]\n",
    "            mu1 = x[J+1: 2*J+2]\n",
    "            mu2 = x[2*J+2: 3*J+3]\n",
    "            lamb = x[3*J+3:3*J+3+self.D]\n",
    "            gamma = x[3*J+3+self.D: 3*J+3+self.D+self.P*(J+1)].reshape((self.P, J+1))\n",
    "            delta = x[3*J+3+self.D+self.P*(J+1): 3*J+3+self.D+2*self.P*(J+1)].reshape((self.P, J+1))\n",
    "            \n",
    "            gamma = repeat(expand_dims(gamma, axis=0), self.N, axis=0)\n",
    "            delta = repeat(expand_dims(delta, axis=0), self.N, axis=0)            \n",
    "            N1 = (self.N + 1) / 2\n",
    "            N2 = (self.N + 1) * (self.N + 2) / 6            \n",
    "            \n",
    "            dummy = self.Id.copy()\n",
    "            dummy[self.di] = lamb\n",
    "            dummy = repeat(expand_dims(dummy, axis=1), J+1, axis=1)\n",
    "            \n",
    "            mu0 = repeat(expand_dims(mu0, axis=0), self.N, axis=0)\n",
    "            quad = mu0 + outer(n / N1, mu1) + outer(square(n) / N2, mu2)\n",
    "            cosine = cos(2 * outer(n, self.p) * pi / self.N)\n",
    "            sine = sin(2 * outer(n, self.p) * pi / self.N)\n",
    "            cosine = repeat(expand_dims(cosine, axis=-1), J+1, axis=-1)\n",
    "            sine = repeat(expand_dims(sine, axis=-1), J+1, axis=-1)  \n",
    "            fourier_expand = gamma * cosine + delta * sine\n",
    "            fourier = fourier_expand.sum(axis=1)\n",
    "\n",
    "            sigma = full(fill_value=sigma_t, shape=(self.N, J+1))\n",
    "            for j in range(J+1):\n",
    "                sigma[:,j] = power(sigma[:,j], j)   \n",
    "\n",
    "            result = (sigma * (quad + dummy + fourier)).sum(axis=-1)\n",
    "            cost = square(result - y).mean()\n",
    "            \n",
    "            return cost\n",
    "\n",
    "        def lsq_fun_vec(x):\n",
    "            \n",
    "            mu0 = x[0: J+1]\n",
    "            mu1 = x[J+1: 2*J+2]\n",
    "            mu2 = x[2*J+2: 3*J+3]\n",
    "            lamb = x[3*J+3:3*J+3+self.D]\n",
    "            gamma = x[3*J+3+self.D: 3*J+3+self.D+self.P*(J+1)].reshape((self.P, J+1))\n",
    "            delta = x[3*J+3+self.D+self.P*(J+1): 3*J+3+self.D+2*self.P*(J+1)].reshape((self.P, J+1))\n",
    "            \n",
    "            gamma = repeat(expand_dims(gamma, axis=0), self.N, axis=0)\n",
    "            delta = repeat(expand_dims(delta, axis=0), self.N, axis=0)            \n",
    "            N1 = (self.N + 1) / 2\n",
    "            N2 = (self.N + 1) * (self.N + 2) / 6            \n",
    "            \n",
    "            dummy = self.Id.copy()\n",
    "            dummy[self.di] = lamb\n",
    "            dummy = repeat(expand_dims(dummy, axis=1), J+1, axis=1)\n",
    "            \n",
    "            mu0 = repeat(expand_dims(mu0, axis=0), self.N, axis=0)\n",
    "            quad = mu0 + outer(n / N1, mu1) + outer(square(n) / N2, mu2)\n",
    "            cosine = cos(2 * outer(n, self.p) * pi / self.N)\n",
    "            sine = sin(2 * outer(n, self.p) * pi / self.N)\n",
    "            cosine = repeat(expand_dims(cosine, axis=-1), J+1, axis=-1)\n",
    "            sine = repeat(expand_dims(sine, axis=-1), J+1, axis=-1)  \n",
    "            fourier_expand = gamma * cosine + delta * sine\n",
    "            fourier = fourier_expand.sum(axis=1)\n",
    "            \n",
    "            component = fourier + quad + dummy\n",
    "            component = repeat(expand_dims(component, axis=1), len(sigma_t), axis=1)  \n",
    "            \n",
    "            sigma = repeat(expand_dims(sigma_t, axis=0), self.N, axis=0)\n",
    "            sigma_J = repeat(expand_dims(sigma, axis=-1), J+1, axis=-1)\n",
    "            for j in range(J+1):\n",
    "                sigma_J[:,:,j] = power(sigma_J[:,:,j], j)   \n",
    "            \n",
    "            result = (sigma_J * component).sum(axis=-1)\n",
    "            cost = square(result - y).mean()\n",
    "            \n",
    "            return cost\n",
    "        \n",
    "\n",
    "        sigma_t = ravel(sigma_t)\n",
    "        assert sigma_t.shape[0] == y.shape[1], \"sigma_t should have shape (t, ) and y should have shape (N, t)\"\n",
    "        res = minimize(lsq_fun_vec, self.x, tol=tol)\n",
    "\n",
    "        self.mu0 = res.x[0: J+1]\n",
    "        self.mu1 = res.x[J+1: 2*J+2]\n",
    "        self.mu2 = res.x[2*J+2: 3*J+3]\n",
    "        self.lamb = res.x[3*J+3:3*J+3+self.D]\n",
    "        self.gamma = res.x[3*J+3+self.D: 3*J+3+self.D+self.P*(J+1)].reshape((self.P, J+1))\n",
    "        self.delta = res.x[3*J+3+self.D+self.P*(J+1): 3*J+3+self.D+2*self.P*(J+1)].reshape((self.P, J+1))            \n",
    "        \n",
    "        return res\n",
    "        \n",
    "    def predict(self, sigma_t, vector=False):\n",
    "        \n",
    "        N = self.N\n",
    "        D = self.D\n",
    "        J = self.J\n",
    "        P = self.P\n",
    "        p = self.p\n",
    "        \n",
    "        gamma = repeat(expand_dims(self.gamma, axis=0), N, axis=0)\n",
    "        delta = repeat(expand_dims(self.delta, axis=0), N, axis=0)\n",
    "        n = arange(0, N, 1)\n",
    "        N1 = (N + 1) / 2\n",
    "        N2 = (N + 1) * (N + 2) / 6\n",
    "        \n",
    "        dummy = self.Id.copy()\n",
    "        dummy[self.di] = self.lamb\n",
    "        dummy = repeat(expand_dims(dummy, axis=1), J+1, axis=1)\n",
    "        \n",
    "        quad = self.mu0 + outer(n / N1, self.mu1) + outer(square(n) / N2, self.mu2)\n",
    "        \n",
    "        cosine = cos(2 * outer(n, self.p) * pi / N)\n",
    "        sine = sin(2 * outer(n, self.p) * pi / N)\n",
    "        cosine = repeat(expand_dims(cosine, axis=-1), J+1, axis=-1)\n",
    "        sine = repeat(expand_dims(sine, axis=-1), J+1, axis=-1)\n",
    "        fourier_expand = gamma * cosine + delta * sine\n",
    "        fourier = fourier_expand.sum(axis=1)\n",
    "\n",
    "        sigma_t = ravel(sigma_t)\n",
    "        component = fourier + quad + dummy\n",
    "        component = repeat(expand_dims(component, axis=1), sigma_t.shape[0], axis=1)  \n",
    "        sigma = repeat(expand_dims(sigma_t, axis=0), self.N, axis=0)\n",
    "        sigma_J = repeat(expand_dims(sigma, axis=-1), J+1, axis=-1)\n",
    "        for j in range(J+1):\n",
    "            sigma_J[:,:,j] = power(sigma_J[:,:,j], j)               \n",
    "        result = (sigma_J * component).sum(axis=-1)\n",
    "            \n",
    "        return result"
   ]
  },
  {
   "cell_type": "code",
   "execution_count": 11,
   "metadata": {},
   "outputs": [],
   "source": [
    "stocks2 = stocks.T\n",
    "stocks2 = stocks2[:200].T\n",
    "avg_20day_volatility2 = avg_20day_volatility[:200]"
   ]
  },
  {
   "cell_type": "code",
   "execution_count": 12,
   "metadata": {},
   "outputs": [
    {
     "name": "stdout",
     "output_type": "stream",
     "text": [
      "optimizer success: True\n",
      "objective function (mse): 0.00000\n"
     ]
    }
   ],
   "source": [
    "fourier = FlexibleFourierRegression(N=39, di=[], J=6, P=20) # 39 10-minute intervals in each trade day\n",
    "res = fourier.train(stocks, avg_20day_volatility, 0.000001)\n",
    "print(\"optimizer success: {}\".format(res.success))\n",
    "print(\"objective function (mse): {:.5f}\".format(res.fun))"
   ]
  },
  {
   "cell_type": "code",
   "execution_count": 13,
   "metadata": {},
   "outputs": [
    {
     "data": {
      "text/plain": [
       "<matplotlib.legend.Legend at 0x1db0cb0de20>"
      ]
     },
     "execution_count": 13,
     "metadata": {},
     "output_type": "execute_result"
    },
    {
     "data": {
      "image/png": "[encoded data removed]",
      "text/plain": [
       "<Figure size 1440x576 with 1 Axes>"
      ]
     },
     "metadata": {
      "needs_background": "light"
     },
     "output_type": "display_data"
    }
   ],
   "source": [
    "n=230\n",
    "result = fourier.predict(avg_20day_volatility[n])\n",
    "\n",
    "fig, ax = plt.subplots(1, 1, figsize=(20, 8))\n",
    "ax.plot(stocks.T[n], label=\"dependent\")\n",
    "ax.plot(result, label=\"predict\")\n",
    "ax.legend()"
   ]
  },
  {
   "cell_type": "code",
   "execution_count": 14,
   "metadata": {},
   "outputs": [],
   "source": [
    "results = [None for i in range(20)]\n",
    "for vol in avg_20day_volatility:\n",
    "    result = fourier.predict(vol)\n",
    "    results.append(result[-1][0])\n",
    "results = np.array(results)"
   ]
  },
  {
   "cell_type": "code",
   "execution_count": 91,
   "metadata": {},
   "outputs": [
    {
     "data": {
      "text/html": [
       "<div>\n",
       "<style scoped>\n",
       "    .dataframe tbody tr th:only-of-type {\n",
       "        vertical-align: middle;\n",
       "    }\n",
       "\n",
       "    .dataframe tbody tr th {\n",
       "        vertical-align: top;\n",
       "    }\n",
       "\n",
       "    .dataframe thead th {\n",
       "        text-align: right;\n",
       "    }\n",
       "</style>\n",
       "<table border=\"1\" class=\"dataframe\">\n",
       "  <thead>\n",
       "    <tr style=\"text-align: right;\">\n",
       "      <th></th>\n",
       "      <th>Date</th>\n",
       "      <th>Volume</th>\n",
       "      <th>Avg20_Volatility</th>\n",
       "      <th>Anderson</th>\n",
       "      <th>Auction_Log_Returns</th>\n",
       "    </tr>\n",
       "  </thead>\n",
       "  <tbody>\n",
       "    <tr>\n",
       "      <th>20</th>\n",
       "      <td>2020-09-30</td>\n",
       "      <td>105065483</td>\n",
       "      <td>0.025016</td>\n",
       "      <td>0.00421421</td>\n",
       "      <td>0.003964</td>\n",
       "    </tr>\n",
       "    <tr>\n",
       "      <th>21</th>\n",
       "      <td>2020-10-01</td>\n",
       "      <td>86984758</td>\n",
       "      <td>0.023754</td>\n",
       "      <td>0.00406849</td>\n",
       "      <td>0.003689</td>\n",
       "    </tr>\n",
       "    <tr>\n",
       "      <th>22</th>\n",
       "      <td>2020-10-02</td>\n",
       "      <td>110015217</td>\n",
       "      <td>0.023633</td>\n",
       "      <td>0.00405347</td>\n",
       "      <td>0.004855</td>\n",
       "    </tr>\n",
       "    <tr>\n",
       "      <th>23</th>\n",
       "      <td>2020-10-05</td>\n",
       "      <td>78867587</td>\n",
       "      <td>0.022342</td>\n",
       "      <td>0.00388314</td>\n",
       "      <td>0.001374</td>\n",
       "    </tr>\n",
       "    <tr>\n",
       "      <th>24</th>\n",
       "      <td>2020-10-06</td>\n",
       "      <td>126395927</td>\n",
       "      <td>0.022328</td>\n",
       "      <td>0.00388116</td>\n",
       "      <td>0.000442</td>\n",
       "    </tr>\n",
       "    <tr>\n",
       "      <th>...</th>\n",
       "      <td>...</td>\n",
       "      <td>...</td>\n",
       "      <td>...</td>\n",
       "      <td>...</td>\n",
       "      <td>...</td>\n",
       "    </tr>\n",
       "    <tr>\n",
       "      <th>246</th>\n",
       "      <td>2021-08-26</td>\n",
       "      <td>36685181</td>\n",
       "      <td>0.009485</td>\n",
       "      <td>0.00113373</td>\n",
       "      <td>0.001896</td>\n",
       "    </tr>\n",
       "    <tr>\n",
       "      <th>247</th>\n",
       "      <td>2021-08-27</td>\n",
       "      <td>38310675</td>\n",
       "      <td>0.009395</td>\n",
       "      <td>0.00110763</td>\n",
       "      <td>0.000303</td>\n",
       "    </tr>\n",
       "    <tr>\n",
       "      <th>248</th>\n",
       "      <td>2021-08-30</td>\n",
       "      <td>71476524</td>\n",
       "      <td>0.009672</td>\n",
       "      <td>0.00118704</td>\n",
       "      <td>0.001251</td>\n",
       "    </tr>\n",
       "    <tr>\n",
       "      <th>249</th>\n",
       "      <td>2021-08-31</td>\n",
       "      <td>50950469</td>\n",
       "      <td>0.009691</td>\n",
       "      <td>0.00119264</td>\n",
       "      <td>0.004010</td>\n",
       "    </tr>\n",
       "    <tr>\n",
       "      <th>250</th>\n",
       "      <td>2021-09-01</td>\n",
       "      <td>59951585</td>\n",
       "      <td>0.009976</td>\n",
       "      <td>0.00127327</td>\n",
       "      <td>0.000524</td>\n",
       "    </tr>\n",
       "  </tbody>\n",
       "</table>\n",
       "<p>231 rows × 5 columns</p>\n",
       "</div>"
      ],
      "text/plain": [
       "           Date     Volume  Avg20_Volatility    Anderson  Auction_Log_Returns\n",
       "20   2020-09-30  105065483          0.025016  0.00421421             0.003964\n",
       "21   2020-10-01   86984758          0.023754  0.00406849             0.003689\n",
       "22   2020-10-02  110015217          0.023633  0.00405347             0.004855\n",
       "23   2020-10-05   78867587          0.022342  0.00388314             0.001374\n",
       "24   2020-10-06  126395927          0.022328  0.00388116             0.000442\n",
       "..          ...        ...               ...         ...                  ...\n",
       "246  2021-08-26   36685181          0.009485  0.00113373             0.001896\n",
       "247  2021-08-27   38310675          0.009395  0.00110763             0.000303\n",
       "248  2021-08-30   71476524          0.009672  0.00118704             0.001251\n",
       "249  2021-08-31   50950469          0.009691  0.00119264             0.004010\n",
       "250  2021-09-01   59951585          0.009976  0.00127327             0.000524\n",
       "\n",
       "[231 rows x 5 columns]"
      ]
     },
     "execution_count": 91,
     "metadata": {},
     "output_type": "execute_result"
    }
   ],
   "source": [
    "# Simple linear regression with Anderson coefficient\n",
    "final_df = pd.DataFrame({\n",
    "    'Date': dates_final, \n",
    "    'Volume': volumes,\n",
    "    'Avg20_Volatility': avg_20day_volatility_raw, \n",
    "    'Anderson': results,\n",
    "    'Auction_Log_Returns': auction_log_returns\n",
    "})\n",
    "final_df = final_df[final_df['Anderson'] > -float('inf')]\n",
    "final_df"
   ]
  },
  {
   "cell_type": "code",
   "execution_count": 92,
   "metadata": {},
   "outputs": [
    {
     "data": {
      "text/plain": [
       "LinearRegression()"
      ]
     },
     "execution_count": 92,
     "metadata": {},
     "output_type": "execute_result"
    }
   ],
   "source": [
    "from sklearn.linear_model import LinearRegression\n",
    "model_volatility = LinearRegression()\n",
    "model_volatility.fit(final_df[['Volume','Avg20_Volatility','Anderson']][:200], final_df[['Auction_Log_Returns']][:200])"
   ]
  },
  {
   "cell_type": "code",
   "execution_count": 93,
   "metadata": {},
   "outputs": [
    {
     "name": "stdout",
     "output_type": "stream",
     "text": [
      "Within 1 confidence interval was 0.6451612903225806\n",
      "Within 2 confidence intervals was 0.967741935483871\n",
      "Within 3 confidence intervals was 0.967741935483871\n"
     ]
    }
   ],
   "source": [
    "####################################\n",
    "# Confidence Interval with Anderson\n",
    "####################################\n",
    "\n",
    "y_pred = model_volatility.predict(final_df[['Volume','Avg20_Volatility','Anderson']][200:])\n",
    "y_pred_var = pd.DataFrame({'Date': final_df['Date'][200:], 'pred_ratio': [np.exp(i[0]) for i in y_pred]})\n",
    "\n",
    "# Rows with 3:50pm information\n",
    "apple_price_1550 = apple[apple['Local_Date_Time'].str.contains(\"15:50\")]\n",
    "\n",
    "# Merge the above two tables\n",
    "merged1 = apple_price_1550.merge(apple_auction, on='Date')\n",
    "merged2 = merged1.merge(y_pred_var, on='Date')\n",
    "merged2['Predicted_Variance'] = merged2['Open']*merged2['pred_ratio'] - merged2['Open']\n",
    "merged2.loc[(merged2['Price']<merged2['Open']+merged2['Predicted_Variance']) & (merged2['Price']>=merged2['Open']-merged2['Predicted_Variance']), 'Within_1Interval'] = True \n",
    "merged2.loc[(merged2['Price']>=merged2['Open']+merged2['Predicted_Variance']) | (merged2['Price']<merged2['Open']-merged2['Predicted_Variance']), 'Within_1Interval'] = False\n",
    "merged2.loc[(merged2['Price']<merged2['Open']+2*merged2['Predicted_Variance']) & (merged2['Price']>=merged2['Open']-2*merged2['Predicted_Variance']), 'Within_2Interval'] = True \n",
    "merged2.loc[(merged2['Price']>=merged2['Open']+2*merged2['Predicted_Variance']) | (merged2['Price']<merged2['Open']-2*merged2['Predicted_Variance']), 'Within_2Interval'] = False\n",
    "merged2.loc[(merged2['Price']<merged2['Open']+3*merged2['Predicted_Variance']) & (merged2['Price']>=merged2['Open']-3*merged2['Predicted_Variance']), 'Within_3Interval'] = True \n",
    "merged2.loc[(merged2['Price']>=merged2['Open']+3*merged2['Predicted_Variance']) | (merged2['Price']<merged2['Open']-3*merged2['Predicted_Variance']), 'Within_3Interval'] = False\n",
    "\n",
    "print('Within 1 confidence interval was', merged2[merged2['Within_1Interval'] == True].shape[0] / merged2.shape[0])\n",
    "print('Within 2 confidence intervals was', merged2[merged2['Within_2Interval'] == True].shape[0] / merged2.shape[0])\n",
    "print('Within 3 confidence intervals was', merged2[merged2['Within_3Interval'] == True].shape[0] / merged2.shape[0])"
   ]
  },
  {
   "cell_type": "markdown",
   "metadata": {},
   "source": [
    "With the Anderson model, it follows the normal distribution closely."
   ]
  },
  {
   "cell_type": "code",
   "execution_count": 94,
   "metadata": {},
   "outputs": [
    {
     "data": {
      "text/plain": [
       "0.20819623107429525"
      ]
     },
     "execution_count": 94,
     "metadata": {},
     "output_type": "execute_result"
    }
   ],
   "source": [
    "np.mean(merged2['Predicted_Variance']) # narrower than not using Anderson"
   ]
  },
  {
   "cell_type": "code",
   "execution_count": 102,
   "metadata": {},
   "outputs": [
    {
     "data": {
      "text/html": [
       "<div>\n",
       "<style scoped>\n",
       "    .dataframe tbody tr th:only-of-type {\n",
       "        vertical-align: middle;\n",
       "    }\n",
       "\n",
       "    .dataframe tbody tr th {\n",
       "        vertical-align: top;\n",
       "    }\n",
       "\n",
       "    .dataframe thead th {\n",
       "        text-align: right;\n",
       "    }\n",
       "</style>\n",
       "<table border=\"1\" class=\"dataframe\">\n",
       "  <thead>\n",
       "    <tr style=\"text-align: right;\">\n",
       "      <th></th>\n",
       "      <th>Date</th>\n",
       "      <th>Volume</th>\n",
       "      <th>Avg20_Volatility</th>\n",
       "      <th>Auction_Log_Returns</th>\n",
       "    </tr>\n",
       "  </thead>\n",
       "  <tbody>\n",
       "    <tr>\n",
       "      <th>0</th>\n",
       "      <td>2020-09-01</td>\n",
       "      <td>110260062</td>\n",
       "      <td>0.020773</td>\n",
       "      <td>0.002911</td>\n",
       "    </tr>\n",
       "    <tr>\n",
       "      <th>1</th>\n",
       "      <td>2020-09-02</td>\n",
       "      <td>153259555</td>\n",
       "      <td>0.043159</td>\n",
       "      <td>0.002508</td>\n",
       "    </tr>\n",
       "    <tr>\n",
       "      <th>2</th>\n",
       "      <td>2020-09-03</td>\n",
       "      <td>183308338</td>\n",
       "      <td>0.042739</td>\n",
       "      <td>0.000414</td>\n",
       "    </tr>\n",
       "    <tr>\n",
       "      <th>3</th>\n",
       "      <td>2020-09-04</td>\n",
       "      <td>256617992</td>\n",
       "      <td>0.050219</td>\n",
       "      <td>0.001073</td>\n",
       "    </tr>\n",
       "    <tr>\n",
       "      <th>4</th>\n",
       "      <td>2020-09-08</td>\n",
       "      <td>168228403</td>\n",
       "      <td>0.047753</td>\n",
       "      <td>0.005128</td>\n",
       "    </tr>\n",
       "    <tr>\n",
       "      <th>...</th>\n",
       "      <td>...</td>\n",
       "      <td>...</td>\n",
       "      <td>...</td>\n",
       "      <td>...</td>\n",
       "    </tr>\n",
       "    <tr>\n",
       "      <th>246</th>\n",
       "      <td>2021-08-26</td>\n",
       "      <td>36685181</td>\n",
       "      <td>0.009485</td>\n",
       "      <td>0.001896</td>\n",
       "    </tr>\n",
       "    <tr>\n",
       "      <th>247</th>\n",
       "      <td>2021-08-27</td>\n",
       "      <td>38310675</td>\n",
       "      <td>0.009395</td>\n",
       "      <td>0.000303</td>\n",
       "    </tr>\n",
       "    <tr>\n",
       "      <th>248</th>\n",
       "      <td>2021-08-30</td>\n",
       "      <td>71476524</td>\n",
       "      <td>0.009672</td>\n",
       "      <td>0.001251</td>\n",
       "    </tr>\n",
       "    <tr>\n",
       "      <th>249</th>\n",
       "      <td>2021-08-31</td>\n",
       "      <td>50950469</td>\n",
       "      <td>0.009691</td>\n",
       "      <td>0.004010</td>\n",
       "    </tr>\n",
       "    <tr>\n",
       "      <th>250</th>\n",
       "      <td>2021-09-01</td>\n",
       "      <td>59951585</td>\n",
       "      <td>0.009976</td>\n",
       "      <td>0.000524</td>\n",
       "    </tr>\n",
       "  </tbody>\n",
       "</table>\n",
       "<p>251 rows × 4 columns</p>\n",
       "</div>"
      ],
      "text/plain": [
       "           Date     Volume  Avg20_Volatility  Auction_Log_Returns\n",
       "0    2020-09-01  110260062          0.020773             0.002911\n",
       "1    2020-09-02  153259555          0.043159             0.002508\n",
       "2    2020-09-03  183308338          0.042739             0.000414\n",
       "3    2020-09-04  256617992          0.050219             0.001073\n",
       "4    2020-09-08  168228403          0.047753             0.005128\n",
       "..          ...        ...               ...                  ...\n",
       "246  2021-08-26   36685181          0.009485             0.001896\n",
       "247  2021-08-27   38310675          0.009395             0.000303\n",
       "248  2021-08-30   71476524          0.009672             0.001251\n",
       "249  2021-08-31   50950469          0.009691             0.004010\n",
       "250  2021-09-01   59951585          0.009976             0.000524\n",
       "\n",
       "[251 rows x 4 columns]"
      ]
     },
     "execution_count": 102,
     "metadata": {},
     "output_type": "execute_result"
    }
   ],
   "source": [
    "# Simple linear regression without Anderson coefficient\n",
    "final_df = pd.DataFrame({\n",
    "    'Date': dates_final, \n",
    "    'Volume': volumes,\n",
    "    'Avg20_Volatility': avg_20day_volatility_raw, \n",
    "    'Auction_Log_Returns': auction_log_returns\n",
    "})\n",
    "final_df = final_df[np.isnan(final_df['Avg20_Volatility']) == False]\n",
    "final_df"
   ]
  },
  {
   "cell_type": "code",
   "execution_count": 103,
   "metadata": {},
   "outputs": [
    {
     "data": {
      "text/plain": [
       "LinearRegression()"
      ]
     },
     "execution_count": 103,
     "metadata": {},
     "output_type": "execute_result"
    }
   ],
   "source": [
    "from sklearn.linear_model import LinearRegression\n",
    "model_no_volatility = LinearRegression()\n",
    "model_no_volatility.fit(final_df[['Volume','Avg20_Volatility']][:200], final_df[['Auction_Log_Returns']][:200])"
   ]
  },
  {
   "cell_type": "code",
   "execution_count": 104,
   "metadata": {},
   "outputs": [
    {
     "name": "stdout",
     "output_type": "stream",
     "text": [
      "Within 1 confidence interval was 0.7450980392156863\n",
      "Within 2 confidence intervals was 0.9803921568627451\n",
      "Within 3 confidence intervals was 1.0\n"
     ]
    }
   ],
   "source": [
    "#######################################\n",
    "# Confidence Interval without Anderson\n",
    "#######################################\n",
    "\n",
    "y_pred_no_Anderson = model_no_volatility.predict(final_df[['Volume','Avg20_Volatility']][200:])\n",
    "y_pred_var_no_Anderson = pd.DataFrame({'Date': final_df['Date'][200:], 'pred_ratio': [np.exp(i[0]) for i in y_pred_no_Anderson]})\n",
    "\n",
    "# Rows with 3:50pm information\n",
    "apple_price_1550 = apple[apple['Local_Date_Time'].str.contains(\"15:50\")]\n",
    "\n",
    "# Merge the above two tables\n",
    "merged1 = apple_price_1550.merge(apple_auction, on='Date')\n",
    "merged2 = merged1.merge(y_pred_var_no_Anderson, on='Date')\n",
    "merged2['Predicted_Variance'] = merged2['Open']*merged2['pred_ratio'] - merged2['Open']\n",
    "merged2.loc[(merged2['Price']<merged2['Open']+merged2['Predicted_Variance']) & (merged2['Price']>=merged2['Open']-merged2['Predicted_Variance']), 'Within_1Interval'] = True \n",
    "merged2.loc[(merged2['Price']>=merged2['Open']+merged2['Predicted_Variance']) | (merged2['Price']<merged2['Open']-merged2['Predicted_Variance']), 'Within_1Interval'] = False\n",
    "merged2.loc[(merged2['Price']<merged2['Open']+2*merged2['Predicted_Variance']) & (merged2['Price']>=merged2['Open']-2*merged2['Predicted_Variance']), 'Within_2Interval'] = True \n",
    "merged2.loc[(merged2['Price']>=merged2['Open']+2*merged2['Predicted_Variance']) | (merged2['Price']<merged2['Open']-2*merged2['Predicted_Variance']), 'Within_2Interval'] = False\n",
    "merged2.loc[(merged2['Price']<merged2['Open']+3*merged2['Predicted_Variance']) & (merged2['Price']>=merged2['Open']-3*merged2['Predicted_Variance']), 'Within_3Interval'] = True \n",
    "merged2.loc[(merged2['Price']>=merged2['Open']+3*merged2['Predicted_Variance']) | (merged2['Price']<merged2['Open']-3*merged2['Predicted_Variance']), 'Within_3Interval'] = False\n",
    "\n",
    "print('Within 1 confidence interval was', merged2[merged2['Within_1Interval'] == True].shape[0] / merged2.shape[0])\n",
    "print('Within 2 confidence intervals was', merged2[merged2['Within_2Interval'] == True].shape[0] / merged2.shape[0])\n",
    "print('Within 3 confidence intervals was', merged2[merged2['Within_3Interval'] == True].shape[0] / merged2.shape[0])"
   ]
  },
  {
   "cell_type": "markdown",
   "metadata": {},
   "source": [
    "Without the Anderson model, it does not follow the normal distribution as closely."
   ]
  },
  {
   "cell_type": "code",
   "execution_count": 105,
   "metadata": {},
   "outputs": [
    {
     "data": {
      "text/plain": [
       "0.30620525053363484"
      ]
     },
     "execution_count": 105,
     "metadata": {},
     "output_type": "execute_result"
    }
   ],
   "source": [
    "np.mean(merged2['Predicted_Variance'])"
   ]
  },
  {
   "cell_type": "code",
   "execution_count": null,
   "metadata": {},
   "outputs": [],
   "source": []
  },
  {
   "cell_type": "code",
   "execution_count": 95,
   "metadata": {},
   "outputs": [
    {
     "name": "stdout",
     "output_type": "stream",
     "text": [
      "Model Coefficients: [[ 8.56739909e-12 -2.55317411e-02  8.67684513e-01]]\n",
      "Mean Absolute Error: 0.0007904079817085511\n",
      "Mean Squared Error: 9.297858796746249e-07\n",
      "Coefficient of Determination: 0.07172244944892547\n"
     ]
    }
   ],
   "source": [
    "########################################\n",
    "# Linear Regression Output with Anderson\n",
    "########################################\n",
    "\n",
    "from sklearn.metrics import mean_squared_error, r2_score, mean_absolute_error\n",
    "# Printout relevant metrics\n",
    "print(\"Model Coefficients:\", model_volatility.coef_)\n",
    "print(\"Mean Absolute Error:\", mean_absolute_error(final_df[['Auction_Log_Returns']][200:], y_pred))\n",
    "print(\"Mean Squared Error:\", mean_squared_error(final_df[['Auction_Log_Returns']][200:], y_pred))\n",
    "print(\"Coefficient of Determination:\", r2_score(final_df[['Auction_Log_Returns']][200:], y_pred))"
   ]
  },
  {
   "cell_type": "code",
   "execution_count": 106,
   "metadata": {},
   "outputs": [
    {
     "name": "stdout",
     "output_type": "stream",
     "text": [
      "Model Coefficients: [[1.60063740e-11 2.48852939e-03]]\n",
      "Mean Absolute Error: 0.001122918323385971\n",
      "Mean Squared Error: 1.7085564101929769e-06\n",
      "Coefficient of Determination: -0.37825060088482165\n"
     ]
    }
   ],
   "source": [
    "###########################################\n",
    "# Linear Regression Output without Anderson\n",
    "###########################################\n",
    "\n",
    "from sklearn.metrics import mean_squared_error, r2_score, mean_absolute_error\n",
    "# Printout relevant metrics\n",
    "print(\"Model Coefficients:\", model_no_volatility.coef_)\n",
    "print(\"Mean Absolute Error:\", mean_absolute_error(final_df[['Auction_Log_Returns']][200:], y_pred_no_Anderson))\n",
    "print(\"Mean Squared Error:\", mean_squared_error(final_df[['Auction_Log_Returns']][200:], y_pred_no_Anderson))\n",
    "print(\"Coefficient of Determination:\", r2_score(final_df[['Auction_Log_Returns']][200:], y_pred_no_Anderson))"
   ]
  },
  {
   "cell_type": "code",
   "execution_count": null,
   "metadata": {},
   "outputs": [],
   "source": []
  }
 ],
 "metadata": {
  "celltoolbar": "Raw Cell Format",
  "kernelspec": {
   "display_name": "Python 3",
   "language": "python",
   "name": "python3"
  },
  "language_info": {
   "codemirror_mode": {
    "name": "ipython",
    "version": 3
   },
   "file_extension": ".py",
   "mimetype": "text/x-python",
   "name": "python",
   "nbconvert_exporter": "python",
   "pygments_lexer": "ipython3",
   "version": "3.8.5"
  }
 },
 "nbformat": 4,
 "nbformat_minor": 4
}
