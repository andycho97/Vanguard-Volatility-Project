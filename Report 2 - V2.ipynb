{
 "cells": [
  {
   "cell_type": "code",
   "execution_count": 1,
   "metadata": {},
   "outputs": [],
   "source": [
    "import pandas as pd\n",
    "import numpy as np\n",
    "import matplotlib.pyplot as plt\n",
    "import seaborn as sns\n",
    "from numpy import log, square, sqrt, power, arange, ones, zeros, isscalar,\\\n",
    "    array, outer, pi, sin, cos, expand_dims, repeat, full, concatenate, ravel\n",
    "from numpy.random import normal\n",
    "from scipy.optimize import least_squares, minimize\n",
    "%matplotlib inline"
   ]
  },
  {
   "cell_type": "code",
   "execution_count": 2,
   "metadata": {},
   "outputs": [
    {
     "name": "stderr",
     "output_type": "stream",
     "text": [
      "<ipython-input-2-50e867860012>:19: SettingWithCopyWarning: \n",
      "A value is trying to be set on a copy of a slice from a DataFrame.\n",
      "Try using .loc[row_indexer,col_indexer] = value instead\n",
      "\n",
      "See the caveats in the documentation: https://pandas.pydata.org/pandas-docs/stable/user_guide/indexing.html#returning-a-view-versus-a-copy\n",
      "  apple['Date'] = pd.to_datetime(apple['Local_Date_Time']).dt.date\n"
     ]
    }
   ],
   "source": [
    "# Trade data\n",
    "\n",
    "stock_name = 'ZM.O'\n",
    "\n",
    "df = pd.read_csv('NSQ_OneYear100test_Sept21.csv', \n",
    "                   usecols=['Local_Date_Time','RIC','Open','High','Low','Close','VWAP','NumberOfTrades','Volume'],\n",
    "                   dtype={'Local_Date_Time': str,\n",
    "                          'RIC': str, \n",
    "                          'Open': np.float64,\n",
    "                          'High': np.float64,\n",
    "                          'Low': np.float64,\n",
    "                          'Close': np.float64,\n",
    "                          'VWAP': np.float64,\n",
    "                          'NumberOfTrades': int,\n",
    "                          'Volume': int},\n",
    "                   skipinitialspace=True,\n",
    "                   parse_dates=True)\n",
    "apple = df[df['RIC'] == stock_name]\n",
    "apple['Date'] = pd.to_datetime(apple['Local_Date_Time']).dt.date\n",
    "\n",
    "qqq = pd.read_csv('QQQ_OneYear100test_Sept21.csv', \n",
    "                   usecols=['Local_Date_Time','RIC','Open','High','Low','Close','VWAP','NumberOfTrades','Volume'],\n",
    "                   dtype={'Local_Date_Time': str,\n",
    "                          'RIC': str, \n",
    "                          'Open': np.float64,\n",
    "                          'High': np.float64,\n",
    "                          'Low': np.float64,\n",
    "                          'Close': np.float64,\n",
    "                          'VWAP': np.float64,\n",
    "                          'NumberOfTrades': int,\n",
    "                          'Volume': int},\n",
    "                   skipinitialspace=True,\n",
    "                   parse_dates=True)\n",
    "qqq['Date'] = pd.to_datetime(qqq['Local_Date_Time']).dt.date"
   ]
  },
  {
   "cell_type": "code",
   "execution_count": 3,
   "metadata": {},
   "outputs": [
    {
     "name": "stderr",
     "output_type": "stream",
     "text": [
      "<ipython-input-3-c687e5b9a9f5>:6: SettingWithCopyWarning: \n",
      "A value is trying to be set on a copy of a slice from a DataFrame.\n",
      "Try using .loc[row_indexer,col_indexer] = value instead\n",
      "\n",
      "See the caveats in the documentation: https://pandas.pydata.org/pandas-docs/stable/user_guide/indexing.html#returning-a-view-versus-a-copy\n",
      "  apple_auction['Date'] = pd.to_datetime(apple_auction['Local_Date_Time']).dt.date\n"
     ]
    }
   ],
   "source": [
    "# Auction price data\n",
    "auction = pd.read_csv('NSQ_OneYear100closeA_Sept21.csv',\n",
    "                      skipinitialspace=True,\n",
    "                      parse_dates=True)\n",
    "apple_auction = auction[auction['RIC'] == stock_name]\n",
    "apple_auction['Date'] = pd.to_datetime(apple_auction['Local_Date_Time']).dt.date\n",
    "\n",
    "auction_qqq = pd.read_csv('QQQ_OneYear100closeA_Sept21.csv',\n",
    "                      skipinitialspace=True,\n",
    "                      parse_dates=True)\n",
    "auction_qqq['Date'] = pd.to_datetime(auction_qqq['Local_Date_Time']).dt.date"
   ]
  },
  {
   "cell_type": "code",
   "execution_count": 41,
   "metadata": {},
   "outputs": [],
   "source": [
    "# Data Processing (10 minute intervals)\n",
    "\n",
    "dates = apple['Date'].unique()\n",
    "daily_volatility = []\n",
    "daily_volatility_minus4pm = []\n",
    "avg_20day_volatility = []\n",
    "stocks = []\n",
    "dates_final = []\n",
    "auction_log_returns = []\n",
    "volumes = []\n",
    "\n",
    "for date in dates:\n",
    "    \n",
    "    apple_today = apple[apple['Date'] == date]\n",
    "    apple_auction_today = apple_auction[apple_auction['Date'] == date]\n",
    "    \n",
    "    apple_today = apple_today.set_index(pd.DatetimeIndex(apple_today['Local_Date_Time']))\n",
    "    apple_today_10min_max = pd.DataFrame(apple_today['High'].resample(\"10T\").max())\n",
    "    apple_today_10min_min = pd.DataFrame(apple_today['Low'].resample(\"10T\").min())\n",
    "    apple_today_10min_open = pd.DataFrame(apple_today['Open'].resample(\"10T\").first())\n",
    "    apple_today_10min_close = pd.DataFrame(apple_today['Close'].resample(\"10T\").last())\n",
    "    apple_today_10min_volume = pd.DataFrame(apple_today['Volume'].resample(\"10T\").sum())\n",
    "    apple_today_10min = apple_today_10min_max.join(apple_today_10min_min)\n",
    "    apple_today_10min = apple_today_10min.join(apple_today_10min_open)\n",
    "    apple_today_10min = apple_today_10min.join(apple_today_10min_close)\n",
    "    apple_today_10min = apple_today_10min.join(apple_today_10min_volume)\n",
    "    apple_today_10min['log_returns'] = abs(np.log(apple_today_10min['Close']/apple_today_10min['Open'])) # alternate volatility formula\n",
    "#     apple_today_10min['Volatility'] = np.sqrt(0.5*np.square(np.log(apple_today_10min['High']/apple_today_10min['Low'])) - (2*np.log(2)-1) * np.square(np.log(apple_today_10min['Close']/apple_today_10min['Open'])))\n",
    "    volatility_today = apple_today_10min['log_returns'].values\n",
    "    \n",
    "    if len(volatility_today) != 39: # Skip if there are fewer than 390 minutes of trading data\n",
    "        continue\n",
    "        \n",
    "    # Dates for which the trade data is complete\n",
    "    dates_final.append(date)\n",
    "    \n",
    "    auction_log_returns_today = abs(np.log(apple_auction_today['Price'].iloc[0]/apple_today_10min['Open'][-1]))\n",
    "    auction_log_returns.append(auction_log_returns_today)\n",
    "    \n",
    "    # 10 minute interval volatility * number of complete trade days\n",
    "    stocks.append(volatility_today)\n",
    "    \n",
    "    # Average daily volatility (later used for 20 day moving average)\n",
    "    daily_volatility.append(np.sqrt(39)*np.sqrt(np.mean(np.square(apple_today_10min['log_returns'].values))))\n",
    "    daily_volatility_minus4pm.append(np.sqrt(39)*np.sqrt(np.mean(np.square(apple_today_10min['log_returns'].values[:-1]))))\n",
    "    \n",
    "    # Total volume for each complete trade day between 930 and 1550\n",
    "    volumes.append(sum(apple_today_10min[:-1]['Volume']))\n",
    "\n",
    "\n",
    "volatility_df = pd.DataFrame({'Date':dates_final, 'daily_volatility': daily_volatility, 'daily_volatility_minus4pm': daily_volatility_minus4pm})\n",
    "volatility_df['diff'] = volatility_df['daily_volatility']-volatility_df['daily_volatility_minus4pm']\n",
    "volatility_df['volatility_ewma20'] = volatility_df['daily_volatility'].ewm(span=20).mean()\n",
    "\n",
    "stocks = stocks[20:]\n",
    "stocks = np.vstack(stocks).T # Training data for Anderson model\n",
    "avg_20day_volatility_raw = np.array(volatility_df['volatility_ewma20'])\n",
    "avg_20day_volatility = np.array(volatility_df['volatility_ewma20'][20:]) # Sigma_t input for Anderson model"
   ]
  },
  {
   "cell_type": "code",
   "execution_count": 33,
   "metadata": {},
   "outputs": [],
   "source": [
    "# Data Processing (10 minute intervals)\n",
    "\n",
    "dates_qqq = qqq['Date'].unique()\n",
    "daily_volatility_qqq = []\n",
    "avg_20day_volatility_qqq = []\n",
    "stocks_qqq = []\n",
    "dates_final_qqq = []\n",
    "auction_log_returns_qqq = []\n",
    "volumes_qqq = []\n",
    "\n",
    "# i = 0\n",
    "for date in dates_qqq:\n",
    "    \n",
    "    qqq_today = qqq[qqq['Date'] == date]\n",
    "    qqq_auction_today = auction_qqq[auction_qqq['Date'] == date]\n",
    "    \n",
    "    qqq_today = qqq_today.set_index(pd.DatetimeIndex(qqq_today['Local_Date_Time']))\n",
    "    qqq_today_10min_max = pd.DataFrame(qqq_today['High'].resample(\"10T\").max())\n",
    "    qqq_today_10min_min = pd.DataFrame(qqq_today['Low'].resample(\"10T\").min())\n",
    "    qqq_today_10min_open = pd.DataFrame(qqq_today['Open'].resample(\"10T\").first())\n",
    "    qqq_today_10min_close = pd.DataFrame(qqq_today['Close'].resample(\"10T\").last())\n",
    "    qqq_today_10min_volume = pd.DataFrame(qqq_today['Volume'].resample(\"10T\").sum())\n",
    "    qqq_today_10min = qqq_today_10min_max.join(apple_today_10min_min)\n",
    "    qqq_today_10min = qqq_today_10min.join(qqq_today_10min_open)\n",
    "    qqq_today_10min = qqq_today_10min.join(qqq_today_10min_close)\n",
    "    qqq_today_10min = qqq_today_10min.join(qqq_today_10min_volume)\n",
    "    qqq_today_10min['log_returns'] = abs(np.log(qqq_today_10min['Close']/qqq_today_10min['Open'])) # alternate volatility formula\n",
    "#     qqq_today_10min['Volatility'] = np.sqrt(0.5*np.square(np.log(qqq_today_10min['High']/qqq_today_10min['Low'])) - (2*np.log(2)-1) * np.square(np.log(qqq_today_10min['Close']/qqq_today_10min['Open'])))\n",
    "    volatility_today_qqq = qqq_today_10min['log_returns'].values\n",
    "    \n",
    "    if len(volatility_today_qqq) != 39: # Skip if there are fewer than 390 minutes of trading data\n",
    "        continue\n",
    "        \n",
    "    # Dates for which the trade data is complete\n",
    "    dates_final_qqq.append(date)\n",
    "    \n",
    "    auction_log_returns_today_qqq = abs(np.log(qqq_auction_today['Price'].iloc[0]/qqq_today_10min['Open'][-1]))\n",
    "    auction_log_returns_qqq.append(auction_log_returns_today_qqq)\n",
    "    \n",
    "    # 10 minute interval volatility * number of complete trade days\n",
    "    stocks_qqq.append(volatility_today_qqq)\n",
    "    \n",
    "    # Average daily volatility (later used for 20 day moving average)\n",
    "    daily_volatility_qqq.append(np.sqrt(39)*np.sqrt(np.mean(np.square(qqq_today_10min['log_returns'].values))))\n",
    "    \n",
    "    # Total volume for each complete trade day between 930 and 1550\n",
    "    volumes_qqq.append(sum(qqq_today_10min[:-1]['Volume']))\n",
    "\n",
    "volatility_df_qqq = pd.DataFrame({'Date':dates_final_qqq, 'daily_volatility': daily_volatility_qqq})\n",
    "volatility_df_qqq['volatility_ewma20'] = volatility_df_qqq['daily_volatility'].ewm(span=20).mean()\n",
    "\n",
    "stocks_qqq = stocks_qqq[20:]\n",
    "stocks_qqq = np.vstack(stocks_qqq).T # Training data for Anderson model\n",
    "avg_20day_volatility_raw_qqq = np.array(volatility_df_qqq['volatility_ewma20'])\n",
    "avg_20day_volatility_qqq = np.array(volatility_df_qqq['volatility_ewma20'][20:]) # Sigma_t input for Anderson model"
   ]
  },
  {
   "cell_type": "code",
   "execution_count": 34,
   "metadata": {},
   "outputs": [],
   "source": [
    "class FlexibleFourierRegression():\n",
    "    '''\n",
    "    See P.152 Anderson(1997) Appendix B for details\n",
    "    '''\n",
    "    \n",
    "    def __init__(self, N, J=0, P=0, di=[]):\n",
    "        self.J = J\n",
    "        self.D = len(di)\n",
    "        self.P = P\n",
    "        \n",
    "        self.N = N\n",
    "        self.di = di\n",
    "        self.Id = zeros(shape=(N,))\n",
    "        self.mu0 = ones(shape=(J+1,))\n",
    "        self.mu1 = ones(shape=(J+1,))\n",
    "        self.mu2 = ones(shape=(J+1,))\n",
    "        self.lamb = ones(shape=(self.D,))\n",
    "        self.gamma = ones(shape=(P, J+1))\n",
    "        self.delta = ones(shape=(P, J+1))\n",
    "        self.p = arange(1, P + 1, 1)\n",
    "        self.x = concatenate([self.mu0.ravel(), self.mu1.ravel(), self.mu2.ravel(),\n",
    "            self.lamb.ravel(), self.gamma.ravel(), self.delta.ravel()])    \n",
    "        \n",
    "    def train(self, y, sigma_t, tol=0.1):\n",
    "        \"\"\"\n",
    "        Trains model using flexible fourier functional form.\n",
    "        \n",
    "        Parameters\n",
    "        ----------\n",
    "        y : dependent variable\n",
    "        \n",
    "        sigma_t: estimated conditional volatility for day t,\n",
    "        sigma_t is scalar or vector depending on vector=False/True.\n",
    "        \n",
    "        \n",
    "        \n",
    "        Returns\n",
    "        -------\n",
    "        Regression stats\n",
    "        \"\"\"\n",
    "        assert y.shape[0] == self.N, \"input y should have shape[0] == N:\"\n",
    "        n = arange(0, self.N, 1)\n",
    "        J = self.J\n",
    "        ## Learning weights for the following parameters\n",
    "        ## self.mu0, self.mu1, self.mu2, self.lamb, self.gamma, self.delta\n",
    "\n",
    "        def lsq_fun(x):\n",
    "            \n",
    "            mu0 = x[0: J+1]\n",
    "            mu1 = x[J+1: 2*J+2]\n",
    "            mu2 = x[2*J+2: 3*J+3]\n",
    "            lamb = x[3*J+3:3*J+3+self.D]\n",
    "            gamma = x[3*J+3+self.D: 3*J+3+self.D+self.P*(J+1)].reshape((self.P, J+1))\n",
    "            delta = x[3*J+3+self.D+self.P*(J+1): 3*J+3+self.D+2*self.P*(J+1)].reshape((self.P, J+1))\n",
    "            \n",
    "            gamma = repeat(expand_dims(gamma, axis=0), self.N, axis=0)\n",
    "            delta = repeat(expand_dims(delta, axis=0), self.N, axis=0)            \n",
    "            N1 = (self.N + 1) / 2\n",
    "            N2 = (self.N + 1) * (self.N + 2) / 6            \n",
    "            \n",
    "            dummy = self.Id.copy()\n",
    "            dummy[self.di] = lamb\n",
    "            dummy = repeat(expand_dims(dummy, axis=1), J+1, axis=1)\n",
    "            \n",
    "            mu0 = repeat(expand_dims(mu0, axis=0), self.N, axis=0)\n",
    "            quad = mu0 + outer(n / N1, mu1) + outer(square(n) / N2, mu2)\n",
    "            cosine = cos(2 * outer(n, self.p) * pi / self.N)\n",
    "            sine = sin(2 * outer(n, self.p) * pi / self.N)\n",
    "            cosine = repeat(expand_dims(cosine, axis=-1), J+1, axis=-1)\n",
    "            sine = repeat(expand_dims(sine, axis=-1), J+1, axis=-1)  \n",
    "            fourier_expand = gamma * cosine + delta * sine\n",
    "            fourier = fourier_expand.sum(axis=1)\n",
    "\n",
    "            sigma = full(fill_value=sigma_t, shape=(self.N, J+1))\n",
    "            for j in range(J+1):\n",
    "                sigma[:,j] = power(sigma[:,j], j)   \n",
    "\n",
    "            result = (sigma * (quad + dummy + fourier)).sum(axis=-1)\n",
    "            cost = square(result - y).mean()\n",
    "            \n",
    "            return cost\n",
    "\n",
    "        def lsq_fun_vec(x):\n",
    "            \n",
    "            mu0 = x[0: J+1]\n",
    "            mu1 = x[J+1: 2*J+2]\n",
    "            mu2 = x[2*J+2: 3*J+3]\n",
    "            lamb = x[3*J+3:3*J+3+self.D]\n",
    "            gamma = x[3*J+3+self.D: 3*J+3+self.D+self.P*(J+1)].reshape((self.P, J+1))\n",
    "            delta = x[3*J+3+self.D+self.P*(J+1): 3*J+3+self.D+2*self.P*(J+1)].reshape((self.P, J+1))\n",
    "            \n",
    "            gamma = repeat(expand_dims(gamma, axis=0), self.N, axis=0)\n",
    "            delta = repeat(expand_dims(delta, axis=0), self.N, axis=0)            \n",
    "            N1 = (self.N + 1) / 2\n",
    "            N2 = (self.N + 1) * (self.N + 2) / 6            \n",
    "            \n",
    "            dummy = self.Id.copy()\n",
    "            dummy[self.di] = lamb\n",
    "            dummy = repeat(expand_dims(dummy, axis=1), J+1, axis=1)\n",
    "            \n",
    "            mu0 = repeat(expand_dims(mu0, axis=0), self.N, axis=0)\n",
    "            quad = mu0 + outer(n / N1, mu1) + outer(square(n) / N2, mu2)\n",
    "            cosine = cos(2 * outer(n, self.p) * pi / self.N)\n",
    "            sine = sin(2 * outer(n, self.p) * pi / self.N)\n",
    "            cosine = repeat(expand_dims(cosine, axis=-1), J+1, axis=-1)\n",
    "            sine = repeat(expand_dims(sine, axis=-1), J+1, axis=-1)  \n",
    "            fourier_expand = gamma * cosine + delta * sine\n",
    "            fourier = fourier_expand.sum(axis=1)\n",
    "            \n",
    "            component = fourier + quad + dummy\n",
    "            component = repeat(expand_dims(component, axis=1), len(sigma_t), axis=1)  \n",
    "            \n",
    "            sigma = repeat(expand_dims(sigma_t, axis=0), self.N, axis=0)\n",
    "            sigma_J = repeat(expand_dims(sigma, axis=-1), J+1, axis=-1)\n",
    "            for j in range(J+1):\n",
    "                sigma_J[:,:,j] = power(sigma_J[:,:,j], j)   \n",
    "            \n",
    "            result = (sigma_J * component).sum(axis=-1)\n",
    "            cost = square(result - y).mean()\n",
    "            \n",
    "            return cost\n",
    "        \n",
    "\n",
    "        sigma_t = ravel(sigma_t)\n",
    "        assert sigma_t.shape[0] == y.shape[1], \"sigma_t should have shape (t, ) and y should have shape (N, t)\"\n",
    "        res = minimize(lsq_fun_vec, self.x, tol=tol)\n",
    "\n",
    "        self.mu0 = res.x[0: J+1]\n",
    "        self.mu1 = res.x[J+1: 2*J+2]\n",
    "        self.mu2 = res.x[2*J+2: 3*J+3]\n",
    "        self.lamb = res.x[3*J+3:3*J+3+self.D]\n",
    "        self.gamma = res.x[3*J+3+self.D: 3*J+3+self.D+self.P*(J+1)].reshape((self.P, J+1))\n",
    "        self.delta = res.x[3*J+3+self.D+self.P*(J+1): 3*J+3+self.D+2*self.P*(J+1)].reshape((self.P, J+1))            \n",
    "        \n",
    "        return res\n",
    "        \n",
    "    def predict(self, sigma_t, vector=False):\n",
    "        \n",
    "        N = self.N\n",
    "        D = self.D\n",
    "        J = self.J\n",
    "        P = self.P\n",
    "        p = self.p\n",
    "        \n",
    "        gamma = repeat(expand_dims(self.gamma, axis=0), N, axis=0)\n",
    "        delta = repeat(expand_dims(self.delta, axis=0), N, axis=0)\n",
    "        n = arange(0, N, 1)\n",
    "        N1 = (N + 1) / 2\n",
    "        N2 = (N + 1) * (N + 2) / 6\n",
    "        \n",
    "        dummy = self.Id.copy()\n",
    "        dummy[self.di] = self.lamb\n",
    "        dummy = repeat(expand_dims(dummy, axis=1), J+1, axis=1)\n",
    "        \n",
    "        quad = self.mu0 + outer(n / N1, self.mu1) + outer(square(n) / N2, self.mu2)\n",
    "        \n",
    "        cosine = cos(2 * outer(n, self.p) * pi / N)\n",
    "        sine = sin(2 * outer(n, self.p) * pi / N)\n",
    "        cosine = repeat(expand_dims(cosine, axis=-1), J+1, axis=-1)\n",
    "        sine = repeat(expand_dims(sine, axis=-1), J+1, axis=-1)\n",
    "        fourier_expand = gamma * cosine + delta * sine\n",
    "        fourier = fourier_expand.sum(axis=1)\n",
    "\n",
    "        sigma_t = ravel(sigma_t)\n",
    "        component = fourier + quad + dummy\n",
    "        component = repeat(expand_dims(component, axis=1), sigma_t.shape[0], axis=1)  \n",
    "        sigma = repeat(expand_dims(sigma_t, axis=0), self.N, axis=0)\n",
    "        sigma_J = repeat(expand_dims(sigma, axis=-1), J+1, axis=-1)\n",
    "        for j in range(J+1):\n",
    "            sigma_J[:,:,j] = power(sigma_J[:,:,j], j)               \n",
    "        result = (sigma_J * component).sum(axis=-1)\n",
    "            \n",
    "        return result"
   ]
  },
  {
   "cell_type": "code",
   "execution_count": 8,
   "metadata": {},
   "outputs": [],
   "source": [
    "# AAPL stock\n",
    "stocks2 = stocks.T\n",
    "stocks2 = stocks2[:200].T\n",
    "avg_20day_volatility2 = avg_20day_volatility[:200]"
   ]
  },
  {
   "cell_type": "code",
   "execution_count": 9,
   "metadata": {},
   "outputs": [
    {
     "name": "stdout",
     "output_type": "stream",
     "text": [
      "optimizer success: True\n",
      "objective function (mse): 0.00001\n"
     ]
    }
   ],
   "source": [
    "fourier = FlexibleFourierRegression(N=39, di=[], J=6, P=20) # 39 10-minute intervals in each trade day\n",
    "res = fourier.train(stocks, avg_20day_volatility, 0.000001)\n",
    "print(\"optimizer success: {}\".format(res.success))\n",
    "print(\"objective function (mse): {:.5f}\".format(res.fun))"
   ]
  },
  {
   "cell_type": "code",
   "execution_count": 10,
   "metadata": {},
   "outputs": [
    {
     "data": {
      "text/plain": [
       "<matplotlib.legend.Legend at 0x1a5410ebb20>"
      ]
     },
     "execution_count": 10,
     "metadata": {},
     "output_type": "execute_result"
    },
    {
     "data": {
      "image/png": "[encoded data removed]",
      "text/plain": [
       "<Figure size 1440x576 with 1 Axes>"
      ]
     },
     "metadata": {
      "needs_background": "light"
     },
     "output_type": "display_data"
    }
   ],
   "source": [
    "n=230\n",
    "result = fourier.predict(avg_20day_volatility[n])\n",
    "\n",
    "fig, ax = plt.subplots(1, 1, figsize=(20, 8))\n",
    "ax.plot(stocks.T[n], label=\"dependent\")\n",
    "ax.plot(result, label=\"predict\")\n",
    "ax.legend()"
   ]
  },
  {
   "cell_type": "code",
   "execution_count": 11,
   "metadata": {},
   "outputs": [],
   "source": [
    "# QQQ\n",
    "stocks2_qqq = stocks_qqq.T\n",
    "stocks2_qqq = stocks2_qqq[:200].T\n",
    "avg_20day_volatility2_qqq = avg_20day_volatility_qqq[:200]"
   ]
  },
  {
   "cell_type": "code",
   "execution_count": 12,
   "metadata": {},
   "outputs": [
    {
     "name": "stdout",
     "output_type": "stream",
     "text": [
      "optimizer success: True\n",
      "objective function (mse): 0.00000\n"
     ]
    }
   ],
   "source": [
    "fourier_qqq = FlexibleFourierRegression(N=39, di=[], J=6, P=20) # 39 10-minute intervals in each trade day\n",
    "res_qqq = fourier_qqq.train(stocks_qqq, avg_20day_volatility_qqq, 0.000001)\n",
    "print(\"optimizer success: {}\".format(res_qqq.success))\n",
    "print(\"objective function (mse): {:.5f}\".format(res_qqq.fun))"
   ]
  },
  {
   "cell_type": "code",
   "execution_count": 13,
   "metadata": {},
   "outputs": [
    {
     "data": {
      "text/plain": [
       "<matplotlib.legend.Legend at 0x1a546eb0e20>"
      ]
     },
     "execution_count": 13,
     "metadata": {},
     "output_type": "execute_result"
    },
    {
     "data": {
      "image/png": "[encoded data removed]",
      "text/plain": [
       "<Figure size 1440x576 with 1 Axes>"
      ]
     },
     "metadata": {
      "needs_background": "light"
     },
     "output_type": "display_data"
    }
   ],
   "source": [
    "n=230\n",
    "result_qqq = fourier_qqq.predict(avg_20day_volatility_qqq[n])\n",
    "\n",
    "fig, ax = plt.subplots(1, 1, figsize=(20, 8))\n",
    "ax.plot(stocks_qqq.T[n], label=\"dependent\")\n",
    "ax.plot(result_qqq, label=\"predict\")\n",
    "ax.legend()"
   ]
  },
  {
   "cell_type": "code",
   "execution_count": 14,
   "metadata": {},
   "outputs": [],
   "source": [
    "results = [None for i in range(20)]\n",
    "for vol in avg_20day_volatility:\n",
    "    result = fourier.predict(vol)\n",
    "    results.append(result[-1][0])\n",
    "results = np.array(results)"
   ]
  },
  {
   "cell_type": "code",
   "execution_count": 15,
   "metadata": {},
   "outputs": [],
   "source": [
    "results_qqq = [None for i in range(20)]\n",
    "for vol in avg_20day_volatility_qqq:\n",
    "    result_qqq = fourier_qqq.predict(vol)\n",
    "    results_qqq.append(result_qqq[-1][0])\n",
    "results_qqq = np.array(results_qqq)"
   ]
  },
  {
   "cell_type": "code",
   "execution_count": 17,
   "metadata": {},
   "outputs": [
    {
     "data": {
      "text/html": [
       "<div>\n",
       "<style scoped>\n",
       "    .dataframe tbody tr th:only-of-type {\n",
       "        vertical-align: middle;\n",
       "    }\n",
       "\n",
       "    .dataframe tbody tr th {\n",
       "        vertical-align: top;\n",
       "    }\n",
       "\n",
       "    .dataframe thead th {\n",
       "        text-align: right;\n",
       "    }\n",
       "</style>\n",
       "<table border=\"1\" class=\"dataframe\">\n",
       "  <thead>\n",
       "    <tr style=\"text-align: right;\">\n",
       "      <th></th>\n",
       "      <th>Date</th>\n",
       "      <th>Volume</th>\n",
       "      <th>Volume_qqq</th>\n",
       "      <th>Daily_Volatility_minus4pm</th>\n",
       "      <th>Daily_Volatility</th>\n",
       "      <th>Auction_Volatility_prop</th>\n",
       "      <th>Avg20_Volatility</th>\n",
       "      <th>Avg20_Volatility_qqq</th>\n",
       "      <th>Anderson</th>\n",
       "      <th>Anderson_qqq</th>\n",
       "      <th>Auction_Log_Returns</th>\n",
       "      <th>Auction_Volatility_pred</th>\n",
       "    </tr>\n",
       "  </thead>\n",
       "  <tbody>\n",
       "    <tr>\n",
       "      <th>20</th>\n",
       "      <td>2020-09-30</td>\n",
       "      <td>5854171</td>\n",
       "      <td>34670209</td>\n",
       "      <td>0.038655</td>\n",
       "      <td>0.038465</td>\n",
       "      <td>0.995083</td>\n",
       "      <td>0.045566</td>\n",
       "      <td>0.015458</td>\n",
       "      <td>0.00402404</td>\n",
       "      <td>0.00272659</td>\n",
       "      <td>0.003970</td>\n",
       "      <td>0.003963</td>\n",
       "    </tr>\n",
       "    <tr>\n",
       "      <th>21</th>\n",
       "      <td>2020-10-01</td>\n",
       "      <td>5049707</td>\n",
       "      <td>29708330</td>\n",
       "      <td>0.027840</td>\n",
       "      <td>0.027625</td>\n",
       "      <td>0.992277</td>\n",
       "      <td>0.043645</td>\n",
       "      <td>0.014755</td>\n",
       "      <td>0.00408204</td>\n",
       "      <td>0.00262848</td>\n",
       "      <td>0.002633</td>\n",
       "      <td>0.003503</td>\n",
       "    </tr>\n",
       "    <tr>\n",
       "      <th>22</th>\n",
       "      <td>2020-10-02</td>\n",
       "      <td>7959064</td>\n",
       "      <td>47305127</td>\n",
       "      <td>0.039021</td>\n",
       "      <td>0.039146</td>\n",
       "      <td>1.003195</td>\n",
       "      <td>0.043169</td>\n",
       "      <td>0.015046</td>\n",
       "      <td>0.00408946</td>\n",
       "      <td>0.00266981</td>\n",
       "      <td>0.006964</td>\n",
       "      <td>0.003952</td>\n",
       "    </tr>\n",
       "    <tr>\n",
       "      <th>23</th>\n",
       "      <td>2020-10-05</td>\n",
       "      <td>4589901</td>\n",
       "      <td>18568359</td>\n",
       "      <td>0.029581</td>\n",
       "      <td>0.029386</td>\n",
       "      <td>0.993387</td>\n",
       "      <td>0.041726</td>\n",
       "      <td>0.014187</td>\n",
       "      <td>0.00409514</td>\n",
       "      <td>0.00254502</td>\n",
       "      <td>0.003302</td>\n",
       "      <td>0.005295</td>\n",
       "    </tr>\n",
       "    <tr>\n",
       "      <th>24</th>\n",
       "      <td>2020-10-06</td>\n",
       "      <td>3495335</td>\n",
       "      <td>33228184</td>\n",
       "      <td>0.024895</td>\n",
       "      <td>0.024761</td>\n",
       "      <td>0.994597</td>\n",
       "      <td>0.039966</td>\n",
       "      <td>0.014234</td>\n",
       "      <td>0.00406799</td>\n",
       "      <td>0.002552</td>\n",
       "      <td>0.002617</td>\n",
       "      <td>0.002779</td>\n",
       "    </tr>\n",
       "    <tr>\n",
       "      <th>...</th>\n",
       "      <td>...</td>\n",
       "      <td>...</td>\n",
       "      <td>...</td>\n",
       "      <td>...</td>\n",
       "      <td>...</td>\n",
       "      <td>...</td>\n",
       "      <td>...</td>\n",
       "      <td>...</td>\n",
       "      <td>...</td>\n",
       "      <td>...</td>\n",
       "      <td>...</td>\n",
       "      <td>...</td>\n",
       "    </tr>\n",
       "    <tr>\n",
       "      <th>246</th>\n",
       "      <td>2021-08-26</td>\n",
       "      <td>2856803</td>\n",
       "      <td>21595483</td>\n",
       "      <td>0.019671</td>\n",
       "      <td>0.019455</td>\n",
       "      <td>0.988989</td>\n",
       "      <td>0.019727</td>\n",
       "      <td>0.005878</td>\n",
       "      <td>0.00113299</td>\n",
       "      <td>0.000902122</td>\n",
       "      <td>0.001232</td>\n",
       "      <td>0.004497</td>\n",
       "    </tr>\n",
       "    <tr>\n",
       "      <th>247</th>\n",
       "      <td>2021-08-27</td>\n",
       "      <td>1658042</td>\n",
       "      <td>18933101</td>\n",
       "      <td>0.020940</td>\n",
       "      <td>0.020673</td>\n",
       "      <td>0.987219</td>\n",
       "      <td>0.019817</td>\n",
       "      <td>0.005928</td>\n",
       "      <td>0.00115649</td>\n",
       "      <td>0.000914363</td>\n",
       "      <td>0.000470</td>\n",
       "      <td>0.001280</td>\n",
       "    </tr>\n",
       "    <tr>\n",
       "      <th>248</th>\n",
       "      <td>2021-08-30</td>\n",
       "      <td>3123166</td>\n",
       "      <td>18151158</td>\n",
       "      <td>0.020059</td>\n",
       "      <td>0.019814</td>\n",
       "      <td>0.987748</td>\n",
       "      <td>0.019817</td>\n",
       "      <td>0.005850</td>\n",
       "      <td>0.0011564</td>\n",
       "      <td>0.000895189</td>\n",
       "      <td>0.000720</td>\n",
       "      <td>0.000312</td>\n",
       "    </tr>\n",
       "    <tr>\n",
       "      <th>249</th>\n",
       "      <td>2021-08-31</td>\n",
       "      <td>21874278</td>\n",
       "      <td>18406465</td>\n",
       "      <td>0.020925</td>\n",
       "      <td>0.020686</td>\n",
       "      <td>0.988600</td>\n",
       "      <td>0.019899</td>\n",
       "      <td>0.005799</td>\n",
       "      <td>0.00117794</td>\n",
       "      <td>0.000882622</td>\n",
       "      <td>0.001141</td>\n",
       "      <td>0.000751</td>\n",
       "    </tr>\n",
       "    <tr>\n",
       "      <th>250</th>\n",
       "      <td>2021-09-01</td>\n",
       "      <td>8887148</td>\n",
       "      <td>17326952</td>\n",
       "      <td>0.021892</td>\n",
       "      <td>0.021611</td>\n",
       "      <td>0.987157</td>\n",
       "      <td>0.020062</td>\n",
       "      <td>0.005697</td>\n",
       "      <td>0.00122008</td>\n",
       "      <td>0.000857638</td>\n",
       "      <td>0.000138</td>\n",
       "      <td>0.001193</td>\n",
       "    </tr>\n",
       "  </tbody>\n",
       "</table>\n",
       "<p>231 rows × 12 columns</p>\n",
       "</div>"
      ],
      "text/plain": [
       "           Date    Volume  Volume_qqq  Daily_Volatility_minus4pm  \\\n",
       "20   2020-09-30   5854171    34670209                   0.038655   \n",
       "21   2020-10-01   5049707    29708330                   0.027840   \n",
       "22   2020-10-02   7959064    47305127                   0.039021   \n",
       "23   2020-10-05   4589901    18568359                   0.029581   \n",
       "24   2020-10-06   3495335    33228184                   0.024895   \n",
       "..          ...       ...         ...                        ...   \n",
       "246  2021-08-26   2856803    21595483                   0.019671   \n",
       "247  2021-08-27   1658042    18933101                   0.020940   \n",
       "248  2021-08-30   3123166    18151158                   0.020059   \n",
       "249  2021-08-31  21874278    18406465                   0.020925   \n",
       "250  2021-09-01   8887148    17326952                   0.021892   \n",
       "\n",
       "     Daily_Volatility  Auction_Volatility_prop  Avg20_Volatility  \\\n",
       "20           0.038465                 0.995083          0.045566   \n",
       "21           0.027625                 0.992277          0.043645   \n",
       "22           0.039146                 1.003195          0.043169   \n",
       "23           0.029386                 0.993387          0.041726   \n",
       "24           0.024761                 0.994597          0.039966   \n",
       "..                ...                      ...               ...   \n",
       "246          0.019455                 0.988989          0.019727   \n",
       "247          0.020673                 0.987219          0.019817   \n",
       "248          0.019814                 0.987748          0.019817   \n",
       "249          0.020686                 0.988600          0.019899   \n",
       "250          0.021611                 0.987157          0.020062   \n",
       "\n",
       "     Avg20_Volatility_qqq    Anderson Anderson_qqq  Auction_Log_Returns  \\\n",
       "20               0.015458  0.00402404   0.00272659             0.003970   \n",
       "21               0.014755  0.00408204   0.00262848             0.002633   \n",
       "22               0.015046  0.00408946   0.00266981             0.006964   \n",
       "23               0.014187  0.00409514   0.00254502             0.003302   \n",
       "24               0.014234  0.00406799     0.002552             0.002617   \n",
       "..                    ...         ...          ...                  ...   \n",
       "246              0.005878  0.00113299  0.000902122             0.001232   \n",
       "247              0.005928  0.00115649  0.000914363             0.000470   \n",
       "248              0.005850   0.0011564  0.000895189             0.000720   \n",
       "249              0.005799  0.00117794  0.000882622             0.001141   \n",
       "250              0.005697  0.00122008  0.000857638             0.000138   \n",
       "\n",
       "     Auction_Volatility_pred  \n",
       "20                  0.003963  \n",
       "21                  0.003503  \n",
       "22                  0.003952  \n",
       "23                  0.005295  \n",
       "24                  0.002779  \n",
       "..                       ...  \n",
       "246                 0.004497  \n",
       "247                 0.001280  \n",
       "248                 0.000312  \n",
       "249                 0.000751  \n",
       "250                 0.001193  \n",
       "\n",
       "[231 rows x 12 columns]"
      ]
     },
     "execution_count": 17,
     "metadata": {},
     "output_type": "execute_result"
    }
   ],
   "source": [
    "# Simple linear regression with Anderson coefficient\n",
    "final_df = pd.DataFrame({\n",
    "    'Date': dates_final, \n",
    "    'Volume': volumes,\n",
    "    'Volume_qqq': volumes_qqq,\n",
    "    \n",
    "    'Daily_Volatility_minus4pm': volatility_df['daily_volatility_minus4pm'],\n",
    "    'Daily_Volatility': volatility_df['daily_volatility'],\n",
    "    'Auction_Volatility_prop': volatility_df['daily_volatility']/volatility_df['daily_volatility_minus4pm'],\n",
    "    \n",
    "    'Avg20_Volatility': avg_20day_volatility_raw, \n",
    "    'Avg20_Volatility_qqq': avg_20day_volatility_raw_qqq, \n",
    "    'Anderson': results,\n",
    "    'Anderson_qqq': results_qqq,\n",
    "    'Auction_Log_Returns': auction_log_returns\n",
    "})\n",
    "\n",
    "# daily_volatility_minus4pm.append(np.sqrt(39)*np.sqrt(np.mean(np.square(apple_today_10min['log_returns'].values[:-1]))))\n",
    "\n",
    "for i in range(1, len(final_df)):\n",
    "    \n",
    "    # Predict today's \"Daily_Volatility\" based on yesterday's ratio and today's volatility before 4pm\n",
    "    today_step1 = final_df.loc[i, 'Daily_Volatility_minus4pm']*final_df.loc[i-1, 'Auction_Volatility_prop']\n",
    "    today_step2 = (today_step1/np.sqrt(39))**2\n",
    "    int_step = (final_df.loc[i, 'Daily_Volatility_minus4pm']/np.sqrt(39))**2\n",
    "    today_step3 = np.sqrt((today_step2*39 - int_step*38))\n",
    "    final_df.loc[i, 'Auction_Volatility_pred'] = today_step3\n",
    "\n",
    "final_df = final_df[final_df['Anderson'] > -float('inf')]\n",
    "final_df"
   ]
  },
  {
   "cell_type": "code",
   "execution_count": 18,
   "metadata": {},
   "outputs": [
    {
     "data": {
      "text/plain": [
       "LinearRegression()"
      ]
     },
     "execution_count": 18,
     "metadata": {},
     "output_type": "execute_result"
    }
   ],
   "source": [
    "####################################\n",
    "# Linear Model with Anderson\n",
    "####################################\n",
    "\n",
    "from sklearn.linear_model import LinearRegression\n",
    "model_volatility = LinearRegression()\n",
    "model_volatility.fit(final_df[['Volume','Avg20_Volatility','Anderson']][:200], final_df[['Auction_Log_Returns']][:200])"
   ]
  },
  {
   "cell_type": "code",
   "execution_count": 19,
   "metadata": {},
   "outputs": [
    {
     "name": "stdout",
     "output_type": "stream",
     "text": [
      "Within 1 confidence interval was 0.5806451612903226\n",
      "Within 2 confidence intervals was 0.9354838709677419\n",
      "Within 3 confidence intervals was 1.0\n"
     ]
    }
   ],
   "source": [
    "####################################\n",
    "# Confidence Interval with Anderson\n",
    "####################################\n",
    "\n",
    "y_pred = model_volatility.predict(final_df[['Volume','Avg20_Volatility','Anderson']][200:])\n",
    "y_pred_var = pd.DataFrame({'Date': final_df['Date'][200:], 'pred_ratio': [np.exp(i[0]) for i in y_pred]})\n",
    "\n",
    "# Rows with 3:50pm information\n",
    "apple_price_1550 = apple[apple['Local_Date_Time'].str.contains(\"15:50\")]\n",
    "\n",
    "# Merge the above two tables\n",
    "merged1 = apple_price_1550.merge(apple_auction, on='Date')\n",
    "merged2 = merged1.merge(y_pred_var, on='Date')\n",
    "merged2['Predicted_Variance'] = merged2['Open']*merged2['pred_ratio'] - merged2['Open']\n",
    "merged2.loc[(merged2['Price']<merged2['Open']+merged2['Predicted_Variance']) & (merged2['Price']>=merged2['Open']-merged2['Predicted_Variance']), 'Within_1Interval'] = True \n",
    "merged2.loc[(merged2['Price']>=merged2['Open']+merged2['Predicted_Variance']) | (merged2['Price']<merged2['Open']-merged2['Predicted_Variance']), 'Within_1Interval'] = False\n",
    "merged2.loc[(merged2['Price']<merged2['Open']+2*merged2['Predicted_Variance']) & (merged2['Price']>=merged2['Open']-2*merged2['Predicted_Variance']), 'Within_2Interval'] = True \n",
    "merged2.loc[(merged2['Price']>=merged2['Open']+2*merged2['Predicted_Variance']) | (merged2['Price']<merged2['Open']-2*merged2['Predicted_Variance']), 'Within_2Interval'] = False\n",
    "merged2.loc[(merged2['Price']<merged2['Open']+3*merged2['Predicted_Variance']) & (merged2['Price']>=merged2['Open']-3*merged2['Predicted_Variance']), 'Within_3Interval'] = True \n",
    "merged2.loc[(merged2['Price']>=merged2['Open']+3*merged2['Predicted_Variance']) | (merged2['Price']<merged2['Open']-3*merged2['Predicted_Variance']), 'Within_3Interval'] = False\n",
    "\n",
    "print('Within 1 confidence interval was', merged2[merged2['Within_1Interval'] == True].shape[0] / merged2.shape[0])\n",
    "print('Within 2 confidence intervals was', merged2[merged2['Within_2Interval'] == True].shape[0] / merged2.shape[0])\n",
    "print('Within 3 confidence intervals was', merged2[merged2['Within_3Interval'] == True].shape[0] / merged2.shape[0])"
   ]
  },
  {
   "cell_type": "markdown",
   "metadata": {},
   "source": [
    "With the Anderson model, it follows the normal distribution closely."
   ]
  },
  {
   "cell_type": "code",
   "execution_count": 20,
   "metadata": {},
   "outputs": [
    {
     "data": {
      "text/plain": [
       "0.7172387572498891"
      ]
     },
     "execution_count": 20,
     "metadata": {},
     "output_type": "execute_result"
    }
   ],
   "source": [
    "np.mean(merged2['Predicted_Variance']) # narrower than not using Anderson"
   ]
  },
  {
   "cell_type": "code",
   "execution_count": 47,
   "metadata": {},
   "outputs": [
    {
     "data": {
      "text/plain": [
       "LinearRegression()"
      ]
     },
     "execution_count": 47,
     "metadata": {},
     "output_type": "execute_result"
    }
   ],
   "source": [
    "####################################\n",
    "# Linear Model with Anderson QQQ\n",
    "####################################\n",
    "\n",
    "from sklearn.linear_model import LinearRegression, Ridge\n",
    "model_volatility_qqq = LinearRegression()\n",
    "model_volatility_qqq.fit(final_df[['Volume','Avg20_Volatility','Avg20_Volatility_qqq','Anderson','Auction_Volatility_pred']][:200], final_df[['Auction_Log_Returns']][:200])\n",
    "\n",
    "# model_volatility_qqq = Ridge()\n",
    "# model_volatility_qqq.fit(final_df[['Volume','Avg20_Volatility','Avg20_Volatility_qqq','Anderson']][:200], final_df[['Auction_Log_Returns']][:200])\n"
   ]
  },
  {
   "cell_type": "code",
   "execution_count": 48,
   "metadata": {},
   "outputs": [
    {
     "name": "stdout",
     "output_type": "stream",
     "text": [
      "Within 1 confidence interval was 0.5806451612903226\n",
      "Within 2 confidence intervals was 0.9032258064516129\n",
      "Within 3 confidence intervals was 1.0\n"
     ]
    }
   ],
   "source": [
    "####################################\n",
    "# Confidence Interval with QQQ\n",
    "####################################\n",
    "\n",
    "y_pred_qqq = model_volatility_qqq.predict(final_df[['Volume','Avg20_Volatility','Avg20_Volatility_qqq','Anderson','Auction_Volatility_pred']][200:])\n",
    "y_pred_var_qqq = pd.DataFrame({'Date': final_df['Date'][200:], 'pred_ratio': [np.exp(i[0]) for i in y_pred_qqq]})\n",
    "\n",
    "# Rows with 3:50pm information\n",
    "apple_price_1550 = apple[apple['Local_Date_Time'].str.contains(\"15:50\")]\n",
    "\n",
    "# Merge the above two tables\n",
    "merged1 = apple_price_1550.merge(apple_auction, on='Date')\n",
    "merged2 = merged1.merge(y_pred_var_qqq, on='Date')\n",
    "merged2['Predicted_Variance'] = merged2['Open']*merged2['pred_ratio'] - merged2['Open']\n",
    "merged2.loc[(merged2['Price']<merged2['Open']+merged2['Predicted_Variance']) & (merged2['Price']>=merged2['Open']-merged2['Predicted_Variance']), 'Within_1Interval'] = True \n",
    "merged2.loc[(merged2['Price']>=merged2['Open']+merged2['Predicted_Variance']) | (merged2['Price']<merged2['Open']-merged2['Predicted_Variance']), 'Within_1Interval'] = False\n",
    "merged2.loc[(merged2['Price']<merged2['Open']+2*merged2['Predicted_Variance']) & (merged2['Price']>=merged2['Open']-2*merged2['Predicted_Variance']), 'Within_2Interval'] = True \n",
    "merged2.loc[(merged2['Price']>=merged2['Open']+2*merged2['Predicted_Variance']) | (merged2['Price']<merged2['Open']-2*merged2['Predicted_Variance']), 'Within_2Interval'] = False\n",
    "merged2.loc[(merged2['Price']<merged2['Open']+3*merged2['Predicted_Variance']) & (merged2['Price']>=merged2['Open']-3*merged2['Predicted_Variance']), 'Within_3Interval'] = True \n",
    "merged2.loc[(merged2['Price']>=merged2['Open']+3*merged2['Predicted_Variance']) | (merged2['Price']<merged2['Open']-3*merged2['Predicted_Variance']), 'Within_3Interval'] = False\n",
    "\n",
    "print('Within 1 confidence interval was', merged2[merged2['Within_1Interval'] == True].shape[0] / merged2.shape[0])\n",
    "print('Within 2 confidence intervals was', merged2[merged2['Within_2Interval'] == True].shape[0] / merged2.shape[0])\n",
    "print('Within 3 confidence intervals was', merged2[merged2['Within_3Interval'] == True].shape[0] / merged2.shape[0])"
   ]
  },
  {
   "cell_type": "markdown",
   "metadata": {},
   "source": [
    "With the QQQ model, it follows the normal distribution closely."
   ]
  },
  {
   "cell_type": "code",
   "execution_count": 49,
   "metadata": {},
   "outputs": [
    {
     "data": {
      "text/plain": [
       "0.6979061362455647"
      ]
     },
     "execution_count": 49,
     "metadata": {},
     "output_type": "execute_result"
    }
   ],
   "source": [
    "np.mean(merged2['Predicted_Variance']) # narrower than not using QQQ"
   ]
  },
  {
   "cell_type": "code",
   "execution_count": 24,
   "metadata": {},
   "outputs": [
    {
     "data": {
      "text/html": [
       "<div>\n",
       "<style scoped>\n",
       "    .dataframe tbody tr th:only-of-type {\n",
       "        vertical-align: middle;\n",
       "    }\n",
       "\n",
       "    .dataframe tbody tr th {\n",
       "        vertical-align: top;\n",
       "    }\n",
       "\n",
       "    .dataframe thead th {\n",
       "        text-align: right;\n",
       "    }\n",
       "</style>\n",
       "<table border=\"1\" class=\"dataframe\">\n",
       "  <thead>\n",
       "    <tr style=\"text-align: right;\">\n",
       "      <th></th>\n",
       "      <th>Date</th>\n",
       "      <th>Volume</th>\n",
       "      <th>Avg20_Volatility</th>\n",
       "      <th>Auction_Log_Returns</th>\n",
       "    </tr>\n",
       "  </thead>\n",
       "  <tbody>\n",
       "    <tr>\n",
       "      <th>0</th>\n",
       "      <td>2020-09-01</td>\n",
       "      <td>34581629</td>\n",
       "      <td>0.086565</td>\n",
       "      <td>0.003568</td>\n",
       "    </tr>\n",
       "    <tr>\n",
       "      <th>1</th>\n",
       "      <td>2020-09-02</td>\n",
       "      <td>12603905</td>\n",
       "      <td>0.084836</td>\n",
       "      <td>0.004664</td>\n",
       "    </tr>\n",
       "    <tr>\n",
       "      <th>2</th>\n",
       "      <td>2020-09-03</td>\n",
       "      <td>13853515</td>\n",
       "      <td>0.080510</td>\n",
       "      <td>0.006076</td>\n",
       "    </tr>\n",
       "    <tr>\n",
       "      <th>3</th>\n",
       "      <td>2020-09-04</td>\n",
       "      <td>8562668</td>\n",
       "      <td>0.077688</td>\n",
       "      <td>0.001732</td>\n",
       "    </tr>\n",
       "    <tr>\n",
       "      <th>4</th>\n",
       "      <td>2020-09-08</td>\n",
       "      <td>5070080</td>\n",
       "      <td>0.069793</td>\n",
       "      <td>0.003215</td>\n",
       "    </tr>\n",
       "    <tr>\n",
       "      <th>...</th>\n",
       "      <td>...</td>\n",
       "      <td>...</td>\n",
       "      <td>...</td>\n",
       "      <td>...</td>\n",
       "    </tr>\n",
       "    <tr>\n",
       "      <th>246</th>\n",
       "      <td>2021-08-26</td>\n",
       "      <td>2856803</td>\n",
       "      <td>0.019727</td>\n",
       "      <td>0.001232</td>\n",
       "    </tr>\n",
       "    <tr>\n",
       "      <th>247</th>\n",
       "      <td>2021-08-27</td>\n",
       "      <td>1658042</td>\n",
       "      <td>0.019817</td>\n",
       "      <td>0.000470</td>\n",
       "    </tr>\n",
       "    <tr>\n",
       "      <th>248</th>\n",
       "      <td>2021-08-30</td>\n",
       "      <td>3123166</td>\n",
       "      <td>0.019817</td>\n",
       "      <td>0.000720</td>\n",
       "    </tr>\n",
       "    <tr>\n",
       "      <th>249</th>\n",
       "      <td>2021-08-31</td>\n",
       "      <td>21874278</td>\n",
       "      <td>0.019899</td>\n",
       "      <td>0.001141</td>\n",
       "    </tr>\n",
       "    <tr>\n",
       "      <th>250</th>\n",
       "      <td>2021-09-01</td>\n",
       "      <td>8887148</td>\n",
       "      <td>0.020062</td>\n",
       "      <td>0.000138</td>\n",
       "    </tr>\n",
       "  </tbody>\n",
       "</table>\n",
       "<p>251 rows × 4 columns</p>\n",
       "</div>"
      ],
      "text/plain": [
       "           Date    Volume  Avg20_Volatility  Auction_Log_Returns\n",
       "0    2020-09-01  34581629          0.086565             0.003568\n",
       "1    2020-09-02  12603905          0.084836             0.004664\n",
       "2    2020-09-03  13853515          0.080510             0.006076\n",
       "3    2020-09-04   8562668          0.077688             0.001732\n",
       "4    2020-09-08   5070080          0.069793             0.003215\n",
       "..          ...       ...               ...                  ...\n",
       "246  2021-08-26   2856803          0.019727             0.001232\n",
       "247  2021-08-27   1658042          0.019817             0.000470\n",
       "248  2021-08-30   3123166          0.019817             0.000720\n",
       "249  2021-08-31  21874278          0.019899             0.001141\n",
       "250  2021-09-01   8887148          0.020062             0.000138\n",
       "\n",
       "[251 rows x 4 columns]"
      ]
     },
     "execution_count": 24,
     "metadata": {},
     "output_type": "execute_result"
    }
   ],
   "source": [
    "# Simple linear regression without Anderson coefficient\n",
    "final_df_no_Anderson = pd.DataFrame({\n",
    "    'Date': dates_final,\n",
    "    'Volume': volumes,\n",
    "    'Avg20_Volatility': avg_20day_volatility_raw, \n",
    "    'Auction_Log_Returns': auction_log_returns\n",
    "})\n",
    "final_df_no_Anderson = final_df_no_Anderson[np.isnan(final_df_no_Anderson['Avg20_Volatility']) == False]\n",
    "final_df_no_Anderson"
   ]
  },
  {
   "cell_type": "code",
   "execution_count": 25,
   "metadata": {},
   "outputs": [
    {
     "data": {
      "text/plain": [
       "LinearRegression()"
      ]
     },
     "execution_count": 25,
     "metadata": {},
     "output_type": "execute_result"
    }
   ],
   "source": [
    "####################################\n",
    "# Linear Model without Anderson\n",
    "####################################\n",
    "\n",
    "from sklearn.linear_model import LinearRegression\n",
    "model_no_volatility = LinearRegression()\n",
    "model_no_volatility.fit(final_df_no_Anderson[['Volume','Avg20_Volatility']][:200], final_df_no_Anderson[['Auction_Log_Returns']][:200])"
   ]
  },
  {
   "cell_type": "code",
   "execution_count": 26,
   "metadata": {},
   "outputs": [
    {
     "name": "stdout",
     "output_type": "stream",
     "text": [
      "Within 1 confidence interval was 0.803921568627451\n",
      "Within 2 confidence intervals was 1.0\n",
      "Within 3 confidence intervals was 1.0\n"
     ]
    }
   ],
   "source": [
    "#######################################\n",
    "# Confidence Interval without Anderson\n",
    "#######################################\n",
    "\n",
    "y_pred_no_Anderson = model_no_volatility.predict(final_df_no_Anderson[['Volume','Avg20_Volatility']][200:])\n",
    "y_pred_var_no_Anderson = pd.DataFrame({'Date': final_df_no_Anderson['Date'][200:], 'pred_ratio': [np.exp(i[0]) for i in y_pred_no_Anderson]})\n",
    "\n",
    "# Rows with 3:50pm information\n",
    "apple_price_1550 = apple[apple['Local_Date_Time'].str.contains(\"15:50\")]\n",
    "\n",
    "# Merge the above two tables\n",
    "merged1 = apple_price_1550.merge(apple_auction, on='Date')\n",
    "merged2 = merged1.merge(y_pred_var_no_Anderson, on='Date')\n",
    "merged2['Predicted_Variance'] = merged2['Open']*merged2['pred_ratio'] - merged2['Open']\n",
    "merged2.loc[(merged2['Price']<merged2['Open']+merged2['Predicted_Variance']) & (merged2['Price']>=merged2['Open']-merged2['Predicted_Variance']), 'Within_1Interval'] = True \n",
    "merged2.loc[(merged2['Price']>=merged2['Open']+merged2['Predicted_Variance']) | (merged2['Price']<merged2['Open']-merged2['Predicted_Variance']), 'Within_1Interval'] = False\n",
    "merged2.loc[(merged2['Price']<merged2['Open']+2*merged2['Predicted_Variance']) & (merged2['Price']>=merged2['Open']-2*merged2['Predicted_Variance']), 'Within_2Interval'] = True \n",
    "merged2.loc[(merged2['Price']>=merged2['Open']+2*merged2['Predicted_Variance']) | (merged2['Price']<merged2['Open']-2*merged2['Predicted_Variance']), 'Within_2Interval'] = False\n",
    "merged2.loc[(merged2['Price']<merged2['Open']+3*merged2['Predicted_Variance']) & (merged2['Price']>=merged2['Open']-3*merged2['Predicted_Variance']), 'Within_3Interval'] = True \n",
    "merged2.loc[(merged2['Price']>=merged2['Open']+3*merged2['Predicted_Variance']) | (merged2['Price']<merged2['Open']-3*merged2['Predicted_Variance']), 'Within_3Interval'] = False\n",
    "\n",
    "print('Within 1 confidence interval was', merged2[merged2['Within_1Interval'] == True].shape[0] / merged2.shape[0])\n",
    "print('Within 2 confidence intervals was', merged2[merged2['Within_2Interval'] == True].shape[0] / merged2.shape[0])\n",
    "print('Within 3 confidence intervals was', merged2[merged2['Within_3Interval'] == True].shape[0] / merged2.shape[0])"
   ]
  },
  {
   "cell_type": "markdown",
   "metadata": {},
   "source": [
    "Without the Anderson model, it does not follow the normal distribution as closely."
   ]
  },
  {
   "cell_type": "code",
   "execution_count": 27,
   "metadata": {},
   "outputs": [
    {
     "data": {
      "text/plain": [
       "1.060454476146459"
      ]
     },
     "execution_count": 27,
     "metadata": {},
     "output_type": "execute_result"
    }
   ],
   "source": [
    "np.mean(merged2['Predicted_Variance'])"
   ]
  },
  {
   "cell_type": "code",
   "execution_count": null,
   "metadata": {},
   "outputs": [],
   "source": []
  },
  {
   "cell_type": "code",
   "execution_count": 45,
   "metadata": {},
   "outputs": [
    {
     "name": "stdout",
     "output_type": "stream",
     "text": [
      "Model Coefficients: [[1.11827711e-10 5.66925851e-02 4.11595153e-01]]\n",
      "Mean Absolute Error: 0.0009027200107514949\n",
      "Mean Squared Error: 1.3261769217609036e-06\n",
      "Coefficient of Determination: -0.10595846039526524\n"
     ]
    }
   ],
   "source": [
    "########################################\n",
    "# Linear Regression Output with Anderson\n",
    "########################################\n",
    "\n",
    "from sklearn.metrics import mean_squared_error, r2_score, mean_absolute_error\n",
    "# Printout relevant metrics\n",
    "print(\"Model Coefficients:\", model_volatility.coef_)\n",
    "print(\"Mean Absolute Error:\", mean_absolute_error(final_df[['Auction_Log_Returns']][200:], y_pred))\n",
    "print(\"Mean Squared Error:\", mean_squared_error(final_df[['Auction_Log_Returns']][200:], y_pred))\n",
    "print(\"Coefficient of Determination:\", r2_score(final_df[['Auction_Log_Returns']][200:], y_pred))"
   ]
  },
  {
   "cell_type": "code",
   "execution_count": 46,
   "metadata": {},
   "outputs": [
    {
     "name": "stdout",
     "output_type": "stream",
     "text": [
      "Model Coefficients: [[ 1.26111326e-10 -2.65876140e-02  2.04351451e-01  4.67519506e-01]]\n",
      "Mean Absolute Error: 0.000886613468063947\n",
      "Mean Squared Error: 1.3880660468553118e-06\n",
      "Coefficient of Determination: -0.15757057969963206\n"
     ]
    }
   ],
   "source": [
    "########################################\n",
    "# Linear Regression Output with Anderson + QQQ\n",
    "########################################\n",
    "\n",
    "from sklearn.metrics import mean_squared_error, r2_score, mean_absolute_error\n",
    "# Printout relevant metrics\n",
    "print(\"Model Coefficients:\", model_volatility_qqq.coef_)\n",
    "print(\"Mean Absolute Error:\", mean_absolute_error(final_df[['Auction_Log_Returns']][200:], y_pred_qqq))\n",
    "print(\"Mean Squared Error:\", mean_squared_error(final_df[['Auction_Log_Returns']][200:], y_pred_qqq))\n",
    "print(\"Coefficient of Determination:\", r2_score(final_df[['Auction_Log_Returns']][200:], y_pred_qqq))"
   ]
  },
  {
   "cell_type": "code",
   "execution_count": 30,
   "metadata": {},
   "outputs": [
    {
     "name": "stdout",
     "output_type": "stream",
     "text": [
      "Model Coefficients: [[5.52484611e-11 1.62035037e-02]]\n",
      "Mean Absolute Error: 0.001585325647391362\n",
      "Mean Squared Error: 3.0416423823631616e-06\n",
      "Coefficient of Determination: -0.7081123294061507\n"
     ]
    }
   ],
   "source": [
    "###########################################\n",
    "# Linear Regression Output without Anderson\n",
    "###########################################\n",
    "\n",
    "from sklearn.metrics import mean_squared_error, r2_score, mean_absolute_error\n",
    "# Printout relevant metrics\n",
    "print(\"Model Coefficients:\", model_no_volatility.coef_)\n",
    "print(\"Mean Absolute Error:\", mean_absolute_error(final_df_no_Anderson[['Auction_Log_Returns']][200:], y_pred_no_Anderson))\n",
    "print(\"Mean Squared Error:\", mean_squared_error(final_df_no_Anderson[['Auction_Log_Returns']][200:], y_pred_no_Anderson))\n",
    "print(\"Coefficient of Determination:\", r2_score(final_df_no_Anderson[['Auction_Log_Returns']][200:], y_pred_no_Anderson))"
   ]
  },
  {
   "cell_type": "code",
   "execution_count": null,
   "metadata": {},
   "outputs": [],
   "source": []
  },
  {
   "cell_type": "code",
   "execution_count": 31,
   "metadata": {},
   "outputs": [],
   "source": [
    "# Adding QQQ data"
   ]
  },
  {
   "cell_type": "code",
   "execution_count": null,
   "metadata": {},
   "outputs": [],
   "source": []
  },
  {
   "cell_type": "code",
   "execution_count": null,
   "metadata": {},
   "outputs": [],
   "source": []
  },
  {
   "cell_type": "code",
   "execution_count": null,
   "metadata": {},
   "outputs": [],
   "source": []
  }
 ],
 "metadata": {
  "celltoolbar": "Raw Cell Format",
  "kernelspec": {
   "display_name": "Python 3",
   "language": "python",
   "name": "python3"
  },
  "language_info": {
   "codemirror_mode": {
    "name": "ipython",
    "version": 3
   },
   "file_extension": ".py",
   "mimetype": "text/x-python",
   "name": "python",
   "nbconvert_exporter": "python",
   "pygments_lexer": "ipython3",
   "version": "3.8.5"
  }
 },
 "nbformat": 4,
 "nbformat_minor": 4
}
